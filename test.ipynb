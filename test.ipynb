{
 "cells": [
  {
   "cell_type": "code",
   "execution_count": 1,
   "metadata": {},
   "outputs": [],
   "source": [
    "from DSA.dmd import DMD\n",
    "from DSA.simdist import SimilarityTransformDist\n",
    "import torch\n",
    "import numpy as np\n",
    "from sklearn.manifold import MDS\n",
    "import seaborn as sns\n",
    "import matplotlib.pyplot as plt\n",
    "import pandas as pd\n",
    "from tqdm import tqdm"
   ]
  },
  {
   "cell_type": "code",
   "execution_count": 25,
   "metadata": {},
   "outputs": [
    {
     "name": "stderr",
     "output_type": "stream",
     "text": [
      "  0%|          | 0/3 [00:00<?, ?it/s]"
     ]
    },
    {
     "name": "stdout",
     "output_type": "stream",
     "text": [
      "torch.Size([200, 10000, 2])\n"
     ]
    },
    {
     "name": "stderr",
     "output_type": "stream",
     "text": [
      " 33%|███▎      | 1/3 [00:47<01:34, 47.47s/it]"
     ]
    },
    {
     "name": "stdout",
     "output_type": "stream",
     "text": [
      "torch.Size([200, 10000, 2])\n"
     ]
    },
    {
     "name": "stderr",
     "output_type": "stream",
     "text": [
      " 67%|██████▋   | 2/3 [01:31<00:45, 45.52s/it]"
     ]
    },
    {
     "name": "stdout",
     "output_type": "stream",
     "text": [
      "torch.Size([200, 10000, 2])\n"
     ]
    },
    {
     "name": "stderr",
     "output_type": "stream",
     "text": [
      "100%|██████████| 3/3 [02:29<00:00, 49.97s/it]\n",
      "  0%|          | 0/3 [00:00<?, ?it/s]"
     ]
    },
    {
     "name": "stdout",
     "output_type": "stream",
     "text": [
      "torch.Size([200, 10000, 2])\n"
     ]
    },
    {
     "name": "stderr",
     "output_type": "stream",
     "text": [
      " 33%|███▎      | 1/3 [00:58<01:56, 58.21s/it]"
     ]
    },
    {
     "name": "stdout",
     "output_type": "stream",
     "text": [
      "torch.Size([200, 10000, 2])\n"
     ]
    },
    {
     "name": "stderr",
     "output_type": "stream",
     "text": [
      " 67%|██████▋   | 2/3 [01:53<00:56, 56.74s/it]"
     ]
    },
    {
     "name": "stdout",
     "output_type": "stream",
     "text": [
      "torch.Size([200, 10000, 2])\n"
     ]
    },
    {
     "name": "stderr",
     "output_type": "stream",
     "text": [
      "100%|██████████| 3/3 [02:50<00:00, 56.71s/it]\n"
     ]
    }
   ],
   "source": [
    "x1 = torch.rand([200, 10000, 2])\n",
    "x2 = torch.rand([200, 10000, 2])\n",
    "\n",
    "nmodels = 3\n",
    "n_delays = 50\n",
    "delay_interval = 20\n",
    "rank = 30\n",
    "\n",
    "models = []\n",
    "model_types = []\n",
    "\n",
    "for i, x in enumerate([x1, x2]):\n",
    "    for n in tqdm(range(nmodels)):  \n",
    "        print(x.shape)\n",
    "        dmd = DMD(x,n_delays=n_delays,rank=rank,delay_interval=delay_interval,device='cpu')\n",
    "        dmd.fit()\n",
    "        Ai = dmd.A_v #extract DMD matrix\n",
    "        models.append(Ai.numpy())\n",
    "        model_types.append(f'model {i}')"
   ]
  },
  {
   "cell_type": "code",
   "execution_count": 23,
   "metadata": {},
   "outputs": [
    {
     "name": "stdout",
     "output_type": "stream",
     "text": [
      "0 0 0.003504079\n",
      "0 1 0.0040412494\n",
      "0 2 0.005167489\n",
      "0 3 0.021842495\n",
      "0 4 0.022884695\n",
      "0 5 0.020727895\n",
      "1 1 0.0044080773\n",
      "1 2 0.004394535\n",
      "1 3 0.022767177\n",
      "1 4 0.023693519\n",
      "1 5 0.022175629\n",
      "2 2 0.0042286427\n",
      "2 3 0.024127312\n",
      "2 4 0.020979438\n",
      "2 5 0.023302851\n",
      "3 3 0.0049795164\n",
      "3 4 0.0039517637\n",
      "3 5 0.0044080773\n",
      "4 4 0.003966818\n",
      "4 5 0.0054700645\n",
      "5 5 0.0049914722\n"
     ]
    }
   ],
   "source": [
    "nmodels_tot = len(models)\n",
    "\n",
    "sims_dmd = np.zeros((nmodels_tot,nmodels_tot))\n",
    "sims_mtype = np.zeros((nmodels_tot,nmodels_tot))\n",
    "#notice how we are initializing the similarity transform separately here\n",
    "comparison_dmd = SimilarityTransformDist(device='cpu',iters=2000,lr=1e-3)\n",
    "\n",
    "for i,mi in enumerate(models):\n",
    "    for j,mj in enumerate(models):\n",
    "        smtype = int(model_types[i] == model_types[j])\n",
    "        sims_mtype[i,j] = sims_mtype[j,i] = smtype\n",
    "        if i == j:\n",
    "            sims_mtype[i,i] = 2\n",
    "        if j < i:\n",
    "            continue\n",
    "        sdmd = comparison_dmd.fit_score(mi,mj)\n",
    "        print(i,j,sdmd)\n",
    "\n",
    "        sims_dmd[i,j] = sims_dmd[j,i] = sdmd\n"
   ]
  },
  {
   "cell_type": "code",
   "execution_count": 24,
   "metadata": {},
   "outputs": [
    {
     "name": "stderr",
     "output_type": "stream",
     "text": [
      "/home/jsalle/.conda/envs/p11/lib/python3.11/site-packages/seaborn/_oldcore.py:1498: FutureWarning: is_categorical_dtype is deprecated and will be removed in a future version. Use isinstance(dtype, CategoricalDtype) instead\n",
      "  if pd.api.types.is_categorical_dtype(vector):\n",
      "/home/jsalle/.conda/envs/p11/lib/python3.11/site-packages/seaborn/_oldcore.py:1498: FutureWarning: is_categorical_dtype is deprecated and will be removed in a future version. Use isinstance(dtype, CategoricalDtype) instead\n",
      "  if pd.api.types.is_categorical_dtype(vector):\n",
      "/home/jsalle/.conda/envs/p11/lib/python3.11/site-packages/seaborn/_oldcore.py:1498: FutureWarning: is_categorical_dtype is deprecated and will be removed in a future version. Use isinstance(dtype, CategoricalDtype) instead\n",
      "  if pd.api.types.is_categorical_dtype(vector):\n",
      "/home/jsalle/.conda/envs/p11/lib/python3.11/site-packages/seaborn/_oldcore.py:1498: FutureWarning: is_categorical_dtype is deprecated and will be removed in a future version. Use isinstance(dtype, CategoricalDtype) instead\n",
      "  if pd.api.types.is_categorical_dtype(vector):\n",
      "/home/jsalle/.conda/envs/p11/lib/python3.11/site-packages/seaborn/_oldcore.py:1498: FutureWarning: is_categorical_dtype is deprecated and will be removed in a future version. Use isinstance(dtype, CategoricalDtype) instead\n",
      "  if pd.api.types.is_categorical_dtype(vector):\n"
     ]
    },
    {
     "data": {
      "image/png": "[encoded data removed]",
      "text/plain": [
       "<Figure size 640x480 with 1 Axes>"
      ]
     },
     "metadata": {},
     "output_type": "display_data"
    }
   ],
   "source": [
    "df = pd.DataFrame()\n",
    "df['Model Type'] = model_types\n",
    "lowd_embedding = MDS(dissimilarity='precomputed').fit_transform(sims_dmd)\n",
    "df[f\"DMD:0\"] = lowd_embedding[:,0] \n",
    "df[f\"DMD:1\"] = lowd_embedding[:,1]\n",
    "    \n",
    "\n",
    "fig,ax = plt.subplots(1,1,sharex=True,sharey=True)\n",
    "palette = 'plasma'\n",
    "sns.scatterplot(data=df,x=f\"DMD:0\",y=f\"DMD:1\",hue=\"Model Type\",ax=ax,palette=palette)\n",
    "ax.set_xlabel(f\"MDS 1\")\n",
    "ax.set_ylabel(f\"MDS 2\")\n",
    "plt.tight_layout()"
   ]
  },
  {
   "cell_type": "markdown",
   "metadata": {},
   "source": [
    "# Hyperparameter Tuning"
   ]
  },
  {
   "cell_type": "code",
   "execution_count": 2,
   "metadata": {},
   "outputs": [
    {
     "name": "stderr",
     "output_type": "stream",
     "text": [
      "/home/jsalle/.conda/envs/p11/lib/python3.11/site-packages/tqdm/auto.py:21: TqdmWarning: IProgress not found. Please update jupyter and ipywidgets. See https://ipywidgets.readthedocs.io/en/stable/user_install.html\n",
      "  from .autonotebook import tqdm as notebook_tqdm\n"
     ]
    }
   ],
   "source": [
    "from transformer_lens import utils, HookedTransformer, ActivationCache, patching, evals\n",
    "from transformer_lens.hook_points import HookPoint\n",
    "from transformer_lens.utils import get_act_name\n",
    "from tqdm import tqdm\n",
    "import torch\n",
    "import torch.nn as nn\n",
    "from torch import Tensor\n",
    "import numpy as np\n",
    "from jaxtyping import Int, Float\n",
    "from typing import List, Optional, Tuple\n",
    "import seaborn as sns\n",
    "import matplotlib.pyplot as plt\n",
    "\n",
    "import pandas as pd\n",
    "from tqdm import tqdm\n",
    "from einops import repeat\n",
    "import pickle\n",
    "import argparse\n",
    "import os.path\n",
    "import multiprocessing\n",
    "\n",
    "from DSA.dsa import DSA\n",
    "from DSA.dmd import DMD\n",
    "from DSA.simdist import SimilarityTransformDist\n",
    "from sklearn.manifold import MDS"
   ]
  },
  {
   "cell_type": "code",
   "execution_count": 3,
   "metadata": {},
   "outputs": [
    {
     "name": "stdout",
     "output_type": "stream",
     "text": [
      "CUDA is not available. Listing CPUs instead. 48\n"
     ]
    }
   ],
   "source": [
    "#torch.set_grad_enabled(False)\n",
    "\n",
    "# List all available GPUs\n",
    "if torch.cuda.is_available():\n",
    "    for i in range(torch.cuda.device_count()):\n",
    "        print(f\"Device {i}: {torch.cuda.get_device_name(i)}\")\n",
    "    print(f\"Current CUDA device: {torch.cuda.current_device()}\")\n",
    "\n",
    "else:\n",
    "    print(\"CUDA is not available. Listing CPUs instead.\", multiprocessing.cpu_count())\n",
    "device = torch.device(\"cuda\" if torch.cuda.is_available() else \"cpu\")\n",
    "\n",
    "def get_model(model_name: str = 'gpt2-small', \n",
    "              checkpoint_index: int = None,\n",
    "              device=None) -> HookedTransformer:\n",
    "    \"\"\"\n",
    "    Loads source or target model.\n",
    "    Pythia models have 154 checkpoints.\n",
    "\n",
    "    model_name: ['gpt2-small', 'pythia-6.9b'] see transformer_lens list\n",
    "    \"\"\"\n",
    "    if 'model_name' != 'bert-base-cased':\n",
    "        return HookedTransformer.from_pretrained(model_name, \n",
    "                                             checkpoint_index=checkpoint_index,\n",
    "                                             device=device)\n",
    "    else:\n",
    "        return HookedTransformer.from_pretrained(model_name, device=device)\n",
    "\n",
    "\n",
    "def store_activations_in_array(model: HookedTransformer,\n",
    "                               prompt: str,\n",
    "                               activation_type: str = 'resid_pre'):\n",
    "\n",
    "    _, cache = model.run_with_cache(prompt)\n",
    "    \n",
    "    x = torch.zeros([1, model.cfg.n_layers, model.cfg.d_model])\n",
    "\n",
    "    for l in range(0, model.cfg.n_layers):\n",
    "        activations_last_token = cache[activation_type, l][0, -1, :]\n",
    "        x[0, l, :] = activations_last_token\n",
    "\n",
    "    return x # shape: [n_layers, d_model]"
   ]
  },
  {
   "cell_type": "markdown",
   "metadata": {},
   "source": [
    "## BERT activations"
   ]
  },
  {
   "cell_type": "code",
   "execution_count": 4,
   "metadata": {},
   "outputs": [
    {
     "name": "stdout",
     "output_type": "stream",
     "text": [
      "torch.Size([1, 12, 768])\n"
     ]
    }
   ],
   "source": [
    "from transformers import BertTokenizer, BertModel\n",
    "\n",
    "\n",
    "prompt = \"When John and Mary went to the store, John gave a bottle of milk to \"\n",
    "\n",
    "tokenizer = BertTokenizer.from_pretrained('bert-base-uncased')\n",
    "model = BertModel.from_pretrained(\"bert-base-uncased\")\n",
    "\n",
    "bert_activations = torch.zeros((1, model.config.num_hidden_layers, model.config.hidden_size))\n",
    "\n",
    "def get_layer_hook(layer_num):\n",
    "    def hook(module, input, output):\n",
    "        bert_activations[0, layer_num, :] = output[0][0, -1, :]\n",
    "    return hook\n",
    "\n",
    "# Register hooks for each BertLayer\n",
    "for i, layer in enumerate(model.encoder.layer):\n",
    "    hook = layer.register_forward_hook(get_layer_hook(i))\n",
    "\n",
    "# Forward pass through the model\n",
    "with torch.no_grad():\n",
    "    encoded_input = tokenizer(prompt, return_tensors='pt')\n",
    "    output = model(**encoded_input)\n",
    "\n",
    "# Access the output of a specific layer, e.g., layer 5\n",
    "print(bert_activations.shape)"
   ]
  },
  {
   "cell_type": "code",
   "execution_count": 5,
   "metadata": {},
   "outputs": [
    {
     "name": "stdout",
     "output_type": "stream",
     "text": [
      "Model number 0/3\n"
     ]
    },
    {
     "name": "stdout",
     "output_type": "stream",
     "text": [
      "Loaded pretrained model gpt2-small into HookedTransformer\n",
      "Model number 1/3\n",
      "Loaded pretrained model gpt2-medium into HookedTransformer\n",
      "Model number 2/3\n"
     ]
    },
    {
     "name": "stderr",
     "output_type": "stream",
     "text": [
      "Special tokens have been added in the vocabulary, make sure the associated word embeddings are fine-tuned or trained.\n"
     ]
    },
    {
     "name": "stdout",
     "output_type": "stream",
     "text": [
      "Loaded pretrained model pythia-160m into HookedTransformer\n",
      "Model number 3/3\n"
     ]
    },
    {
     "name": "stderr",
     "output_type": "stream",
     "text": [
      "Special tokens have been added in the vocabulary, make sure the associated word embeddings are fine-tuned or trained.\n"
     ]
    },
    {
     "name": "stdout",
     "output_type": "stream",
     "text": [
      "Loaded pretrained model pythia-410m into HookedTransformer\n",
      "Add bert-base-uncased\n"
     ]
    }
   ],
   "source": [
    "models_names = ['gpt2-small', 'gpt2-medium', 'pythia-160m', 'pythia-410m']#, 'pythia-1b', 'bert-base-cased', 'solu-12l', 'mistral-7b']\n",
    "#models_names = models_names[0:2]\n",
    "#print(models_names)\n",
    "\n",
    "activations = []\n",
    "model_types = []\n",
    "models = []\n",
    "\n",
    "for i, model_name in enumerate(models_names):\n",
    "    print(f'Model number {i}/{len(models_names)-1}')\n",
    "    model = get_model(model_name, device=device)\n",
    "    x = store_activations_in_array(model, prompt=prompt)\n",
    "    activations.append(x)\n",
    "    model_types.append(f'{model_name}')\n",
    "\n",
    "# bert-base-uncased\n",
    "print(\"Add bert-base-uncased\")\n",
    "activations.append(bert_activations)\n",
    "model_types.append('bert-base-uncased')\n",
    "models_names.append('bert-base-uncased')"
   ]
  },
  {
   "cell_type": "code",
   "execution_count": 6,
   "metadata": {},
   "outputs": [
    {
     "name": "stdout",
     "output_type": "stream",
     "text": [
      "x.shape torch.Size([12, 768])\n",
      "Computing Hankel matrix ...\n",
      "Hankel matrix computed!\n",
      "Computing SVD on Hankel matrix ...\n",
      "H torch.Size([8, 3840])\n",
      "SVD complete!\n",
      "recalc_rank\n",
      "Computing least squares fits to HAVOK DMD ...\n",
      "havok: self.Vt_minus[:, :self.rank] torch.Size([7, 6])\n",
      "self.Vt_plus[:, :self.rank] torch.Size([7, 6])\n",
      "addition torch.Size([6, 6])\n",
      "Least squares complete! \n",
      "\n",
      "x.shape torch.Size([24, 1024])\n",
      "Computing Hankel matrix ...\n",
      "Hankel matrix computed!\n",
      "Computing SVD on Hankel matrix ...\n",
      "H torch.Size([20, 5120])\n",
      "SVD complete!\n",
      "recalc_rank\n",
      "Computing least squares fits to HAVOK DMD ...\n",
      "havok: self.Vt_minus[:, :self.rank] torch.Size([19, 6])\n",
      "self.Vt_plus[:, :self.rank] torch.Size([19, 6])\n",
      "addition torch.Size([6, 6])\n",
      "Least squares complete! \n",
      "\n",
      "x.shape torch.Size([12, 768])\n",
      "Computing Hankel matrix ...\n",
      "Hankel matrix computed!\n",
      "Computing SVD on Hankel matrix ...\n",
      "H torch.Size([8, 3840])\n",
      "SVD complete!\n",
      "recalc_rank\n",
      "Computing least squares fits to HAVOK DMD ...\n",
      "havok: self.Vt_minus[:, :self.rank] torch.Size([7, 6])\n",
      "self.Vt_plus[:, :self.rank] torch.Size([7, 6])\n",
      "addition torch.Size([6, 6])\n",
      "Least squares complete! \n",
      "\n",
      "x.shape torch.Size([24, 1024])\n",
      "Computing Hankel matrix ...\n",
      "Hankel matrix computed!\n",
      "Computing SVD on Hankel matrix ...\n",
      "H torch.Size([20, 5120])\n",
      "SVD complete!\n",
      "recalc_rank\n",
      "Computing least squares fits to HAVOK DMD ...\n",
      "havok: self.Vt_minus[:, :self.rank] torch.Size([19, 6])\n",
      "self.Vt_plus[:, :self.rank] torch.Size([19, 6])\n",
      "addition torch.Size([6, 6])\n",
      "Least squares complete! \n",
      "\n",
      "x.shape torch.Size([12, 768])\n",
      "Computing Hankel matrix ...\n",
      "Hankel matrix computed!\n",
      "Computing SVD on Hankel matrix ...\n",
      "H torch.Size([8, 3840])\n",
      "SVD complete!\n",
      "recalc_rank\n",
      "Computing least squares fits to HAVOK DMD ...\n",
      "havok: self.Vt_minus[:, :self.rank] torch.Size([7, 6])\n",
      "self.Vt_plus[:, :self.rank] torch.Size([7, 6])\n",
      "addition torch.Size([6, 6])\n",
      "Least squares complete! \n",
      "\n"
     ]
    }
   ],
   "source": [
    "nmodels = 1\n",
    "n_delays = 5\n",
    "delay_interval = 1\n",
    "rank = 6\n",
    "\n",
    "for x in activations:\n",
    "    x = x[0,:,:] # x.shape [timepoints, dimensions]\n",
    "    print('x.shape', x.shape)\n",
    "    dmd = DMD(x,n_delays=n_delays,rank=rank,delay_interval=delay_interval,device=device, verbose=True)\n",
    "    dmd.fit()\n",
    "    Ai = dmd.A_v #extract DMD matrix\n",
    "    models.append(Ai.numpy())\n",
    "\n",
    "nmodels_tot = len(models)"
   ]
  },
  {
   "cell_type": "code",
   "execution_count": 7,
   "metadata": {},
   "outputs": [
    {
     "name": "stdout",
     "output_type": "stream",
     "text": [
      "0 0 0\n",
      "0 1 0.9454356\n",
      "0 2 0.10483411\n",
      "0 3 1.0626223\n",
      "0 4 0.26023856\n",
      "1 1 0\n",
      "1 2 0.98439234\n",
      "1 3 0.21063977\n",
      "1 4 0.7785551\n",
      "2 2 0.00034526698\n",
      "2 3 1.099241\n",
      "2 4 0.31097683\n",
      "3 3 0.0\n",
      "3 4 0.90272695\n",
      "4 4 0.0\n"
     ]
    },
    {
     "name": "stderr",
     "output_type": "stream",
     "text": [
      "/home/jsalle/.conda/envs/p11/lib/python3.11/site-packages/seaborn/_oldcore.py:1498: FutureWarning: is_categorical_dtype is deprecated and will be removed in a future version. Use isinstance(dtype, CategoricalDtype) instead\n",
      "  if pd.api.types.is_categorical_dtype(vector):\n",
      "/home/jsalle/.conda/envs/p11/lib/python3.11/site-packages/seaborn/_oldcore.py:1498: FutureWarning: is_categorical_dtype is deprecated and will be removed in a future version. Use isinstance(dtype, CategoricalDtype) instead\n",
      "  if pd.api.types.is_categorical_dtype(vector):\n",
      "/home/jsalle/.conda/envs/p11/lib/python3.11/site-packages/seaborn/_oldcore.py:1498: FutureWarning: is_categorical_dtype is deprecated and will be removed in a future version. Use isinstance(dtype, CategoricalDtype) instead\n",
      "  if pd.api.types.is_categorical_dtype(vector):\n",
      "/home/jsalle/.conda/envs/p11/lib/python3.11/site-packages/seaborn/_oldcore.py:1498: FutureWarning: is_categorical_dtype is deprecated and will be removed in a future version. Use isinstance(dtype, CategoricalDtype) instead\n",
      "  if pd.api.types.is_categorical_dtype(vector):\n",
      "/home/jsalle/.conda/envs/p11/lib/python3.11/site-packages/seaborn/_oldcore.py:1498: FutureWarning: is_categorical_dtype is deprecated and will be removed in a future version. Use isinstance(dtype, CategoricalDtype) instead\n",
      "  if pd.api.types.is_categorical_dtype(vector):\n"
     ]
    },
    {
     "data": {
      "text/plain": [
       "Text(0, 0.5, 'MDS 2')"
      ]
     },
     "execution_count": 7,
     "metadata": {},
     "output_type": "execute_result"
    },
    {
     "data": {
      "image/png": "[encoded data removed]",
      "text/plain": [
       "<Figure size 640x480 with 1 Axes>"
      ]
     },
     "metadata": {},
     "output_type": "display_data"
    }
   ],
   "source": [
    "sims_dmd = np.zeros((nmodels_tot,nmodels_tot))\n",
    "sims_mtype = np.zeros((nmodels_tot,nmodels_tot))\n",
    "#notice how we are initializing the similarity transform separately here\n",
    "comparison_dmd = SimilarityTransformDist(device=device,iters=2000,lr=1e-3)\n",
    "\n",
    "for i,mi in enumerate(models):\n",
    "    for j,mj in enumerate(models):\n",
    "        smtype = int(model_types[i] == model_types[j])\n",
    "        sims_mtype[i,j] = sims_mtype[j,i] = smtype\n",
    "        if i == j:\n",
    "            sims_mtype[i,i] = 2\n",
    "        if j < i:\n",
    "            continue\n",
    "        sdmd = comparison_dmd.fit_score(mi,mj)\n",
    "        print(i,j,sdmd)\n",
    "\n",
    "        sims_dmd[i,j] = sims_dmd[j,i] = sdmd\n",
    "\n",
    "\n",
    "df = pd.DataFrame()\n",
    "df['Model Type'] = model_types\n",
    "lowd_embedding = MDS(dissimilarity='precomputed').fit_transform(sims_dmd)\n",
    "df[f\"DMD:0\"] = lowd_embedding[:,0] \n",
    "df[f\"DMD:1\"] = lowd_embedding[:,1]\n",
    "\n",
    "with open(\"data/similarity_analysis_of_context_mds.pkl\", 'wb') as file:\n",
    "    pickle.dump(df, file)\n",
    "    \n",
    "\n",
    "fig,ax = plt.subplots(1,1,sharex=True,sharey=True)\n",
    "palette = 'plasma'\n",
    "sns.scatterplot(data=df,x=f\"DMD:0\",y=f\"DMD:1\",hue=\"Model Type\",ax=ax,palette=palette)\n",
    "ax.set_xlabel(f\"MDS 1\")\n",
    "ax.set_ylabel(f\"MDS 2\")"
   ]
  },
  {
   "cell_type": "code",
   "execution_count": 8,
   "metadata": {},
   "outputs": [
    {
     "data": {
      "image/png": "[encoded data removed]",
      "text/plain": [
       "<Figure size 640x480 with 2 Axes>"
      ]
     },
     "metadata": {},
     "output_type": "display_data"
    }
   ],
   "source": [
    "palette = \"Greens\"\n",
    "sns_fig = sns.heatmap(sims_dmd, yticklabels=models_names, xticklabels=models_names, cmap=palette)\n",
    "plt.yticks(rotation=0) \n",
    "sns_fig.figure.savefig('figures/test_dmd_heatmap.png')"
   ]
  },
  {
   "cell_type": "code",
   "execution_count": 122,
   "metadata": {},
   "outputs": [
    {
     "name": "stdout",
     "output_type": "stream",
     "text": [
      "Loaded pretrained model gpt2-small into HookedTransformer\n",
      "Loaded pretrained model gpt2-medium into HookedTransformer\n"
     ]
    },
    {
     "name": "stderr",
     "output_type": "stream",
     "text": [
      "Special tokens have been added in the vocabulary, make sure the associated word embeddings are fine-tuned or trained.\n"
     ]
    },
    {
     "name": "stdout",
     "output_type": "stream",
     "text": [
      "Loaded pretrained model pythia-160m into HookedTransformer\n"
     ]
    },
    {
     "name": "stderr",
     "output_type": "stream",
     "text": [
      "Special tokens have been added in the vocabulary, make sure the associated word embeddings are fine-tuned or trained.\n"
     ]
    },
    {
     "name": "stdout",
     "output_type": "stream",
     "text": [
      "Loaded pretrained model pythia-410m into HookedTransformer\n",
      "[84934656, 301989888, 84934656, 301989888, 85000000]\n"
     ]
    }
   ],
   "source": [
    "n_params = []\n",
    "\n",
    "for m in models_names:\n",
    "    if m == \"bert-base-uncased\":\n",
    "        n_params.append(85*10**6)\n",
    "    else:\n",
    "        n_params.append(HookedTransformer.from_pretrained(m).cfg.n_params)\n",
    "\n",
    "print(n_params)"
   ]
  },
  {
   "cell_type": "code",
   "execution_count": null,
   "metadata": {},
   "outputs": [],
   "source": []
  }
 ],
 "metadata": {
  "kernelspec": {
   "display_name": "p11",
   "language": "python",
   "name": "python3"
  },
  "language_info": {
   "codemirror_mode": {
    "name": "ipython",
    "version": 3
   },
   "file_extension": ".py",
   "mimetype": "text/x-python",
   "name": "python",
   "nbconvert_exporter": "python",
   "pygments_lexer": "ipython3",
   "version": "3.11.5"
  }
 },
 "nbformat": 4,
 "nbformat_minor": 2
}
