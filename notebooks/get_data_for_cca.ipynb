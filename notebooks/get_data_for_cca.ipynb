{
 "cells": [
  {
   "cell_type": "code",
   "execution_count": 1,
   "metadata": {},
   "outputs": [
    {
     "name": "stderr",
     "output_type": "stream",
     "text": [
      "/home/jsalle/.conda/envs/p11/lib/python3.11/site-packages/tqdm/auto.py:21: TqdmWarning: IProgress not found. Please update jupyter and ipywidgets. See https://ipywidgets.readthedocs.io/en/stable/user_install.html\n",
      "  from .autonotebook import tqdm as notebook_tqdm\n"
     ]
    },
    {
     "name": "stdout",
     "output_type": "stream",
     "text": [
      "CUDA is not available. Listing CPUs instead.\n",
      "48\n"
     ]
    }
   ],
   "source": [
    "from tqdm import tqdm\n",
    "import torch\n",
    "from torch import Tensor\n",
    "import numpy as np\n",
    "from jaxtyping import Int, Float\n",
    "from typing import List, Optional, Tuple\n",
    "import seaborn as sns\n",
    "import matplotlib.pyplot as plt\n",
    "import plotly.express as px\n",
    "import pickle\n",
    "\n",
    "import pandas as pd\n",
    "from tqdm import tqdm\n",
    "from einops import repeat\n",
    "import multiprocessing\n",
    "import sys\n",
    "\n",
    "from DSA.dmd import DMD\n",
    "from DSA.simdist import SimilarityTransformDist\n",
    "from sklearn.manifold import MDS\n",
    "\n",
    "sys.path.append('../')\n",
    "from models import get_model_from_name\n",
    "from data import get_data_sample\n",
    "from activations import get_residual_stream_activations_for_layer_wise_dmd, get_residual_stream_activations\n",
    "from dmd import apply_dmd\n",
    "\n",
    "torch.set_grad_enabled(True)\n",
    "\n",
    "# List all available GPUs\n",
    "if torch.cuda.is_available():\n",
    "    for i in range(torch.cuda.device_count()):\n",
    "        print(f\"Device {i}: {torch.cuda.get_device_name(i)}\")\n",
    "    print(f\"Current CUDA device: {torch.cuda.current_device()}\")\n",
    "\n",
    "else:\n",
    "    print(\"CUDA is not available. Listing CPUs instead.\")\n",
    "    print(multiprocessing.cpu_count())\n",
    "\n",
    "device = torch.device(\"cuda\" if torch.cuda.is_available() else \"cpu\")"
   ]
  },
  {
   "cell_type": "code",
   "execution_count": 2,
   "metadata": {},
   "outputs": [
    {
     "name": "stdout",
     "output_type": "stream",
     "text": [
      "['= Grammy Award for Video of the Year =\\nThe Grammy Award for Video of the Year was an honor presented to recording artists at the 24th Grammy Awards in 1982 and the 25th Grammy Awards in 1983 for music videos. The Grammy Awards, an annual ceremony that was established in 1958 and originally called the Gramophone Awards, are presented by the National Academy of Recording Arts and Sciences of the United States to \"honor artistic achievement, technical proficiency and overall excellence in the recording industry, without regard to album sales or chart position\".\\nFirst presented in 1982 to Michael Nesmith for Elephant Parts, the award was reserved for quality \"video cassettes or discs in any format created specifically for the home video market\". In 1983, Olivia Newton-John was presented the award for Olivia Physical. Beginning with the 1984 Grammy Awards, the Video of the Year award category was replaced with the categories Best Video, Short Form and Best Video Album (now known as Best Music Video and Best Music Film, respectively).\\n= = Recipients = =\\nNominees for the 24th Grammy Awards (1982), Video of the Year included: Eubie Blake for One Night Stand: A Keyboard Event, the band Blondie for Eat to the Beat, Bruce Seth Green for the participative video collection of puzzles and games known as The First National Kidisc, and Michael Nesmith, former member of The Monkees, for the hour-long video Elephant Parts (also known as Michael Nesmith in Elephant Parts). One Night Stand was a recording of a jazz program billed as \"an evening of all-stars\" at Carnegie Hall, with appearances by Kenny Barron, Arthur Blythe, George Duke, Herbie Hancock, Roland Hanna, Bobby Hutcherson and ten other musicians. Blondie\\'s video cassette Eat to the Beat accompanied their 1979 album of the same title. The First National Kidisc, one of the first interactive and educational videodiscs, contained activities designed for children. Without \"fancy digital effects\", Green\\'s Kidisc provided five to ten hours of interactive capability within a 30-minute video through the use of dual audio tracks, freeze framing, slow motion, and other techniques. Features included plane flying, jokes, paper plane construction, music performance, and other games.\\nThe award went to Nesmith, who is known for creating one of the first companies to distribute television programs and films on home video, and for establishing the television music video format that eventually became MTV. In 1976, Nesmith produced a video for his song \"Rio\", and later incorporated it into the \"montage of music and gags\" called Elephant Parts after starting the company Pacific Arts Video Records. In 1985, Elephant Parts was adapted into a seven-episode summer series on NBC titled Michael Nesmith in Television Parts.\\nNominees for the 25th Grammy Awards included: Elton John for Visions: Elton John, Olivia Newton-John for Olivia Physical, the rock band The Tubes for The Tubes Video, a recording of Jacques Offenbach\\'s opera The Tales of Hoffman by the Royal Opera conducted by Georges Prêtre with Plácido Domingo, and the interactive disc for children Fun and Games by various artists (produced by Margaret Murphy). Both Visions and The Tubes Video were directed by Russell Mulcahy. Visions consisted of \"artistic\" videos for all of the songs on John\\'s 1981 album The Fox. According to The Tubes\\' official site, the now out of print video collection contained music videos primarily for tracks that appeared on their 1981 album The Completion Backward Principle. The award was presented to Newton-John (then her fourth Grammy Award) in February 1983 at the Shrine Auditorium in Los Angeles. Released a few years following her role in the 1978 film Grease, the aerobics video contained songs from her 1981 album Physical as well as enough sexual innuendo and provocation to generate controversy.\\n= = Category retirement = =\\nThe Video of the Year category was discontinued with the establishment of the MTV Video Music Awards in 1984, whose top award is also presented for Video of the Year. The Academy replaced the category with awards for Best Video, Short Form and Best Video Album beginning with the 26th Grammy Awards. For the awards held in 1988 and 1989, the criteria changed and honors were presented for the categories Best Concept Music Video and Best Performance Music Video. The Academy returned to the previous format in 1990, though the two categories were renamed Best Long Form Music Video (changed to Best Music Film in 2014) and Best Short Form Music Video (shortened to Best Music Video in 2014) respectively.']\n"
     ]
    },
    {
     "name": "stderr",
     "output_type": "stream",
     "text": [
      "Special tokens have been added in the vocabulary, make sure the associated word embeddings are fine-tuned or trained.\n",
      "Asking to truncate to max_length but no maximum length is provided and the model has no predefined maximum length. Default to no truncation.\n"
     ]
    },
    {
     "name": "stdout",
     "output_type": "stream",
     "text": [
      "['= Grammy Award for Video of the Year =\\nThe Grammy Award for Video of the Year was an honor presented to recording artists at the 24th Grammy Awards in 1982 and the 25th Grammy Awards in 1983 for music videos. The Grammy Awards, an annual ceremony that was established in 1958 and originally called the Gramophone Awards, are presented by the National Academy of Recording Arts and Sciences of the United States to \"honor artistic achievement, technical proficiency and overall excellence in the recording industry, without regard to album sales or chart position\".\\nFirst presented in 1982 to Michael Nesmith for Elephant Parts, the award was reserved for quality \"video cassettes or discs in any format created specifically for the home video market\". In 1983, Olivia Newton-John was presented the award for Olivia Physical. Beginning with the 1984 Grammy Awards, the Video of the Year award category was replaced with the categories Best Video, Short Form and Best Video Album (now known as Best Music Video and Best Music Film, respectively).\\n= = Recipients = =\\nNominees for the 24th Grammy Awards (1982), Video of the Year included: Eubie Blake for One Night Stand: A Keyboard Event, the band Blondie for Eat to the Beat, Bruce Seth Green for the participative video collection of puzzles and games known as The First National Kidisc, and Michael Nesmith, former member of The Monkees, for the hour-long video Elephant Parts (also known as Michael Nesmith in Elephant Parts). One Night Stand was a recording of a jazz program billed as \"an evening of all-stars\" at Carnegie Hall, with appearances by Kenny Barron, Arthur Blythe, George Duke, Herbie Hancock, Roland Hanna, Bobby Hutcherson and ten other musicians. Blondie\\'s video cassette Eat to the Beat accompanied their 1979 album of the same title. The First National Kidisc, one of the first interactive and educational videodiscs, contained activities designed for children. Without \"fancy digital effects\", Green\\'s Kidisc provided five to ten hours of interactive capability within a 30-minute video through the use of dual audio tracks, freeze framing, slow motion, and other techniques. Features included plane flying, jokes, paper plane construction, music performance, and other games.\\nThe award went to Nesmith, who is known for creating one of the first companies to distribute television programs and films on home video, and for establishing the television music video format that eventually became MTV. In 1976, Nesmith produced a video for his song \"Rio\", and later incorporated it into the \"montage of music and gags\" called Elephant Parts after starting the company Pacific Arts Video Records. In 1985, Elephant Parts was adapted into a seven-episode summer series on NBC titled Michael Nesmith in Television Parts.\\nNominees for the 25th Grammy Awards included: Elton John for Visions: Elton John, Olivia Newton-John for Olivia Physical, the rock band The Tubes for The Tubes Video, a recording of Jacques Offenbach\\'s opera The Tales of Hoffman by the Royal Opera conducted by Georges Prêtre with Plácido Domingo, and the interactive disc for children Fun and Games by various artists (produced by Margaret Murphy). Both Visions and The Tubes Video were directed by Russell Mulcahy. Visions consisted of \"artistic\" videos for all of the songs on John\\'s 1981 album The Fox. According to The Tubes\\' official site, the now out of print video collection contained music videos primarily for tracks that appeared on their 1981 album The Completion Backward Principle. The award was presented to Newton-John (then her fourth Grammy Award) in February 1983 at the Shrine Auditorium in Los Angeles. Released a few years following her role in the 1978 film Grease, the aerobics video contained songs from her 1981 album Physical as well as enough sexual innuendo and provocation to generate controversy.\\n= = Category retirement = =\\nThe Video of the Year category was discontinued with the establishment of the MTV Video Music Awards in 1984, whose top award is also presented for Video of the Year. The Academy replaced the category with awards for Best Video, Short Form and Best Video Album beginning with the 26th Grammy Awards. For the awards held in 1988 and 1989, the criteria changed and honors were presented for the categories Best Concept Music Video and Best Performance Music Video. The Academy returned to the previous format in 1990, though the two categories were renamed Best Long Form Music Video (changed to Best Music Film in 2014) and Best Short Form Music Video (shortened to Best Music Video in 2014) respectively.']\n"
     ]
    },
    {
     "name": "stderr",
     "output_type": "stream",
     "text": [
      "Special tokens have been added in the vocabulary, make sure the associated word embeddings are fine-tuned or trained.\n",
      "Asking to truncate to max_length but no maximum length is provided and the model has no predefined maximum length. Default to no truncation.\n"
     ]
    },
    {
     "name": "stdout",
     "output_type": "stream",
     "text": [
      "['= Grammy Award for Video of the Year =\\nThe Grammy Award for Video of the Year was an honor presented to recording artists at the 24th Grammy Awards in 1982 and the 25th Grammy Awards in 1983 for music videos. The Grammy Awards, an annual ceremony that was established in 1958 and originally called the Gramophone Awards, are presented by the National Academy of Recording Arts and Sciences of the United States to \"honor artistic achievement, technical proficiency and overall excellence in the recording industry, without regard to album sales or chart position\".\\nFirst presented in 1982 to Michael Nesmith for Elephant Parts, the award was reserved for quality \"video cassettes or discs in any format created specifically for the home video market\". In 1983, Olivia Newton-John was presented the award for Olivia Physical. Beginning with the 1984 Grammy Awards, the Video of the Year award category was replaced with the categories Best Video, Short Form and Best Video Album (now known as Best Music Video and Best Music Film, respectively).\\n= = Recipients = =\\nNominees for the 24th Grammy Awards (1982), Video of the Year included: Eubie Blake for One Night Stand: A Keyboard Event, the band Blondie for Eat to the Beat, Bruce Seth Green for the participative video collection of puzzles and games known as The First National Kidisc, and Michael Nesmith, former member of The Monkees, for the hour-long video Elephant Parts (also known as Michael Nesmith in Elephant Parts). One Night Stand was a recording of a jazz program billed as \"an evening of all-stars\" at Carnegie Hall, with appearances by Kenny Barron, Arthur Blythe, George Duke, Herbie Hancock, Roland Hanna, Bobby Hutcherson and ten other musicians. Blondie\\'s video cassette Eat to the Beat accompanied their 1979 album of the same title. The First National Kidisc, one of the first interactive and educational videodiscs, contained activities designed for children. Without \"fancy digital effects\", Green\\'s Kidisc provided five to ten hours of interactive capability within a 30-minute video through the use of dual audio tracks, freeze framing, slow motion, and other techniques. Features included plane flying, jokes, paper plane construction, music performance, and other games.\\nThe award went to Nesmith, who is known for creating one of the first companies to distribute television programs and films on home video, and for establishing the television music video format that eventually became MTV. In 1976, Nesmith produced a video for his song \"Rio\", and later incorporated it into the \"montage of music and gags\" called Elephant Parts after starting the company Pacific Arts Video Records. In 1985, Elephant Parts was adapted into a seven-episode summer series on NBC titled Michael Nesmith in Television Parts.\\nNominees for the 25th Grammy Awards included: Elton John for Visions: Elton John, Olivia Newton-John for Olivia Physical, the rock band The Tubes for The Tubes Video, a recording of Jacques Offenbach\\'s opera The Tales of Hoffman by the Royal Opera conducted by Georges Prêtre with Plácido Domingo, and the interactive disc for children Fun and Games by various artists (produced by Margaret Murphy). Both Visions and The Tubes Video were directed by Russell Mulcahy. Visions consisted of \"artistic\" videos for all of the songs on John\\'s 1981 album The Fox. According to The Tubes\\' official site, the now out of print video collection contained music videos primarily for tracks that appeared on their 1981 album The Completion Backward Principle. The award was presented to Newton-John (then her fourth Grammy Award) in February 1983 at the Shrine Auditorium in Los Angeles. Released a few years following her role in the 1978 film Grease, the aerobics video contained songs from her 1981 album Physical as well as enough sexual innuendo and provocation to generate controversy.\\n= = Category retirement = =\\nThe Video of the Year category was discontinued with the establishment of the MTV Video Music Awards in 1984, whose top award is also presented for Video of the Year. The Academy replaced the category with awards for Best Video, Short Form and Best Video Album beginning with the 26th Grammy Awards. For the awards held in 1988 and 1989, the criteria changed and honors were presented for the categories Best Concept Music Video and Best Performance Music Video. The Academy returned to the previous format in 1990, though the two categories were renamed Best Long Form Music Video (changed to Best Music Film in 2014) and Best Short Form Music Video (shortened to Best Music Video in 2014) respectively.']\n"
     ]
    }
   ],
   "source": [
    "model_names = ['gpt2-small', 'pythia-1b', 'pythia-2.8b']\n",
    "\n",
    "for model_name in model_names:\n",
    "    model, tokenizer = get_model_from_name(model_name)\n",
    "    x, wikitext_sample = get_residual_stream_activations(model, tokenizer, seed=41)\n",
    "    with open(f'../data/{model_name}_wikitext103_activations_2.pkl', 'wb') as file: \n",
    "        pickle.dump(x, file)"
   ]
  },
  {
   "cell_type": "code",
   "execution_count": 9,
   "metadata": {},
   "outputs": [],
   "source": [
    "# Load file \n",
    "model_name = 'pythia-1b'\n",
    "with open(f'../data/{model_name}_wikitext103_activations.pkl', 'rb') as file: \n",
    "    activations = pickle.load(file)"
   ]
  },
  {
   "cell_type": "code",
   "execution_count": null,
   "metadata": {},
   "outputs": [],
   "source": []
  }
 ],
 "metadata": {
  "kernelspec": {
   "display_name": "p11",
   "language": "python",
   "name": "python3"
  },
  "language_info": {
   "codemirror_mode": {
    "name": "ipython",
    "version": 3
   },
   "file_extension": ".py",
   "mimetype": "text/x-python",
   "name": "python",
   "nbconvert_exporter": "python",
   "pygments_lexer": "ipython3",
   "version": "3.11.5"
  }
 },
 "nbformat": 4,
 "nbformat_minor": 2
}
