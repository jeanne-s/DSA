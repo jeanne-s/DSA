{
 "cells": [
  {
   "cell_type": "code",
   "execution_count": 1,
   "metadata": {},
   "outputs": [
    {
     "name": "stderr",
     "output_type": "stream",
     "text": [
      "/home/jsalle/.conda/envs/p11/lib/python3.11/site-packages/tqdm/auto.py:21: TqdmWarning: IProgress not found. Please update jupyter and ipywidgets. See https://ipywidgets.readthedocs.io/en/stable/user_install.html\n",
      "  from .autonotebook import tqdm as notebook_tqdm\n"
     ]
    }
   ],
   "source": [
    "from transformer_lens import utils, HookedTransformer, ActivationCache, patching, evals\n",
    "from transformer_lens.hook_points import HookPoint\n",
    "from transformer_lens.utils import get_act_name\n",
    "from tqdm import tqdm\n",
    "import torch\n",
    "from torch import Tensor\n",
    "import numpy as np\n",
    "from jaxtyping import Int, Float\n",
    "from typing import List, Optional, Tuple\n",
    "import seaborn as sns\n",
    "import matplotlib.pyplot as plta\n",
    "\n",
    "import pandas as pd\n",
    "from tqdm import tqdm\n",
    "from einops import repeat\n",
    "\n",
    "from DSA.dmd import DMD\n",
    "from DSA.simdist import SimilarityTransformDist\n",
    "from sklearn.manifold import MDS"
   ]
  },
  {
   "cell_type": "code",
   "execution_count": 2,
   "metadata": {},
   "outputs": [
    {
     "name": "stdout",
     "output_type": "stream",
     "text": [
      "Checkpoint 0/21\n"
     ]
    },
    {
     "name": "stderr",
     "output_type": "stream",
     "text": [
      "config.json: 100%|██████████| 571/571 [00:00<00:00, 1.34MB/s]\n",
      "WARNING:root:Pythia models on HF were updated on 4/3/23! add '-v0' to model name to access the old models.\n",
      "pytorch_model.bin: 100%|██████████| 5.68G/5.68G [00:53<00:00, 106MB/s] \n",
      "tokenizer_config.json: 100%|██████████| 396/396 [00:00<00:00, 714kB/s]\n",
      "tokenizer.json: 100%|██████████| 2.11M/2.11M [00:00<00:00, 5.06MB/s]\n",
      "special_tokens_map.json: 100%|██████████| 99.0/99.0 [00:00<00:00, 252kB/s]\n",
      "Special tokens have been added in the vocabulary, make sure the associated word embeddings are fine-tuned or trained.\n"
     ]
    },
    {
     "name": "stdout",
     "output_type": "stream",
     "text": [
      "Loaded pretrained model pythia-2.8b into HookedTransformer\n"
     ]
    },
    {
     "name": "stderr",
     "output_type": "stream",
     "text": [
      "WARNING:root:Pythia models on HF were updated on 4/3/23! add '-v0' to model name to access the old models.\n"
     ]
    },
    {
     "name": "stdout",
     "output_type": "stream",
     "text": [
      "Checkpoint 1/21\n"
     ]
    },
    {
     "name": "stderr",
     "output_type": "stream",
     "text": [
      "pytorch_model.bin: 100%|██████████| 5.68G/5.68G [00:52<00:00, 108MB/s] \n",
      "Special tokens have been added in the vocabulary, make sure the associated word embeddings are fine-tuned or trained.\n"
     ]
    },
    {
     "name": "stdout",
     "output_type": "stream",
     "text": [
      "Loaded pretrained model pythia-2.8b into HookedTransformer\n"
     ]
    },
    {
     "name": "stderr",
     "output_type": "stream",
     "text": [
      "WARNING:root:Pythia models on HF were updated on 4/3/23! add '-v0' to model name to access the old models.\n"
     ]
    },
    {
     "name": "stdout",
     "output_type": "stream",
     "text": [
      "Checkpoint 2/21\n"
     ]
    },
    {
     "name": "stderr",
     "output_type": "stream",
     "text": [
      "pytorch_model.bin: 100%|██████████| 5.68G/5.68G [00:52<00:00, 109MB/s] \n",
      "Special tokens have been added in the vocabulary, make sure the associated word embeddings are fine-tuned or trained.\n"
     ]
    },
    {
     "name": "stdout",
     "output_type": "stream",
     "text": [
      "Loaded pretrained model pythia-2.8b into HookedTransformer\n"
     ]
    },
    {
     "name": "stderr",
     "output_type": "stream",
     "text": [
      "WARNING:root:Pythia models on HF were updated on 4/3/23! add '-v0' to model name to access the old models.\n"
     ]
    },
    {
     "name": "stdout",
     "output_type": "stream",
     "text": [
      "Checkpoint 3/21\n"
     ]
    },
    {
     "name": "stderr",
     "output_type": "stream",
     "text": [
      "pytorch_model.bin: 100%|██████████| 5.68G/5.68G [07:15<00:00, 13.1MB/s]\n",
      "Special tokens have been added in the vocabulary, make sure the associated word embeddings are fine-tuned or trained.\n"
     ]
    },
    {
     "name": "stdout",
     "output_type": "stream",
     "text": [
      "Loaded pretrained model pythia-2.8b into HookedTransformer\n"
     ]
    },
    {
     "name": "stderr",
     "output_type": "stream",
     "text": [
      "WARNING:root:Pythia models on HF were updated on 4/3/23! add '-v0' to model name to access the old models.\n"
     ]
    },
    {
     "name": "stdout",
     "output_type": "stream",
     "text": [
      "Checkpoint 4/21\n"
     ]
    },
    {
     "name": "stderr",
     "output_type": "stream",
     "text": [
      "pytorch_model.bin: 100%|██████████| 5.68G/5.68G [07:35<00:00, 12.5MB/s]\n",
      "Special tokens have been added in the vocabulary, make sure the associated word embeddings are fine-tuned or trained.\n"
     ]
    },
    {
     "name": "stdout",
     "output_type": "stream",
     "text": [
      "Loaded pretrained model pythia-2.8b into HookedTransformer\n"
     ]
    },
    {
     "name": "stderr",
     "output_type": "stream",
     "text": [
      "WARNING:root:Pythia models on HF were updated on 4/3/23! add '-v0' to model name to access the old models.\n"
     ]
    },
    {
     "name": "stdout",
     "output_type": "stream",
     "text": [
      "Checkpoint 5/21\n"
     ]
    },
    {
     "name": "stderr",
     "output_type": "stream",
     "text": [
      "pytorch_model.bin: 100%|██████████| 5.68G/5.68G [05:13<00:00, 18.1MB/s]\n",
      "Special tokens have been added in the vocabulary, make sure the associated word embeddings are fine-tuned or trained.\n"
     ]
    },
    {
     "name": "stdout",
     "output_type": "stream",
     "text": [
      "Loaded pretrained model pythia-2.8b into HookedTransformer\n"
     ]
    },
    {
     "name": "stderr",
     "output_type": "stream",
     "text": [
      "WARNING:root:Pythia models on HF were updated on 4/3/23! add '-v0' to model name to access the old models.\n"
     ]
    },
    {
     "name": "stdout",
     "output_type": "stream",
     "text": [
      "Checkpoint 6/21\n"
     ]
    },
    {
     "name": "stderr",
     "output_type": "stream",
     "text": [
      "pytorch_model.bin: 100%|██████████| 5.68G/5.68G [04:15<00:00, 22.3MB/s]\n",
      "Special tokens have been added in the vocabulary, make sure the associated word embeddings are fine-tuned or trained.\n"
     ]
    },
    {
     "name": "stdout",
     "output_type": "stream",
     "text": [
      "Loaded pretrained model pythia-2.8b into HookedTransformer\n"
     ]
    },
    {
     "name": "stderr",
     "output_type": "stream",
     "text": [
      "WARNING:root:Pythia models on HF were updated on 4/3/23! add '-v0' to model name to access the old models.\n"
     ]
    },
    {
     "name": "stdout",
     "output_type": "stream",
     "text": [
      "Checkpoint 7/21\n"
     ]
    },
    {
     "name": "stderr",
     "output_type": "stream",
     "text": [
      "pytorch_model.bin: 100%|██████████| 5.68G/5.68G [08:05<00:00, 11.7MB/s]\n",
      "Special tokens have been added in the vocabulary, make sure the associated word embeddings are fine-tuned or trained.\n"
     ]
    },
    {
     "name": "stdout",
     "output_type": "stream",
     "text": [
      "Loaded pretrained model pythia-2.8b into HookedTransformer\n"
     ]
    },
    {
     "name": "stderr",
     "output_type": "stream",
     "text": [
      "WARNING:root:Pythia models on HF were updated on 4/3/23! add '-v0' to model name to access the old models.\n"
     ]
    },
    {
     "name": "stdout",
     "output_type": "stream",
     "text": [
      "Checkpoint 8/21\n"
     ]
    },
    {
     "name": "stderr",
     "output_type": "stream",
     "text": [
      "pytorch_model.bin: 100%|██████████| 5.68G/5.68G [03:03<00:00, 31.0MB/s]\n",
      "Special tokens have been added in the vocabulary, make sure the associated word embeddings are fine-tuned or trained.\n"
     ]
    },
    {
     "name": "stdout",
     "output_type": "stream",
     "text": [
      "Loaded pretrained model pythia-2.8b into HookedTransformer\n"
     ]
    },
    {
     "name": "stderr",
     "output_type": "stream",
     "text": [
      "WARNING:root:Pythia models on HF were updated on 4/3/23! add '-v0' to model name to access the old models.\n"
     ]
    },
    {
     "name": "stdout",
     "output_type": "stream",
     "text": [
      "Checkpoint 9/21\n"
     ]
    },
    {
     "name": "stderr",
     "output_type": "stream",
     "text": [
      "pytorch_model.bin: 100%|██████████| 5.68G/5.68G [02:49<00:00, 33.5MB/s]\n",
      "Special tokens have been added in the vocabulary, make sure the associated word embeddings are fine-tuned or trained.\n"
     ]
    },
    {
     "name": "stdout",
     "output_type": "stream",
     "text": [
      "Loaded pretrained model pythia-2.8b into HookedTransformer\n"
     ]
    },
    {
     "name": "stderr",
     "output_type": "stream",
     "text": [
      "WARNING:root:Pythia models on HF were updated on 4/3/23! add '-v0' to model name to access the old models.\n"
     ]
    },
    {
     "name": "stdout",
     "output_type": "stream",
     "text": [
      "Checkpoint 10/21\n"
     ]
    },
    {
     "name": "stderr",
     "output_type": "stream",
     "text": [
      "pytorch_model.bin: 100%|██████████| 5.68G/5.68G [04:44<00:00, 20.0MB/s]\n",
      "Special tokens have been added in the vocabulary, make sure the associated word embeddings are fine-tuned or trained.\n"
     ]
    },
    {
     "name": "stdout",
     "output_type": "stream",
     "text": [
      "Loaded pretrained model pythia-2.8b into HookedTransformer\n",
      "Checkpoint 11/21\n"
     ]
    },
    {
     "name": "stderr",
     "output_type": "stream",
     "text": [
      "WARNING:root:Pythia models on HF were updated on 4/3/23! add '-v0' to model name to access the old models.\n",
      "pytorch_model.bin: 100%|██████████| 5.68G/5.68G [02:28<00:00, 38.2MB/s]\n",
      "Special tokens have been added in the vocabulary, make sure the associated word embeddings are fine-tuned or trained.\n"
     ]
    },
    {
     "name": "stdout",
     "output_type": "stream",
     "text": [
      "Loaded pretrained model pythia-2.8b into HookedTransformer\n"
     ]
    },
    {
     "name": "stderr",
     "output_type": "stream",
     "text": [
      "WARNING:root:Pythia models on HF were updated on 4/3/23! add '-v0' to model name to access the old models.\n"
     ]
    },
    {
     "name": "stdout",
     "output_type": "stream",
     "text": [
      "Checkpoint 12/21\n"
     ]
    },
    {
     "name": "stderr",
     "output_type": "stream",
     "text": [
      "pytorch_model.bin: 100%|██████████| 5.68G/5.68G [04:27<00:00, 21.2MB/s]\n",
      "Special tokens have been added in the vocabulary, make sure the associated word embeddings are fine-tuned or trained.\n"
     ]
    },
    {
     "name": "stdout",
     "output_type": "stream",
     "text": [
      "Loaded pretrained model pythia-2.8b into HookedTransformer\n",
      "Checkpoint 13/21\n"
     ]
    },
    {
     "name": "stderr",
     "output_type": "stream",
     "text": [
      "WARNING:root:Pythia models on HF were updated on 4/3/23! add '-v0' to model name to access the old models.\n",
      "pytorch_model.bin: 100%|██████████| 5.68G/5.68G [10:19<00:00, 9.18MB/s]  \n",
      "Special tokens have been added in the vocabulary, make sure the associated word embeddings are fine-tuned or trained.\n"
     ]
    },
    {
     "name": "stdout",
     "output_type": "stream",
     "text": [
      "Loaded pretrained model pythia-2.8b into HookedTransformer\n"
     ]
    },
    {
     "name": "stderr",
     "output_type": "stream",
     "text": [
      "WARNING:root:Pythia models on HF were updated on 4/3/23! add '-v0' to model name to access the old models.\n"
     ]
    },
    {
     "name": "stdout",
     "output_type": "stream",
     "text": [
      "Checkpoint 14/21\n"
     ]
    },
    {
     "name": "stderr",
     "output_type": "stream",
     "text": [
      "pytorch_model.bin: 100%|██████████| 5.68G/5.68G [02:53<00:00, 32.7MB/s]\n",
      "Special tokens have been added in the vocabulary, make sure the associated word embeddings are fine-tuned or trained.\n"
     ]
    },
    {
     "name": "stdout",
     "output_type": "stream",
     "text": [
      "Loaded pretrained model pythia-2.8b into HookedTransformer\n"
     ]
    },
    {
     "name": "stderr",
     "output_type": "stream",
     "text": [
      "WARNING:root:Pythia models on HF were updated on 4/3/23! add '-v0' to model name to access the old models.\n"
     ]
    },
    {
     "name": "stdout",
     "output_type": "stream",
     "text": [
      "Checkpoint 15/21\n"
     ]
    },
    {
     "name": "stderr",
     "output_type": "stream",
     "text": [
      "pytorch_model.bin: 100%|██████████| 5.68G/5.68G [03:27<00:00, 27.4MB/s]\n",
      "Special tokens have been added in the vocabulary, make sure the associated word embeddings are fine-tuned or trained.\n"
     ]
    },
    {
     "name": "stdout",
     "output_type": "stream",
     "text": [
      "Loaded pretrained model pythia-2.8b into HookedTransformer\n"
     ]
    },
    {
     "name": "stderr",
     "output_type": "stream",
     "text": [
      "WARNING:root:Pythia models on HF were updated on 4/3/23! add '-v0' to model name to access the old models.\n"
     ]
    },
    {
     "name": "stdout",
     "output_type": "stream",
     "text": [
      "Checkpoint 16/21\n"
     ]
    },
    {
     "name": "stderr",
     "output_type": "stream",
     "text": [
      "pytorch_model.bin: 100%|██████████| 5.68G/5.68G [09:10<00:00, 10.3MB/s]\n",
      "Special tokens have been added in the vocabulary, make sure the associated word embeddings are fine-tuned or trained.\n"
     ]
    },
    {
     "name": "stdout",
     "output_type": "stream",
     "text": [
      "Loaded pretrained model pythia-2.8b into HookedTransformer\n"
     ]
    },
    {
     "name": "stderr",
     "output_type": "stream",
     "text": [
      "WARNING:root:Pythia models on HF were updated on 4/3/23! add '-v0' to model name to access the old models.\n"
     ]
    },
    {
     "name": "stdout",
     "output_type": "stream",
     "text": [
      "Checkpoint 17/21\n"
     ]
    },
    {
     "name": "stderr",
     "output_type": "stream",
     "text": [
      "pytorch_model.bin: 100%|██████████| 5.68G/5.68G [13:17<00:00, 7.13MB/s]\n",
      "Special tokens have been added in the vocabulary, make sure the associated word embeddings are fine-tuned or trained.\n"
     ]
    },
    {
     "name": "stdout",
     "output_type": "stream",
     "text": [
      "Loaded pretrained model pythia-2.8b into HookedTransformer\n"
     ]
    },
    {
     "name": "stderr",
     "output_type": "stream",
     "text": [
      "WARNING:root:Pythia models on HF were updated on 4/3/23! add '-v0' to model name to access the old models.\n"
     ]
    },
    {
     "name": "stdout",
     "output_type": "stream",
     "text": [
      "Checkpoint 18/21\n"
     ]
    },
    {
     "name": "stderr",
     "output_type": "stream",
     "text": [
      "pytorch_model.bin: 100%|██████████| 5.68G/5.68G [21:47<00:00, 4.35MB/s]\n",
      "Special tokens have been added in the vocabulary, make sure the associated word embeddings are fine-tuned or trained.\n"
     ]
    },
    {
     "name": "stdout",
     "output_type": "stream",
     "text": [
      "Loaded pretrained model pythia-2.8b into HookedTransformer\n"
     ]
    },
    {
     "name": "stderr",
     "output_type": "stream",
     "text": [
      "WARNING:root:Pythia models on HF were updated on 4/3/23! add '-v0' to model name to access the old models.\n"
     ]
    },
    {
     "name": "stdout",
     "output_type": "stream",
     "text": [
      "Checkpoint 19/21\n"
     ]
    },
    {
     "name": "stderr",
     "output_type": "stream",
     "text": [
      "pytorch_model.bin: 100%|██████████| 5.68G/5.68G [08:05<00:00, 11.7MB/s]\n",
      "Special tokens have been added in the vocabulary, make sure the associated word embeddings are fine-tuned or trained.\n"
     ]
    },
    {
     "name": "stdout",
     "output_type": "stream",
     "text": [
      "Loaded pretrained model pythia-2.8b into HookedTransformer\n"
     ]
    },
    {
     "name": "stderr",
     "output_type": "stream",
     "text": [
      "WARNING:root:Pythia models on HF were updated on 4/3/23! add '-v0' to model name to access the old models.\n"
     ]
    },
    {
     "name": "stdout",
     "output_type": "stream",
     "text": [
      "Checkpoint 20/21\n"
     ]
    },
    {
     "name": "stderr",
     "output_type": "stream",
     "text": [
      "pytorch_model.bin: 100%|██████████| 5.68G/5.68G [02:37<00:00, 36.2MB/s]\n",
      "Special tokens have been added in the vocabulary, make sure the associated word embeddings are fine-tuned or trained.\n"
     ]
    },
    {
     "name": "stdout",
     "output_type": "stream",
     "text": [
      "Loaded pretrained model pythia-2.8b into HookedTransformer\n"
     ]
    },
    {
     "name": "stderr",
     "output_type": "stream",
     "text": [
      "WARNING:root:Pythia models on HF were updated on 4/3/23! add '-v0' to model name to access the old models.\n"
     ]
    },
    {
     "name": "stdout",
     "output_type": "stream",
     "text": [
      "Checkpoint 21/21\n"
     ]
    },
    {
     "name": "stderr",
     "output_type": "stream",
     "text": [
      "pytorch_model.bin: 100%|██████████| 5.68G/5.68G [05:23<00:00, 17.6MB/s]\n",
      "Special tokens have been added in the vocabulary, make sure the associated word embeddings are fine-tuned or trained.\n"
     ]
    },
    {
     "name": "stdout",
     "output_type": "stream",
     "text": [
      "Loaded pretrained model pythia-2.8b into HookedTransformer\n"
     ]
    }
   ],
   "source": [
    "def get_model(model_name: str = 'gpt2-small', \n",
    "              checkpoint_index: int = None,\n",
    "              device=None) -> HookedTransformer:\n",
    "    \"\"\"\n",
    "    Loads source or target model.\n",
    "    Pythia models have 154 checkpoints.\n",
    "\n",
    "    model_name: ['gpt2-small', 'pythia-6.9b'] see transformer_lens list\n",
    "    \"\"\"\n",
    "    return HookedTransformer.from_pretrained(model_name, \n",
    "                                             checkpoint_index=checkpoint_index,\n",
    "                                             device=device)\n",
    "\n",
    "\n",
    "def store_activations_in_array(model: HookedTransformer,\n",
    "                               prompt: str,\n",
    "                               activation_type: str = 'resid_pre'):\n",
    "\n",
    "    _, cache = model.run_with_cache(prompt)\n",
    "    \n",
    "    x = torch.zeros([1, model.cfg.n_layers, model.cfg.d_model])\n",
    "\n",
    "    for l in range(0, model.cfg.n_layers):\n",
    "        activations_last_token = cache[activation_type, l][0, -1, :]\n",
    "        x[0, l, :] = activations_last_token\n",
    "\n",
    "    return x\n",
    "\n",
    "\n",
    "\n",
    "checkpoint_indexes = np.arange(0, 153, 7, dtype=int)\n",
    "activations = []\n",
    "model_types = []\n",
    "models = []\n",
    "\n",
    "for i, check in enumerate(checkpoint_indexes):\n",
    "    print(f'Checkpoint {i}/{len(checkpoint_indexes)-1}')\n",
    "    model = get_model(\"pythia-2.8b\", checkpoint_index=check)\n",
    "    x = store_activations_in_array(model, prompt=\"When John and Mary went to the store, John gave a bottle of milk to \")\n",
    "    activations.append(x)\n",
    "    model_types.append(f'{check}')"
   ]
  },
  {
   "cell_type": "code",
   "execution_count": 6,
   "metadata": {},
   "outputs": [],
   "source": [
    "import pickle\n",
    "\n",
    "with open(\"../data/pythia-2.8b_across_training_activations.pkl\", 'wb') as file:\n",
    "    pickle.dump(activations, file)\n",
    "with open(\"../data/pythia-2.8b_across_training_model_types.pkl\", 'wb') as file:\n",
    "    pickle.dump(model_types, file)"
   ]
  },
  {
   "cell_type": "code",
   "execution_count": 7,
   "metadata": {},
   "outputs": [
    {
     "name": "stdout",
     "output_type": "stream",
     "text": [
      "torch.Size([32, 2560])\n",
      "torch.Size([32, 2560])\n",
      "torch.Size([32, 2560])\n",
      "torch.Size([32, 2560])\n",
      "torch.Size([32, 2560])\n",
      "torch.Size([32, 2560])\n",
      "torch.Size([32, 2560])\n",
      "torch.Size([32, 2560])\n",
      "torch.Size([32, 2560])\n",
      "torch.Size([32, 2560])\n",
      "torch.Size([32, 2560])\n",
      "torch.Size([32, 2560])\n",
      "torch.Size([32, 2560])\n",
      "torch.Size([32, 2560])\n",
      "torch.Size([32, 2560])\n",
      "torch.Size([32, 2560])\n",
      "torch.Size([32, 2560])\n",
      "torch.Size([32, 2560])\n",
      "torch.Size([32, 2560])\n",
      "torch.Size([32, 2560])\n",
      "torch.Size([32, 2560])\n",
      "torch.Size([32, 2560])\n",
      "0 0 0.00048828125\n",
      "0 1 0.055117905\n",
      "0 2 0.14692256\n",
      "0 3 0.20561329\n",
      "0 4 0.23571497\n",
      "0 5 0.19760935\n",
      "0 6 0.2285227\n",
      "0 7 0.2656942\n",
      "0 8 0.18680003\n",
      "0 9 0.28495333\n",
      "0 10 0.23438053\n",
      "0 11 0.15504588\n",
      "0 12 0.17180125\n",
      "0 13 0.20273533\n",
      "0 14 0.14654751\n",
      "0 15 0.15269105\n",
      "0 16 0.16732396\n",
      "0 17 0.13284507\n",
      "0 18 0.14183487\n",
      "0 19 0.14604908\n",
      "0 20 0.117699124\n",
      "0 21 0.113996156\n",
      "1 1 0\n",
      "1 2 0.12096008\n",
      "1 3 0.16968635\n",
      "1 4 0.19239104\n",
      "1 5 0.16351382\n",
      "1 6 0.19638085\n",
      "1 7 0.22723596\n",
      "1 8 0.15026817\n",
      "1 9 0.24951674\n",
      "1 10 0.19699666\n",
      "1 11 0.119716324\n",
      "1 12 0.14270587\n",
      "1 13 0.16068259\n",
      "1 14 0.102879874\n",
      "1 15 0.11469565\n",
      "1 16 0.12868299\n",
      "1 17 0.08443633\n",
      "1 18 0.09845721\n",
      "1 19 0.10773721\n",
      "1 20 0.08295904\n",
      "1 21 0.075528875\n",
      "2 2 0.0\n",
      "2 3 0.09799346\n",
      "2 4 0.09727684\n",
      "2 5 0.08027515\n",
      "2 6 0.09859233\n",
      "2 7 0.1267253\n",
      "2 8 0.088145375\n",
      "2 9 0.16619787\n",
      "2 10 0.11169147\n",
      "2 11 0.07445407\n",
      "2 12 0.06195912\n",
      "2 13 0.09429851\n",
      "2 14 0.072647706\n",
      "2 15 0.07537152\n",
      "2 16 0.08396645\n",
      "2 17 0.089500666\n",
      "2 18 0.050834823\n",
      "2 19 0.074152976\n",
      "2 20 0.072864175\n",
      "2 21 0.08166866\n",
      "3 3 0.0\n",
      "3 4 0.0777169\n",
      "3 5 0.038089804\n",
      "3 6 0.06262362\n",
      "3 7 0.11617312\n",
      "3 8 0.03429453\n",
      "3 9 0.09494012\n",
      "3 10 0.07091491\n",
      "3 11 0.09512542\n",
      "3 12 0.06625031\n",
      "3 13 0.08176578\n",
      "3 14 0.075779654\n",
      "3 15 0.06997409\n",
      "3 16 0.05866723\n",
      "3 17 0.108159326\n",
      "3 18 0.080739856\n",
      "3 19 0.07432334\n",
      "3 20 0.11077164\n",
      "3 21 0.10198686\n",
      "4 4 0\n",
      "4 5 0.08169204\n",
      "4 6 0.034731556\n",
      "4 7 0.056716587\n",
      "4 8 0.09266192\n",
      "4 9 0.1320095\n",
      "4 10 0.044597972\n",
      "4 11 0.09433332\n",
      "4 12 0.112731576\n",
      "4 13 0.065603405\n",
      "4 14 0.11003048\n",
      "4 15 0.09376973\n",
      "4 16 0.086127646\n",
      "4 17 0.12673898\n",
      "4 18 0.10829783\n",
      "4 19 0.099361405\n",
      "4 20 0.119630456\n",
      "4 21 0.13606255\n",
      "5 5 0.00077204045\n",
      "5 6 0.083061844\n",
      "5 7 0.08336089\n",
      "5 8 0.034393474\n",
      "5 9 0.10168609\n",
      "5 10 0.056316666\n",
      "5 11 0.12472556\n",
      "5 12 0.054078087\n",
      "5 13 0.043263827\n",
      "5 14 0.06278247\n",
      "5 15 0.076545775\n",
      "5 16 0.053106688\n",
      "5 17 0.08133261\n",
      "5 18 0.068794526\n",
      "5 19 0.077716134\n",
      "5 20 0.09530097\n",
      "5 21 0.095769614\n",
      "6 6 0\n",
      "6 7 0.050811358\n",
      "6 8 0.0759935\n",
      "6 9 0.101331994\n",
      "6 10 0.042609785\n",
      "6 11 0.10281195\n",
      "6 12 0.092978306\n",
      "6 13 0.06763411\n",
      "6 14 0.10778099\n",
      "6 15 0.09850874\n",
      "6 16 0.12780027\n",
      "6 17 0.1227382\n",
      "6 18 0.11205398\n",
      "6 19 0.10573818\n",
      "6 20 0.13029306\n",
      "6 21 0.14049703\n",
      "7 7 0\n",
      "7 8 0.14256456\n",
      "7 9 0.088510245\n",
      "7 10 0.067428306\n",
      "7 11 0.12688272\n",
      "7 12 0.11754828\n",
      "7 13 0.07967305\n",
      "7 14 0.13283472\n",
      "7 15 0.12603109\n",
      "7 16 0.11108554\n",
      "7 17 0.15170269\n",
      "7 18 0.13587435\n",
      "7 19 0.13025863\n",
      "7 20 0.15608573\n",
      "7 21 0.16310726\n",
      "8 8 0.00069053395\n",
      "8 9 0.10517702\n",
      "8 10 0.07666182\n",
      "8 11 0.08748546\n",
      "8 12 0.045345735\n",
      "8 13 0.06304034\n",
      "8 14 0.06960398\n",
      "8 15 0.07314039\n",
      "8 16 0.0636711\n",
      "8 17 0.078620635\n",
      "8 18 0.06867302\n",
      "8 19 0.06272354\n",
      "8 20 0.0999306\n",
      "8 21 0.09287232\n",
      "9 9 0.00059802\n",
      "9 10 0.10000227\n",
      "9 11 0.15216385\n",
      "9 12 0.119241774\n",
      "9 13 0.10363395\n",
      "9 14 0.1569232\n",
      "9 15 0.14679997\n",
      "9 16 0.1568408\n",
      "9 17 0.1705798\n",
      "9 18 0.15955094\n",
      "9 19 0.15201475\n",
      "9 20 0.18169676\n",
      "9 21 0.18497822\n",
      "10 10 0.00048828125\n",
      "10 11 0.09851661\n",
      "10 12 0.080127835\n",
      "10 13 0.049448185\n",
      "10 14 0.09256137\n",
      "10 15 0.0826636\n",
      "10 16 0.06848601\n",
      "10 17 0.11392225\n",
      "10 18 0.09782761\n",
      "10 19 0.08884475\n",
      "10 20 0.110708\n",
      "10 21 0.12140187\n",
      "11 11 0.00048828125\n",
      "11 12 0.11571662\n",
      "11 13 0.07966631\n",
      "11 14 0.049247604\n",
      "11 15 0.05450646\n",
      "11 16 0.05983384\n",
      "11 17 0.05776264\n",
      "11 18 0.05636747\n",
      "11 19 0.056854166\n",
      "11 20 0.05983384\n",
      "11 21 0.060901824\n",
      "12 12 0\n",
      "12 13 0.07111232\n",
      "12 14 0.07016479\n",
      "12 15 0.067284845\n",
      "12 16 0.073610336\n",
      "12 17 0.08092441\n",
      "12 18 0.06648129\n",
      "12 19 0.07350084\n",
      "12 20 0.0743113\n",
      "12 21 0.08084178\n",
      "13 13 0\n",
      "13 14 0.062165737\n",
      "13 15 0.063212305\n",
      "13 16 0.04962754\n",
      "13 17 0.081542164\n",
      "13 18 0.0707102\n",
      "13 19 0.06426969\n",
      "13 20 0.08823876\n",
      "13 21 0.09350709\n",
      "14 14 0.0\n",
      "14 15 0.03125127\n",
      "14 16 0.042777367\n",
      "14 17 0.020572018\n",
      "14 18 0.007978602\n",
      "14 19 0.033807814\n",
      "14 20 0.047299683\n",
      "14 21 0.045688942\n",
      "15 15 0\n",
      "15 16 0.017997233\n",
      "15 17 0.042799663\n",
      "15 18 0.044204514\n",
      "15 19 0.013336525\n",
      "15 20 0.048450507\n",
      "15 21 0.040047694\n",
      "16 16 0\n",
      "16 17 0.054434203\n",
      "16 18 0.042532757\n",
      "16 19 0.022785498\n",
      "16 20 0.060300503\n",
      "16 21 0.055418946\n",
      "17 17 0\n",
      "17 18 0.014794332\n",
      "17 19 0.037275005\n",
      "17 20 0.03676287\n",
      "17 21 0.03392751\n",
      "18 18 0\n",
      "18 19 0.032179825\n",
      "18 20 0.047198728\n",
      "18 21 0.043125793\n",
      "19 19 0\n",
      "19 20 0.040325128\n",
      "19 21 0.03363633\n",
      "20 20 0\n",
      "20 21 0.03287808\n",
      "21 21 0.00034526698\n"
     ]
    }
   ],
   "source": [
    "nmodels = 1\n",
    "n_delays = 20\n",
    "delay_interval = 1\n",
    "rank = 20\n",
    "\n",
    "for x in activations:\n",
    "    x = x[0,:,:] # x.shape [timepoints, dimensions]\n",
    "    print(x.shape)\n",
    "    dmd = DMD(x,n_delays=n_delays,rank=rank,delay_interval=delay_interval,device='cpu')\n",
    "    dmd.fit()\n",
    "    Ai = dmd.A_v #extract DMD matrix\n",
    "    models.append(Ai.numpy())\n",
    "\n",
    "\n",
    "\n",
    "nmodels_tot = len(models)\n",
    "\n",
    "sims_dmd = np.zeros((nmodels_tot,nmodels_tot))\n",
    "sims_mtype = np.zeros((nmodels_tot,nmodels_tot))\n",
    "#notice how we are initializing the similarity transform separately here\n",
    "comparison_dmd = SimilarityTransformDist(device='cpu',iters=2000,lr=1e-3)\n",
    "\n",
    "for i,mi in enumerate(models):\n",
    "    for j,mj in enumerate(models):\n",
    "        smtype = int(model_types[i] == model_types[j])\n",
    "        sims_mtype[i,j] = sims_mtype[j,i] = smtype\n",
    "        if i == j:\n",
    "            sims_mtype[i,i] = 2\n",
    "        if j < i:\n",
    "            continue\n",
    "        sdmd = comparison_dmd.fit_score(mi,mj)\n",
    "        print(i,j,sdmd)\n",
    "\n",
    "        sims_dmd[i,j] = sims_dmd[j,i] = sdmd\n"
   ]
  },
  {
   "cell_type": "code",
   "execution_count": 14,
   "metadata": {},
   "outputs": [
    {
     "data": {
      "image/png": "[encoded data removed]",
      "text/plain": [
       "<Figure size 640x480 with 2 Axes>"
      ]
     },
     "metadata": {},
     "output_type": "display_data"
    }
   ],
   "source": [
    "sns_fig = sns.heatmap(sims_dmd)\n",
    "sns_fig.figure.savefig('../figures/pythia-2.8b_across_training_sims_dmd_heatmap.png')"
   ]
  },
  {
   "cell_type": "code",
   "execution_count": 13,
   "metadata": {},
   "outputs": [
    {
     "name": "stderr",
     "output_type": "stream",
     "text": [
      "/home/jsalle/.conda/envs/p11/lib/python3.11/site-packages/seaborn/_oldcore.py:1498: FutureWarning: is_categorical_dtype is deprecated and will be removed in a future version. Use isinstance(dtype, CategoricalDtype) instead\n",
      "  if pd.api.types.is_categorical_dtype(vector):\n",
      "/home/jsalle/.conda/envs/p11/lib/python3.11/site-packages/seaborn/_oldcore.py:1498: FutureWarning: is_categorical_dtype is deprecated and will be removed in a future version. Use isinstance(dtype, CategoricalDtype) instead\n",
      "  if pd.api.types.is_categorical_dtype(vector):\n",
      "/home/jsalle/.conda/envs/p11/lib/python3.11/site-packages/seaborn/_oldcore.py:1498: FutureWarning: is_categorical_dtype is deprecated and will be removed in a future version. Use isinstance(dtype, CategoricalDtype) instead\n",
      "  if pd.api.types.is_categorical_dtype(vector):\n",
      "/home/jsalle/.conda/envs/p11/lib/python3.11/site-packages/seaborn/_oldcore.py:1498: FutureWarning: is_categorical_dtype is deprecated and will be removed in a future version. Use isinstance(dtype, CategoricalDtype) instead\n",
      "  if pd.api.types.is_categorical_dtype(vector):\n",
      "/home/jsalle/.conda/envs/p11/lib/python3.11/site-packages/seaborn/_oldcore.py:1498: FutureWarning: is_categorical_dtype is deprecated and will be removed in a future version. Use isinstance(dtype, CategoricalDtype) instead\n",
      "  if pd.api.types.is_categorical_dtype(vector):\n"
     ]
    },
    {
     "data": {
      "image/png": "[encoded data removed]",
      "text/plain": [
       "<Figure size 640x480 with 1 Axes>"
      ]
     },
     "metadata": {},
     "output_type": "display_data"
    }
   ],
   "source": [
    "import matplotlib.pyplot as plt\n",
    "\n",
    "df = pd.DataFrame()\n",
    "df['Model Type'] = model_types\n",
    "lowd_embedding = MDS(dissimilarity='precomputed').fit_transform(sims_dmd)\n",
    "df[f\"DMD:0\"] = lowd_embedding[:,0] \n",
    "df[f\"DMD:1\"] = lowd_embedding[:,1]\n",
    "    \n",
    "\n",
    "fig,ax = plt.subplots(1,1,sharex=True,sharey=True)\n",
    "palette = 'plasma'\n",
    "sns.scatterplot(data=df,x=f\"DMD:0\",y=f\"DMD:1\",hue=\"Model Type\",ax=ax,palette=palette)\n",
    "ax.set_xlabel(f\"MDS 1\")\n",
    "ax.set_ylabel(f\"MDS 2\")\n",
    "plt.tight_layout()\n",
    "\n",
    "plt.savefig('../figures/pythia-2.8b_across_training_mds.png')"
   ]
  },
  {
   "cell_type": "code",
   "execution_count": null,
   "metadata": {},
   "outputs": [],
   "source": []
  }
 ],
 "metadata": {
  "kernelspec": {
   "display_name": "p11",
   "language": "python",
   "name": "python3"
  },
  "language_info": {
   "codemirror_mode": {
    "name": "ipython",
    "version": 3
   },
   "file_extension": ".py",
   "mimetype": "text/x-python",
   "name": "python",
   "nbconvert_exporter": "python",
   "pygments_lexer": "ipython3",
   "version": "3.11.5"
  }
 },
 "nbformat": 4,
 "nbformat_minor": 2
}
