{
 "cells": [
  {
   "cell_type": "code",
   "execution_count": 1,
   "metadata": {},
   "outputs": [
    {
     "name": "stderr",
     "output_type": "stream",
     "text": [
      "/home/jsalle/.conda/envs/p11/lib/python3.11/site-packages/tqdm/auto.py:21: TqdmWarning: IProgress not found. Please update jupyter and ipywidgets. See https://ipywidgets.readthedocs.io/en/stable/user_install.html\n",
      "  from .autonotebook import tqdm as notebook_tqdm\n"
     ]
    },
    {
     "ename": "ImportError",
     "evalue": "cannot import name 'get_wikitext_103_sample' from 'data' (/scratch2/jsalle/DSA/data.py)",
     "output_type": "error",
     "traceback": [
      "\u001b[0;31m---------------------------------------------------------------------------\u001b[0m",
      "\u001b[0;31mImportError\u001b[0m                               Traceback (most recent call last)",
      "Cell \u001b[0;32mIn[1], line 23\u001b[0m\n\u001b[1;32m     21\u001b[0m sys\u001b[38;5;241m.\u001b[39mpath\u001b[38;5;241m.\u001b[39mappend(\u001b[38;5;124m'\u001b[39m\u001b[38;5;124m../\u001b[39m\u001b[38;5;124m'\u001b[39m)\n\u001b[1;32m     22\u001b[0m \u001b[38;5;28;01mfrom\u001b[39;00m \u001b[38;5;21;01mmodels\u001b[39;00m \u001b[38;5;28;01mimport\u001b[39;00m get_model_from_name\n\u001b[0;32m---> 23\u001b[0m \u001b[38;5;28;01mfrom\u001b[39;00m \u001b[38;5;21;01mdata\u001b[39;00m \u001b[38;5;28;01mimport\u001b[39;00m get_wikitext_103_sample\n\u001b[1;32m     24\u001b[0m \u001b[38;5;28;01mfrom\u001b[39;00m \u001b[38;5;21;01mactivations\u001b[39;00m \u001b[38;5;28;01mimport\u001b[39;00m get_residual_stream_activations_for_layer_wise_dmd\n\u001b[1;32m     25\u001b[0m \u001b[38;5;28;01mfrom\u001b[39;00m \u001b[38;5;21;01mdmd\u001b[39;00m \u001b[38;5;28;01mimport\u001b[39;00m apply_dmd\n",
      "\u001b[0;31mImportError\u001b[0m: cannot import name 'get_wikitext_103_sample' from 'data' (/scratch2/jsalle/DSA/data.py)"
     ]
    }
   ],
   "source": [
    "from tqdm import tqdm\n",
    "import torch\n",
    "from torch import Tensor\n",
    "import numpy as np\n",
    "from jaxtyping import Int, Float\n",
    "from typing import List, Optional, Tuple\n",
    "import seaborn as sns\n",
    "import matplotlib.pyplot as plt\n",
    "import plotly.express as px\n",
    "\n",
    "import pandas as pd\n",
    "from tqdm import tqdm\n",
    "from einops import repeat\n",
    "import multiprocessing\n",
    "import sys\n",
    "\n",
    "from DSA.dmd import DMD\n",
    "from DSA.simdist import SimilarityTransformDist\n",
    "from sklearn.manifold import MDS\n",
    "\n",
    "sys.path.append('../')\n",
    "from models import get_model_from_name\n",
    "from data import get_wikitext_103_sample\n",
    "from activations import get_residual_stream_activations_for_layer_wise_dmd\n",
    "from dmd import apply_dmd\n",
    "\n",
    "torch.set_grad_enabled(True)\n",
    "\n",
    "# List all available GPUs\n",
    "if torch.cuda.is_available():\n",
    "    for i in range(torch.cuda.device_count()):\n",
    "        print(f\"Device {i}: {torch.cuda.get_device_name(i)}\")\n",
    "    print(f\"Current CUDA device: {torch.cuda.current_device()}\")\n",
    "\n",
    "else:\n",
    "    print(\"CUDA is not available. Listing CPUs instead.\")\n",
    "    print(multiprocessing.cpu_count())\n",
    "\n",
    "device = torch.device(\"cuda\" if torch.cuda.is_available() else \"cpu\")"
   ]
  },
  {
   "cell_type": "code",
   "execution_count": null,
   "metadata": {},
   "outputs": [
    {
     "name": "stderr",
     "output_type": "stream",
     "text": [
      "Special tokens have been added in the vocabulary, make sure the associated word embeddings are fine-tuned or trained.\n",
      "Asking to truncate to max_length but no maximum length is provided and the model has no predefined maximum length. Default to no truncation.\n"
     ]
    },
    {
     "name": "stdout",
     "output_type": "stream",
     "text": [
      "['= The Otto Show =\\n\"The Otto Show\" is the twenty-second episode of The Simpsons\\' third season. It first aired on the Fox network in the United States on April 23, 1992. In the episode, Bart decides that he wants to become a rock star after attending a Spinal Tap concert, so Homer and Marge buy him a guitar. He shows the guitar to Otto the bus driver, who plays it and consequently makes the children late for school. Racing to Springfield Elementary, Otto crashes the school bus and is suspended until he can get his license back. Bart, who respects Otto, invites him to move in with the Simpson family.\\nThe episode was written by Jeff Martin and directed by Wes Archer. It was the first episode of the show to feature Otto Mann in a prominent role. \"The Otto Show\" features an appearance from Spinal Tap, a parody band that first appeared in the 1984 mockumentary film This Is Spinal Tap. The episode guest stars Michael McKean as David St. Hubbins and Christopher Guest as Nigel Tufnel. Harry Shearer, who is a regular Simpsons cast member, also starred in This Is Spinal Tap and reprises his role as Derek Smalls.\\nIn its original airing on the Fox Network, the episode had an 11.5 Nielsen rating and finished the week ranked 41st. The episode received positive reviews and Spinal Tap was ranked as the 18th best guest appearance on the show by IGN.\\n= = Plot = =\\nBart and Milhouse attend a Spinal Tap concert, which degenerates into a riot. Nonetheless, Bart is impressed by the band and wants to become a rock guitarist. Homer and Marge decide to buy Bart his own electric guitar, but he finds it impossible to play as he is not musically gifted like Lisa (when she tries to play a duet with her sax). The next morning on the school bus, Bart tells Otto he thinks his guitar is broken, but Otto wows his passengers with an impromptu concert. The performance meant that they are now late for school, so Otto is forced to drive recklessly to get there in time. The bus causes numerous incidents before turning over onto its side in the town square, where it also smashes into the statue of Jebediah Springfield.\\nWhen Officer Lou asks for Otto\\'s driver\\'s license, Otto is forced to admit he does not have a license (nor is he wearing his own underwear on which he wrote his name as proof of his identity). He is suspended without pay, and Principal Skinner takes over his route. However, Skinner finds driving the bus hard going, being a less aggressive driver than Otto, and ends up being trapped at a busy intersection for an entire day. Otto, meanwhile, goes to the Springfield Department of Motor Vehicles but he fails the driver\\'s test that is administered by Marge\\'s sister Patty partly due to his poor driving ability and partly due to the fact he asks Patty if she was born male. He is also unable to find a new job, and therefore cannot pay his rent and is evicted from his apartment. Bart finds him living in a Trash Co. Waste Disposal Unit, and agrees to let him live in the Simpsons\\' garage. Homer and Marge disapprove of this but reluctantly agree to let him stay.\\nOtto quickly makes a nuisance of himself. Homer begins to lose patience with Otto and demands that he be sent on his way. Marge and Bart encourage him to give the driving test one last try. Otto goes to the DMV to take the test again, angry that Homer called him a \"sponge\". Patty refuses to let him take the test after a comment he made about her being born a man. However, when Otto tells her that he wants to pass so he can prove Homer wrong and \"staple his licence to Homer Simpson\\'s Big Bald Head\", she relents out of spite for her brother-in-law. Otto performs even worse in his second test, but Patty grants Otto his license anyway after he entertains her with stories of Homer\\'s crude behavior. Now a properly licensed driver (albeit under probationary status), Otto regains his job and Skinner is happy to return to his normal job as Principal.\\n= = Production = =\\n\"The Otto Show\" was written by Jeff Martin and directed by Wes Archer. The episode\\'s title is a pun on auto show. The episode was the first to feature bus driver Otto Mann in a prominent role. Otto\\'s full name is revealed for the first time. Writers Jay Kogen and Wallace Wolodarsky had originally wanted to name him Otto Mechanic, but the animators gave him the last name Mann.\\n\"The Otto Show\" features an appearance from Spinal Tap, a parody band that first appeared in the 1984 mockumentary film This Is Spinal Tap. The episode guest stars Michael McKean as David St. Hubbins and Christopher Guest as Nigel Tufnel. Harry Shearer, who is a regular Simpsons cast member, also starred in This Is Spinal Tap and reprises his role as Derek Smalls, the third member of the group. The episode follows the approach of the film by presenting the band as if they were a real group. According to executive producer Al Jean, the executives at Fox were unhappy about having the band guest star, partially because it cost a lot of money to purchase rights to play their songs. Mike Reiss said that Fox felt that the show could have gotten a \"real group\" for that amount of money. The animators gave many of the members of the crowd at the Spinal Tap concert long bangs, so they would not have to animate many pairs of eyes. In the final scene to feature the band, their tour bus bursts into flames after being knocked off the road. According to the writers, the scene was not in the original script and was added because they felt the band\\'s final scene was not interesting enough.\\n= = Cultural references = =\\nWhen Homer puts on an old jacket he finds a can of Billy Beer in one of the pockets. While waiting in the car during the Spinal Tap concert (as well as the ensuing riot), Homer sings along to the song \"Spanish Flea\" by Herb Alpert and the Tijuana Brass. The writers had a difficult time getting the rights to the song, but a writer who is related to a member of the band was able to get the rights at the last minute. Homer also hums along to \"Summer Samba\" at a later segment in the car. Homer makes a comment on their situation with Otto, saying \"This is not Happy Days and he is not The Fonz!\" Otto then walks in and says to Homer, \"Heeeeeyy, Mr. S,\" in reference to the long-running situation comedy. The song Otto plays on the school bus is \"Free Bird\" by Lynyrd Skynyrd. Otto\\'s statement that he would prefer to be sleeping in a Dumpster brand trash container over a \"Trash Co. Waste Disposal Unit\" alludes to the word\\'s status as a registered trademark for a brand of large trash containers.\\n= = Reception = =\\nIn its original airing on the Fox Network, the episode had an 11.5 Nielsen rating and was viewed in approximately 10.59 million homes. It finished the week of April 20 – 26, 1992 ranked 41st, down from the season\\'s average rank of 35th. The Simpsons was the fourth highest rated show on Fox that week after Married... with Children, Beverly Hills, 90210 and In Living Color.\\nThe episode, like the whole of the third season, received mostly positive reviews from critics. The authors of the book I Can\\'t Believe It\\'s a Bigger and Better Updated Unofficial Simpsons Guide, Warren Martyn and Adrian Wood, wrote, \"A nice episode for Otto and some great moments for Skinner as he tries to drive the bus, but especially memorable for Homer\\'s moment of forgetfulness after the concert. Michael McKean, Christopher Guest and Harry Shearer reprise their roles from This Is Spinal Tap perfectly.\" MovieFreak.com\\'s Dennis Landmann named \"The Otto Show\" as one of the stand-out episodes from the third season. Nate Meyers of Digitally Obsessed was also positive about the episode, giving it a rating of five donuts out of five and writing \"The writing is at full throttle here, cramming tons of jokes into the episode\\'s 20-minute runtime with stunning success.\" DVD Movie Guide\\'s Colin Jacobson wrote that it was \"another solid episode. Actually, it regresses somewhat from the high quality of its predecessors. The Spinal Tap material feels somewhat tacky – it was a tie-in with their then-current attempt to sell a new album – and Otto\\'s not a strong character. I don ’ t think the series ever made him the lead again, and he works best in small doses.\" Otto: remains very good, but it doesn ’ t compete with the year ’ s best shows. \"\"\\nEspecially the guest appearance of Spinal Tap was noticed. Bryce Wilson, in his review of the third season for Cinema Blend, wrote \"Simpson ’ s [sic] voice actor Harry Shearer... reunites Spinal Tap just for\" The Otto Show \", an episode full of the trademark Tap banter and stage disasters that rival even the mighty 18 inch Stonehenge.\" IGN named Spinal Tap as the \\'18th best guest stars\\' in the show\\'s history for this episode. Andrew Martin of Prefix Mag named Spinal Tap his favorite musical guests on The Simpsons out of a list of ten.', '= Ross Youngs =\\nRoyce Middlebrook \"Ross\" Youngs (April 10, 1897 – October 22, 1927) was a professional baseball player. Nicknamed \"Pep\", he played ten seasons in Major League Baseball for the New York Giants from 1917 through 1926, playing right field almost exclusively. Youngs was a part of the Giants teams that won four consecutive National League pennants and the 1921 and 1922 World Series.\\nFrom Shiner, Texas, Youngs excelled at baseball and American football at the West Texas Military Institute. After beginning his professional career in minor league baseball, the Giants signed him in 1916. Youngs had a lifetime .322 batting average with the Giants and batted over .300 nine times in his career, including eight consecutive seasons. His career was cut short by illness, however, as he died at the age of 30 of Bright\\'s disease.\\nKnown for his defense and hitting, he was elected to the Baseball Hall of Fame in 1972 by the Veterans Committee. His election was not without controversy, however, as the Veterans Committee consisted of his former teammates, and charges of cronyism were leveled against the Veterans Committee.\\n= = Early life and minor leagues = =\\nYoungs was born in Shiner, Texas, the second of three children, all sons. His father was a railroad worker, but suffered disability and moved his family to San Antonio where he worked as a rancher. Youngs\\' mother ran a small hotel in San Antonio and Youngs had a paper route.\\nYoungs was educated at West Texas Military Institute. He received offers for scholarships to play college football but passed on these, as he preferred baseball. He made his professional baseball debut for the Austin Senators of the Texas League in 1914. Appearing in 17 games, he hit just .145 for the class-B Senators and, in 1915, found himself down in the Class-D leagues, playing for Brenham of the Middle Texas League and the Waxahachie Athletics of the Central Texas League; both leagues disbanded during the season. In 1916, playing in the infield for the Sherman Lions of the Class-D Western Association, he hit .362 as a switch-hitter, drawing the attention of the New York Giants, who purchased his contract in August for $2,000 ($43,492 in current dollar terms).\\n= = New York Giants = =\\nYoungs reported to spring training in Marlin, Texas with the Giants in 1917. They initially assigned him to the Rochester Hustlers, a team in the International League with which the Giants had a working relationship. Giants manager John McGraw told Mickey Doolan, the manager of the Hustlers, \"I\\'m giving you one of the greatest players I\\'ve ever seen. Play him in the outfield. If anything happens to him, I\\'m holding you responsible.\" In 140 games with Rochester, Youngs hit .356, earning himself a late-season promotion to the big league club. McGraw gave Youngs the nickname \"Pep\" due to his hustle and soon began to groom Youngs to become his successor as Giants\\' manager.\\nYoungs made his major league debut on September 25 and played in seven of the last nine games of the season for the eventual National League (NL) pennant-winners: six in center field and one in right. In those seven games he went 9-for-26 (.346) with two doubles and three triples. In 1918 regular Giants right fielder Dave Robertson left the team to manage a local military ballclub, and Youngs was given the full-time job out of spring training. Batting exclusively left-handed, Youngs responded by batting .302 in 121 games, finishing sixth in the league. It would be the first of seven straight seasons in which he hit .300 as a regular, and the second of eight overall counting his brief stint in 1917. He also finished sixth in the NL with a .368 on-base percentage (OBP). The next season Robertson was traded to the Chicago Cubs for pitcher Phil Douglas, leaving Youngs to become a fixture in right field for the Giants. Youngs finished third in the NL in 1919 with a .311 batting average. His .351 batting average in 1920 was second in the NL to Rogers Hornsby.\\nYoungs batted .327 in 1921, good for ninth in the NL. In Game 3 of the 1921 World Series Youngs became the first player to record two hits in the same inning of a World Series game. The Giants defeated the New York Yankees as Youngs batted .280 in the series. Youngs hit for the cycle on April 29, 1922. He finished the regular season ninth in the NL in OBP (.398) and tied for ninth in stolen bases (17), proceeding to hit .375 in the 1922 World Series as the Giants again defeated the Yankees. Youngs led the NL in runs scored in 1923, with 121, and his .348 batting average was the eighth best in the league. Youngs batted .356 in the 1923 World Series, which the Giants lost to the Yankees.\\nYoungs batted .356 during the 1924 season, finishing third in the NL. In the final series of this season, the Giants were playing the Philadelphia Phillies at the Polo Grounds and battling for the pennant with the Brooklyn Dodgers. Jimmy O\\'Connell, an outfielder for the Giants, offered Phillies shortstop Heinie Sand $500 to intentionally lose the games ($6,904 in current dollar terms). Sand rejected the bribe and reported it to Phillies manager Art Fletcher. It eventually led to the lifetime suspension of O\\'Connell and Giants coach Crazy Dolan by Commissioner Kenesaw Mountain Landis. O\\'Connell implicated teammates Youngs, George Kelly, and Frankie Frisch as co-conspirators; Landis, however, cleared the trio of any wrongdoing.\\nYoungs slumped to a .185 batting average during the 1924 World Series, which the Giants lost to the Washington Senators. Continuing to struggle in 1925, Youngs batted .264, his only season with a batting average below .300, but improved to .306 in 95 games during the 1926 season. Toward the end of his career, Youngs taught Mel Ott, his eventual successor, how to play right field in the Polo Grounds.\\n= = Illness and death = =\\nYoungs\\'s career was abruptly cut short in 1926 when he was diagnosed with the kidney disorder that, at the time, was called Bright\\'s disease. He had been exposed to streptococcal infection in 1924. Too ill to play after August 10, 1926, Youngs returned home on McGraw\\'s insistence and received a blood transfusion in March 1927.\\nYoungs died of Bright\\'s disease on October 22, 1927 at the age of 30. He went from weighing 170 pounds (77 kg) during his playing career to 100 pounds (45 kg) by the time of his death. In The New York Times obituary, Giants manager John McGraw called Youngs the greatest outfielder he\\'d ever seen, as well as \"the greatest fighter I ever saw on a baseball field\" and \"the easiest man I ever knew to handle.\" The Giants honored Youngs with a bronze plaque on the right field wall of the Polo Grounds; although the Giants intended to pay for it, fans expressed their desire to contribute and, even though contributions were limited to $1 per person, donations paid for the plaque entirely.\\n= = Legacy = =\\nOver his abbreviated ten-year career, Youngs posted 812 runs, 42 home runs, 592 runs batted in (RBI), 153 stolen bases, a .322 career batting average, and .399 career on-base percentage. He batted .300 or higher in every season until 1925, and higher than .350 twice. Youngs scored 100 or more runs three times and posted a career high 102 RBI in 1921 and 10 home runs in 1924. During his tenure with the team, the Giants went to the World Series four consecutive years (1921 – 1924) and won twice (1921, 1922). Youngs was a favorite of McGraw, who kept only two pictures in his office: one of Christy Mathewson and one of Youngs. Rosy Ryan, a teammate with the Giants, and Burleigh Grimes, who played against Youngs as a member of the Brooklyn Dodgers, considered Youngs the best player they ever saw.\\nYoungs was included in the inaugural balloting for the National Baseball Hall of Fame in 1936, but received less than 5% of the vote from the Baseball Writers\\' Association of America (BBWAA). Youngs remained on the ballot every year through 1956, receiving his highest vote total in 1947 with 22%. Ford C. Frick, Commissioner of Baseball, and former teammate Bill Terry both championed Youngs\\' candidacy.\\nFormer Giants teammates Terry and Frankie Frisch joined the Veterans Committee in 1967 and aided the elections of several of their former teammates, including Youngs in 1972. In addition to Youngs, Terry and Frisch shepherded the selections of Giants teammates Jesse Haines in 1970, Dave Bancroft and Chick Hafey in 1971, George Kelly in 1973, Jim Bottomley in 1974, and Freddie Lindstrom in 1976. Youngs died at the earliest age of any current Hall of Famer. Youngs is the only member of the National Baseball Hall of Fame from San Antonio and was inducted into the San Antonio Sports Hall of Fame in 1998. Shiner, the town in which Youngs was born, hosted a baseball tournament in his honor at Clipper Field from 2001 through 2003.\\nYoungs\\' selection, along with some of the other selections made by Terry and Frisch, has been considered one of the weakest in some circles. According to the BBWAA, the Veterans Committee was not selective enough in choosing members, and charges of cronyism were later leveled against the committee. This led to the Veterans Committee having its powers reduced in subsequent years. Baseball statistician Bill James recognized this and wrote that Youngs does not belong in the Hall of Fame. In 1981, however, Lawrence Ritter and Honig included Youngs in their book The 100 Greatest Baseball Players of All Time. They explained what they called \"the Smoky Joe Wood Syndrome\", where a player of truly exceptional talent but a career curtailed by injury or illness should still — in spite of not owning career statistics that would quantitatively rank him with the all-time greats — be included on their list of the 100 greatest players.\\n= = Personal life = =\\nYoungs married Dorothy Pienecke, a woman from Brooklyn who he met while vacationing in the Berkshires, in October 1924. Their daughter Caroline was born in December 1925. Dorothy feuded with Youngs\\' mother, however, and the couple separated before the birth of Caroline, whom he never met. Youngs was considered friendly and generous, loaned money constantly, and was reportedly owed $16,000 at the time of his death ($217,962 in current dollar terms). Youngs enjoyed playing golf and was considered the best golfer in the major leagues.', '= 2001 – 02 South-West Indian Ocean cyclone season =\\nThe 2001 – 02 South-West Indian Ocean cyclone season had the earliest named storm since 1992. Many storms formed in the north-east portion of the basin, and several more originated around Australia. The basin is defined as the waters of the Indian Ocean west of longitude 90 ° E to the coast of Africa and south of the equator. Eleven tropical storms formed, compared to an average of nine. Tropical systems were present during 73 days, which was significantly higher than the average of 58.\\nTropical cyclones in this basin are monitored by the Regional Specialized Meteorological Center (RSMC) in Réunion. The season started on November 1, 2001, and ended on April 30, 2002; for Mauritius and the Seychelles, the season continued until May 15. These dates conventionally delimit the period of each year when most tropical cyclones form in the basin; however, storms formed both before and after the designated season. The first storm was Andre, which emerged from the Australian basin as Tropical Cyclone Alex in late October. The strongest storm, Cyclone Hary, was the first very intense tropical cyclone since 2000; it hit Madagascar, where it caused lighter damage than expected but three deaths. In January, Cyclone Dina left heavy damage in the Mascarene Islands, particularly on Réunion, where it dropped 2,102 mm (82.8 in) of rainfall. The final storm was Cyclone Kesiny, which killed 33 people when it struck Madagascar in the midst of a political crisis.\\n= = Season summary = =\\nMétéo-France\\'s meteorological office in Réunion (MFR) is the official Regional Specialized Meteorological Center for the South-West Indian Ocean, tracking all tropical cyclones from the east coast of Africa to 90 ° E. The Joint Typhoon Warning Center (JTWC), which is a joint United States Navy – United States Air Force task force that issues tropical cyclone warnings for the region, also issued advisories for storms during the season. Following the season, the start of the tropical cyclone year was changed to July 1, which defines the boundary between tropical cyclone seasons.\\nAlthough the previous season was tame, the 2001 – 02 season was very active and featured several intense tropical cyclones. During the season, eleven systems were named, which was slightly above the average of nine. However, nine of the systems attained cyclone intensity, the second highest total in 30 years. In terms of both the number of systems and number of \"cyclone days\", the season was considered comparable by MFR to the 1993 – 94 season. In this season, there were 73 days on which tropical cyclones were active, which was more than twice as much as the previous season and 19 days above the average. A system of cyclone intensity was active on 35 days, which was 15 days above the mean. Additionally, five of the systems attained \"intense tropical cyclone\" status, including one – Hary – that attained the \"very intense tropical cyclone\" stage. Activity was relatively distributed throughout the season and had the earliest start since 1992. Like most seasons within the basin, activity reached a climax in late January. Several systems during the season developed in the eastern portion of the basin, similar to 1993 – 94; unlike that season, many storms in 2001 – 02 stayed at sea throughout their lifetime, thus reducing casualties and damage.\\n= = Storms = =\\n= = = Severe Tropical Storm Alex – Andre = = =\\nThe Bureau of Meteorology (BoM) classified a tropical low as Tropical Cyclone Alex on October 26 in the Australian region. It was initially located in an area of strong wind shear, which prevented significant strengthening. However, convection over the system increased on October 27, and it crossed into the South-West Indian Ocean at around the same time. It was renamed Andre, becoming the earliest date for the first named storm since 1992. After reaching 10 ‑ minute sustained winds of 100 km / h (65 mph), according to the MFR, Andre began slowly weakening, due to increasing shear. It moved generally to the west-southwest before turning northwestward on October 29, around which time the convection separated from the center. Moving slowly, Andre later turned to the southwest after weakening to a tropical depression. Late on October 31, the system was no longer classifiable as a tropical system, and the remnants continued to the west-southwest until being absorbed by a trough on November 8.\\n= = = Tropical Cyclone Bessi – Bako = = =\\nThe monsoon trough spawned a tropical low on November 24 in the Australian basin. It moved to the southwest, strengthening into Tropical Cyclone Bessi on November 27. Two days later, it moved into the South-West Indian Ocean, and was renamed Bako on December 1. Located in a similar position to the previous storm, Bako strengthened into a severe tropical storm on December 1, aided by warm waters and slack wind shear. The storm turned to the southeast on December 2, despite predictions to the contrary, and later that day it intensified further into a tropical cyclone, the first of the season. However, on December 3, Bako weakened back into a severe tropical storm due to much cooler sea surface temperatures and increasing northwesterly wind shear. It weakened into a tropical depression on December 5, before transitioning into an extratropical cyclone the same day. RSMC La Reunion continued to track the remnants of Bako until December 9.\\n= = = Severe Tropical Storm Cyprien = = =\\nOn December 25, a cold front dragged over the central Mozambique Channel. A weak circulation formed in the Channel and moderate convection appeared on December 27. Then on December 30, RSMC La Reunion designated this low pressure as a zone of disturbed weather and was classified as a tropical depression on January 1, 2002. The JTWC also issued a Tropical Cyclone Formation Alert (TCFA) early on December 31 and designated it as Tropical Cyclone 08S the next day. As it moved further eastwards it strengthened quickly from a tropical depression into a severe tropical storm, with the Meteorological Services of Madagascar giving it the name Cyprien on January 1. Cyprien soon became a serious threat to western Madagascar. Convection began to dissipate as wind shear increased and that resulted in quick weakening to a tropical depression. As it made landfall on western Madagascar, it dropped heavy rainfall. In all, Cyprien destroyed 841 homes in the towns of Morombe and Morondava. Damage in the towns was estimated at $180,000, but there were no deaths.\\n= = = Intense Tropical Cyclone Dina = = =\\nCyclone Dina originated in a tropical disturbance first noted on January 15 near the Chagos Archipelago. By January 17, the system had developed enough organized convection as it moved southwestward to be declared a tropical depression. Rapid intensification occurred shortly thereafter, with the system attaining winds in excess of 120 km / h (75 mph) on January 18. Dina peaked in intensity on January 20 as an intense tropical cyclone with winds of 210 km / h (130 mph). Hours later, the storm bypassed Rodrigues Island about 150 km (93 mi) to its north. On January 21, the storm brushed Mauritius and Réunion as an intense tropical cyclone before turning southward. Once on a southward course, steady weakening ensued and the system eventually transitioned into an extratropical cyclone on January 25. The remnants of the storm accelerated southeastward and were absorbed into a polar trough on January 28.\\nAcross Mauritius and Réunion, torrential rains and destructive winds from the cyclone resulted in extensive to \"catastrophic\" damage. The entire island of Mauritius lost power during the storm and widespread structural damage took place. Agricultural and property damage amounted to US $47 million and US $50 million respectively in the republic. Nine fatalities were attributed to the storm in Mauritius: five off the coast of Rodrigues Island and four on the main island. More extensive damage was seen on Réunion where up to 2,102 mm (82.8 in) of rain fell over three days. Flooding destroyed many homes, washed out roads, and caused catastrophic agricultural damage. Destructive winds, measured at up to 280 km / h (170 mph), also crippled communications. In all, six people died on the island and losses were estimated at €200 million (US $190 million).\\n= = = Tropical Cyclone Eddy = = =\\nA system developed within a convergence zone on January 20 near the boundary between the South-West Indian Ocean and the Australia region. Its circulation became better defined, and MFR initiated advisories on January 22. With a ridge to the south, it drifted to the southeast, approaching 90 ° E, but turning to the southwest before crossing over. On January 23, the system intensified into a tropical depression. Slowly intensifying, the depression became Tropical Storm Eddy on January 24. That day, the JTWC initiated advisories on Tropical Cyclone 11S, and it turned toward the south. After having experienced moderate wind shear, Eddy entered an area of more favorable conditions, and its convection gradually organized. Early on January 26, MFR upgraded it to a tropical cyclone, later estimating peak winds of 130 km / h (80 mph). After that time, increasing wind shear weakened Eddy to a tropical storm, causing it to curve to the west. By January 28, the circulation was exposed from the convection, and Eddy weakened to a tropical depression. It turned to the southwest the next day, and dissipated fully on January 30.\\n= = = Intense Tropical Cyclone Francesca = = =\\nThe origins of Francesca were from a tropical low that formed in the Australia region on January 28, east of the Cocos Islands. This was near the same place that Eddy had formed a week prior. The system that became Francesca moved west-southwestward due to a ridge to the south. On January 30 it crossed into the South-West Indian Ocean, where wind shear prevented significant development. On January 31, the system intensified into a tropical depression, and late the next day the JTWC classified it as Tropical Cyclone 12S. Wind shear diminished on February 2, which allowed the depression to strengthen into Tropical Storm Francesca after convection increased. It continued to intensify steadily, becoming a tropical cyclone on February 3. The next day, the JTWC upgraded Francesca to the equivalent of a minimal hurricane.\\nAn approaching trough turned the cyclone to the southeast, and Francesca quickly developed a well-defined eye. It rapidly strengthened into an intense tropical cyclone, and reached peak winds of 185 km / h (115 mph) on February 4, according to MFR. The JTWC estimated peak 1 ‑ minute winds of 215 km / h (135 mph) when the storm was located about 1065 km (660 mi) southeast of Diego Garcia. Shortly after peaking, Francesca began weakening, losing its eye, until being a minimal tropical cyclone on February 7. That day, it re-intensified slightly and redeveloped an eye, although it was short-lived. Increasing shear again weakened Francesca, and on February 9 the cyclone deteriorated to a tropical storm. Cooler waters caused further weakening, which diminished convection over the center. On February 11, Francesca became extratropical, and the remnants turned to the southwest, dissipating on February 14.\\n= = = Intense Tropical Cyclone Guillaume = = =\\nOn February 13, several low pressure areas were located over east-central Madagascar, with an area of convection that extended northwestward across the country toward Comoros. The system dropped heavy rainfall, reaching 250 mm (9.8 in) in Tamatave in a 12 ‑ hour period. In Mamoudzou, the capital of Mayotte, rainfall reached 195 mm (7.7 in) in 24 hours, which caused some damage on the island including a bridge collapse. A developing center gradually became better organized, and it took an unusual track offshore toward the northeast, steered by a ridge over Madagascar. On February 14, MFR classified the system as a zone of disturbed weather, upgrading it to a tropical disturbance the next day. Late on February 15, the JTWC initiated advisories on Tropical Cyclone 15S, and early the next day MFR upgraded it to Tropical Depression 10. Shortly thereafter, the Meteorological Services of Madagascar upgraded the system to Tropical Storm Guillame.\\nLate on February 16, Guillame began developing a small eye, turning to the east around the same time. With favorable conditions, including good outflow, the system quickly intensified into a compact tropical cyclone as it turned to the southeast. Strengthening briefly stopped on February 17, possible due to an eyewall replacement cycle, although it resumed the following day. Guillame curved to the south and southwest, reaching peak winds of 195 km / h (120 mph) late on February 18; this made it an intense tropical cyclone. The next day, the cyclone passed about 150 km (93 mi) east of Mauritius before an approaching trough turned it to the southeast. Despite the storm\\'s proximity to the island, effects there were modest, marked by winds of 78 km / h (48 mph) and 71 mm (2.8 in) of rain. The cyclone began weakening due to increased wind shear, and deteriorated below tropical cyclone status on February 21. A strengthening ridge turned Guillame toward the northwest, and the storm dissipated on February 23.\\n= = = Very Intense Tropical Cyclone Hary = = =\\nCyclone Hary was the strongest tropical cyclone of the season. Developing on March 5 from the monsoon trough, the storm initially moved generally to the west and gradually intensified. With favorable conditions, Hary quickly intensified on March 7, developing an eye and well-defined outflow. After reaching an initial peak, the cyclone briefly weakened due to an eyewall replacement cycle, by which time the storm turned southwestward toward Madagascar. Hary re-intensified and attained peak winds of 220 km / h (140 mph) on March 10 just offshore of eastern Madagascar, which made it the first very intense tropical cyclone since 2000.\\nAfter peaking, Hary weakened due to land interaction, and it struck Madagascar southeast of Antalaha. After turning south over land, Cyclone Hary quickly moved offshore. There were three deaths in the country, one of which was from electrocution. There was locally heavy crop damage, and four bridges were destroyed. However, the damage was considered minimal, given the intensity of the storm. After affecting Madagascar, Hary accelerated to the southeast, and the eastern periphery of the circulation moved over Réunion. On the mountain peaks of the island, rainfall reached 1,344 mm (52.9 in), although it was much less near the coast. The rainfall caused flooding, killing one person, and 20,000 people were left without power. Hary became extratropical on March 13, although its remnants continued for several days as a powerful mid-latitude storm.\\n= = = Intense Tropical Cyclone Ikala = = =\\nOn March 21, a tropical disturbance quickly developed in the monsoon trough in the south-central Indian Ocean, about 1250 km (775 mi) east of Diego Garcia. A ridge to the south steered the system to the west-southwest, and moderate wind shear in the region prevented significant strengthening. The convection slowly organized, and the depression intensified into Tropical Storm Ikala early on March 25. By that time, the shear had decreased, although initially it was strong enough to prevent the convection from covering the center. An approaching cold front turned the storm to the southeast on March 25, where upper-level conditions became more favorable for strengthening. Thunderstorms increased over the center, and an eye began developing on March 26. The next day, Ikala intensified into a tropical cyclone, reaching peak winds of 165 km / h (105 mph) according to MFR; the JTWC estimated peak 1 ‑ minute winds of 205 km / h (125 mph). Shortly after peaking, increased wind shear and drier air from the front quickly weakened Ikala, and it deteriorated below tropical cyclone status on March 28. That day, the center became exposed from the convection, and on March 29 Ikala became extratropical. The remnants turned to the southwest before recurving to the southeast on March 31, and Ikala was absorbed by a cold front on April 3.\\n= = = Tropical Cyclone Dianne – Jery = = =\\nIn early April, the monsoon trough spawned a tropical depression early on April 7 to the northeast of the Cocos Islands in the Australian basin. It moved to the southwest due to a ridge along the west coast of Australia, and quickly intensified into Tropical Cyclone Dianne. Favorable conditions allowed for continued strengthening, and the storm developed a small eye late on April 7. The next day, the storm entered into South-West Indian Ocean and was renamed Jery. Shortly thereafter it intensified into a tropical cyclone, although by that time, the conditions were no longer as favorable for rapid intensification. On April 9, MFR estimated peak 10 ‑ minute winds of 150 km / h (90 mph); around the same time, the JTWC estimated peak 1 ‑ minute winds of 195 km / h (120 mph).\\nWhile at peak intensity, Jery began turning to the south, due to reaching the western edge of a ridge. An approaching trough increased wind shear over the storm, causing the convection to diminish and expose the center. Late on April 10 it weakened below tropical cyclone status, and the next day Jery became extratropical. Shortly thereafter the remnants crossed into the Australian region, dissipating on April 13.\\n= = = Tropical Cyclone Kesiny = = =\\nCyclone Kesiny was the final named storm of the season, forming near the equator on May 2, within a trough enhanced by a pulse of the Madden – Julian oscillation that sparked three other storms. Kesiny initially moved to the southeast, but later turned to the southwest due to a strengthening ridge. On May 6, it intensified into a tropical cyclone, but later weakened and was not expected to re-strengthen. However, Kesiny developed an eye and re-intensified into a tropical cyclone on May 9, reaching peak winds of 130 km / h (81 mph) before striking Madagascar about 60 km (37 mi) southeast of Antsiranana. This made it the first recorded tropical cyclone to make landfall in the month of May in the basin. It weakened while crossing the country, and after turning to the south it struck the country again before dissipating on May 11.\\nAcross Madagascar, Cyclone Kesiny dropped heavy rainfall, reaching 891 mm (35.1 in) in three days at Toamasina (the second largest city in the country). The rains caused mudslides and flooding in the eastern portion of the country, wrecking the rice and maize crops and leaving 5,000 people homeless. At least 33 bridges were destroyed, and many roads were damaged. A total of 33 people were killed, and 1,200 people were injured. The cyclone struck in the midst of a political crisis, in which the top two candidates of the Malagasy presidential election in 2001 declared themselves the winner; the incumbent, who lost, attempted to declare Toamasina the new capital city, and the political instability disrupted relief efforts.\\n= = = Other storms = = =\\nThe first storm of the season originated from an area of convection east of Diego Garcia in early October 2001. Moving southwestward, it slowly organized, with convection developing around a weak circulation. Late on October 3, MFR classified the system as a zone of disturbed weather. On October 5, the agency re-classified it as a tropical disturbance and later as Tropical Depression 1. The circulation was partially exposed due to wind shear, although it had good outflow. The JTWC initiated advisories on Tropical Cyclone 01S at 0600 UTC on October 6, estimating winds of about 65 km / h (40 mph). Due to the shear, the convection gradually diminished, prompting the MFR to downgrade it to a tropical disturbance on October 7. The next day, the JTWC issued its last advisory, noting that the system was dissipating.\\nA zone of disturbed weather formed on November 15 in the eastern part of the basin. It remained a zone of disturbed weather for a few days before briefly strengthening into a tropical depression on November 21. It dissipated two days later. This system was also designated as tropical cyclone by the JTWC.\\nOn February 5, a tropical low developed in the Mozambique Channel. Classified as Tropical Disturbance 9 by MFR, the system moved southeastward, dissipating on February 6. The season ended with a tropical disturbance, which formed on June 13 to the east-southeast of Diego Garcia. It moved to the south, and was last monitored on June 15.\\n= = Storm names = =\\nA tropical disturbance is named when it reaches moderate tropical storm strength. If a tropical disturbance reaches moderate tropical storm status west of 55 ° E, then the Sub-regional Tropical Cyclone Advisory Centre in Madagascar assigns the appropriate name to the storm; between 55 ° E and 90 ° E, the Sub-regional Tropical Cyclone Advisory Centre in Mauritius is responsible for the same task. A new annual list is used every year so no names are retired.\\n= = Season effects = =\\nThis table lists all of the tropical cyclones and subtropical cyclones that were monitored during the 2001 – 2002 South-West Indian Ocean cyclone season. Information on their intensity, duration, name, and areas affected, primarily comes from RSMC La Reunion. Death and damage reports come from either press reports or the relevant national disaster management agency while the damage totals are given in 2002 USD.']\n"
     ]
    },
    {
     "ename": "TypeError",
     "evalue": "TextEncodeInput must be Union[TextInputSequence, Tuple[InputSequence, InputSequence]]",
     "output_type": "error",
     "traceback": [
      "\u001b[0;31m---------------------------------------------------------------------------\u001b[0m",
      "\u001b[0;31mTypeError\u001b[0m                                 Traceback (most recent call last)",
      "Cell \u001b[0;32mIn[5], line 6\u001b[0m\n\u001b[1;32m      3\u001b[0m model_types \u001b[38;5;241m=\u001b[39m []\n\u001b[1;32m      5\u001b[0m \u001b[38;5;28;01mfor\u001b[39;00m i, model_name \u001b[38;5;129;01min\u001b[39;00m \u001b[38;5;28menumerate\u001b[39m(models_names):\n\u001b[0;32m----> 6\u001b[0m     models, model_types \u001b[38;5;241m=\u001b[39m \u001b[43mget_residual_stream_activations_for_layer_wise_dmd\u001b[49m\u001b[43m(\u001b[49m\u001b[43mmodel_name\u001b[49m\u001b[43m,\u001b[49m\n\u001b[1;32m      7\u001b[0m \u001b[43m                                                                             \u001b[49m\u001b[43mmodels\u001b[49m\u001b[43m,\u001b[49m\n\u001b[1;32m      8\u001b[0m \u001b[43m                                                                             \u001b[49m\u001b[43mmodel_types\u001b[49m\u001b[43m,\u001b[49m\n\u001b[1;32m      9\u001b[0m \u001b[43m                                                                             \u001b[49m\u001b[43mn_samples\u001b[49m\u001b[38;5;241;43m=\u001b[39;49m\u001b[38;5;241;43m3\u001b[39;49m\u001b[43m)\u001b[49m\n",
      "File \u001b[0;32m/scratch2/jsalle/DSA/activations.py:62\u001b[0m, in \u001b[0;36mget_residual_stream_activations_for_layer_wise_dmd\u001b[0;34m(model_name, models, model_types, n_samples)\u001b[0m\n\u001b[1;32m     53\u001b[0m \u001b[38;5;28;01mdef\u001b[39;00m \u001b[38;5;21mget_residual_stream_activations_for_layer_wise_dmd\u001b[39m(model_name: \u001b[38;5;28mstr\u001b[39m \u001b[38;5;241m=\u001b[39m \u001b[38;5;124m'\u001b[39m\u001b[38;5;124mgpt2-small\u001b[39m\u001b[38;5;124m'\u001b[39m,\n\u001b[1;32m     54\u001b[0m                                                        models \u001b[38;5;241m=\u001b[39m \u001b[38;5;28;01mNone\u001b[39;00m,\n\u001b[1;32m     55\u001b[0m                                                        model_types \u001b[38;5;241m=\u001b[39m \u001b[38;5;28;01mNone\u001b[39;00m,\n\u001b[1;32m     56\u001b[0m                                                        n_samples: \u001b[38;5;28mint\u001b[39m \u001b[38;5;241m=\u001b[39m \u001b[38;5;241m1\u001b[39m):\n\u001b[1;32m     57\u001b[0m \u001b[38;5;250m    \u001b[39m\u001b[38;5;124;03m\"\"\" Returns\u001b[39;00m\n\u001b[1;32m     58\u001b[0m \u001b[38;5;124;03m    DMD takes as input a Tensor of shape [trials, timepoints, dimension]\u001b[39;00m\n\u001b[1;32m     59\u001b[0m \u001b[38;5;124;03m    or [timepoints, dimension].\u001b[39;00m\n\u001b[1;32m     60\u001b[0m \u001b[38;5;124;03m    \"\"\"\u001b[39;00m\n\u001b[0;32m---> 62\u001b[0m     model, tokenizer \u001b[38;5;241m=\u001b[39m get_model_from_name(model_name)\n\u001b[1;32m     63\u001b[0m     x, wikitext_sample \u001b[38;5;241m=\u001b[39m get_residual_stream_activations(model, tokenizer, n_samples\u001b[38;5;241m=\u001b[39mn_samples)\n\u001b[1;32m     65\u001b[0m     \u001b[38;5;28;01mif\u001b[39;00m models \u001b[38;5;241m==\u001b[39m \u001b[38;5;28;01mNone\u001b[39;00m:\n",
      "File \u001b[0;32m/scratch2/jsalle/DSA/activations.py:34\u001b[0m, in \u001b[0;36mget_residual_stream_activations\u001b[0;34m(model, tokenizer, n_samples)\u001b[0m\n\u001b[1;32m     32\u001b[0m \u001b[38;5;66;03m#model, tokenizer = models.get_model_from_name(model_name)\u001b[39;00m\n\u001b[1;32m     33\u001b[0m wikitext_sample \u001b[38;5;241m=\u001b[39m get_data_sample(n_samples\u001b[38;5;241m=\u001b[39mn_samples, dataset\u001b[38;5;241m=\u001b[39m\u001b[38;5;124m'\u001b[39m\u001b[38;5;124mwikitext\u001b[39m\u001b[38;5;124m'\u001b[39m)\n\u001b[0;32m---> 34\u001b[0m \u001b[38;5;28mprint\u001b[39m(wikitext_sample)\n\u001b[1;32m     35\u001b[0m input_ids \u001b[38;5;241m=\u001b[39m tokenizer\u001b[38;5;241m.\u001b[39mencode(wikitext_sample, return_tensors\u001b[38;5;241m=\u001b[39m\u001b[38;5;124m'\u001b[39m\u001b[38;5;124mpt\u001b[39m\u001b[38;5;124m'\u001b[39m, truncation\u001b[38;5;241m=\u001b[39m\u001b[38;5;28;01mTrue\u001b[39;00m)\n\u001b[1;32m     37\u001b[0m activations \u001b[38;5;241m=\u001b[39m torch\u001b[38;5;241m.\u001b[39mzeros((input_ids\u001b[38;5;241m.\u001b[39mshape[\u001b[38;5;241m0\u001b[39m], input_ids\u001b[38;5;241m.\u001b[39mshape[\u001b[38;5;241m1\u001b[39m], model\u001b[38;5;241m.\u001b[39mconfig\u001b[38;5;241m.\u001b[39mnum_hidden_layers, model\u001b[38;5;241m.\u001b[39mconfig\u001b[38;5;241m.\u001b[39mhidden_size)) \u001b[38;5;66;03m# batch, seq, n_layers, d_model\u001b[39;00m\n",
      "File \u001b[0;32m~/.conda/envs/p11/lib/python3.11/site-packages/transformers/tokenization_utils_base.py:2574\u001b[0m, in \u001b[0;36mPreTrainedTokenizerBase.encode\u001b[0;34m(self, text, text_pair, add_special_tokens, padding, truncation, max_length, stride, return_tensors, **kwargs)\u001b[0m\n\u001b[1;32m   2537\u001b[0m \u001b[38;5;129m@add_end_docstrings\u001b[39m(\n\u001b[1;32m   2538\u001b[0m     ENCODE_KWARGS_DOCSTRING,\n\u001b[1;32m   2539\u001b[0m \u001b[38;5;250m    \u001b[39m\u001b[38;5;124;03m\"\"\"\u001b[39;00m\n\u001b[0;32m   (...)\u001b[0m\n\u001b[1;32m   2557\u001b[0m     \u001b[38;5;241m*\u001b[39m\u001b[38;5;241m*\u001b[39mkwargs,\n\u001b[1;32m   2558\u001b[0m ) \u001b[38;5;241m-\u001b[39m\u001b[38;5;241m>\u001b[39m List[\u001b[38;5;28mint\u001b[39m]:\n\u001b[1;32m   2559\u001b[0m \u001b[38;5;250m    \u001b[39m\u001b[38;5;124;03m\"\"\"\u001b[39;00m\n\u001b[1;32m   2560\u001b[0m \u001b[38;5;124;03m    Converts a string to a sequence of ids (integer), using the tokenizer and vocabulary.\u001b[39;00m\n\u001b[1;32m   2561\u001b[0m \n\u001b[0;32m   (...)\u001b[0m\n\u001b[1;32m   2572\u001b[0m \u001b[38;5;124;03m            method).\u001b[39;00m\n\u001b[1;32m   2573\u001b[0m \u001b[38;5;124;03m    \"\"\"\u001b[39;00m\n\u001b[0;32m-> 2574\u001b[0m     encoded_inputs \u001b[38;5;241m=\u001b[39m \u001b[38;5;28;43mself\u001b[39;49m\u001b[38;5;241;43m.\u001b[39;49m\u001b[43mencode_plus\u001b[49m\u001b[43m(\u001b[49m\n\u001b[1;32m   2575\u001b[0m \u001b[43m        \u001b[49m\u001b[43mtext\u001b[49m\u001b[43m,\u001b[49m\n\u001b[1;32m   2576\u001b[0m \u001b[43m        \u001b[49m\u001b[43mtext_pair\u001b[49m\u001b[38;5;241;43m=\u001b[39;49m\u001b[43mtext_pair\u001b[49m\u001b[43m,\u001b[49m\n\u001b[1;32m   2577\u001b[0m \u001b[43m        \u001b[49m\u001b[43madd_special_tokens\u001b[49m\u001b[38;5;241;43m=\u001b[39;49m\u001b[43madd_special_tokens\u001b[49m\u001b[43m,\u001b[49m\n\u001b[1;32m   2578\u001b[0m \u001b[43m        \u001b[49m\u001b[43mpadding\u001b[49m\u001b[38;5;241;43m=\u001b[39;49m\u001b[43mpadding\u001b[49m\u001b[43m,\u001b[49m\n\u001b[1;32m   2579\u001b[0m \u001b[43m        \u001b[49m\u001b[43mtruncation\u001b[49m\u001b[38;5;241;43m=\u001b[39;49m\u001b[43mtruncation\u001b[49m\u001b[43m,\u001b[49m\n\u001b[1;32m   2580\u001b[0m \u001b[43m        \u001b[49m\u001b[43mmax_length\u001b[49m\u001b[38;5;241;43m=\u001b[39;49m\u001b[43mmax_length\u001b[49m\u001b[43m,\u001b[49m\n\u001b[1;32m   2581\u001b[0m \u001b[43m        \u001b[49m\u001b[43mstride\u001b[49m\u001b[38;5;241;43m=\u001b[39;49m\u001b[43mstride\u001b[49m\u001b[43m,\u001b[49m\n\u001b[1;32m   2582\u001b[0m \u001b[43m        \u001b[49m\u001b[43mreturn_tensors\u001b[49m\u001b[38;5;241;43m=\u001b[39;49m\u001b[43mreturn_tensors\u001b[49m\u001b[43m,\u001b[49m\n\u001b[1;32m   2583\u001b[0m \u001b[43m        \u001b[49m\u001b[38;5;241;43m*\u001b[39;49m\u001b[38;5;241;43m*\u001b[39;49m\u001b[43mkwargs\u001b[49m\u001b[43m,\u001b[49m\n\u001b[1;32m   2584\u001b[0m \u001b[43m    \u001b[49m\u001b[43m)\u001b[49m\n\u001b[1;32m   2586\u001b[0m     \u001b[38;5;28;01mreturn\u001b[39;00m encoded_inputs[\u001b[38;5;124m\"\u001b[39m\u001b[38;5;124minput_ids\u001b[39m\u001b[38;5;124m\"\u001b[39m]\n",
      "File \u001b[0;32m~/.conda/envs/p11/lib/python3.11/site-packages/transformers/tokenization_utils_base.py:2982\u001b[0m, in \u001b[0;36mPreTrainedTokenizerBase.encode_plus\u001b[0;34m(self, text, text_pair, add_special_tokens, padding, truncation, max_length, stride, is_split_into_words, pad_to_multiple_of, return_tensors, return_token_type_ids, return_attention_mask, return_overflowing_tokens, return_special_tokens_mask, return_offsets_mapping, return_length, verbose, **kwargs)\u001b[0m\n\u001b[1;32m   2972\u001b[0m \u001b[38;5;66;03m# Backward compatibility for 'truncation_strategy', 'pad_to_max_length'\u001b[39;00m\n\u001b[1;32m   2973\u001b[0m padding_strategy, truncation_strategy, max_length, kwargs \u001b[38;5;241m=\u001b[39m \u001b[38;5;28mself\u001b[39m\u001b[38;5;241m.\u001b[39m_get_padding_truncation_strategies(\n\u001b[1;32m   2974\u001b[0m     padding\u001b[38;5;241m=\u001b[39mpadding,\n\u001b[1;32m   2975\u001b[0m     truncation\u001b[38;5;241m=\u001b[39mtruncation,\n\u001b[0;32m   (...)\u001b[0m\n\u001b[1;32m   2979\u001b[0m     \u001b[38;5;241m*\u001b[39m\u001b[38;5;241m*\u001b[39mkwargs,\n\u001b[1;32m   2980\u001b[0m )\n\u001b[0;32m-> 2982\u001b[0m \u001b[38;5;28;01mreturn\u001b[39;00m \u001b[38;5;28;43mself\u001b[39;49m\u001b[38;5;241;43m.\u001b[39;49m\u001b[43m_encode_plus\u001b[49m\u001b[43m(\u001b[49m\n\u001b[1;32m   2983\u001b[0m \u001b[43m    \u001b[49m\u001b[43mtext\u001b[49m\u001b[38;5;241;43m=\u001b[39;49m\u001b[43mtext\u001b[49m\u001b[43m,\u001b[49m\n\u001b[1;32m   2984\u001b[0m \u001b[43m    \u001b[49m\u001b[43mtext_pair\u001b[49m\u001b[38;5;241;43m=\u001b[39;49m\u001b[43mtext_pair\u001b[49m\u001b[43m,\u001b[49m\n\u001b[1;32m   2985\u001b[0m \u001b[43m    \u001b[49m\u001b[43madd_special_tokens\u001b[49m\u001b[38;5;241;43m=\u001b[39;49m\u001b[43madd_special_tokens\u001b[49m\u001b[43m,\u001b[49m\n\u001b[1;32m   2986\u001b[0m \u001b[43m    \u001b[49m\u001b[43mpadding_strategy\u001b[49m\u001b[38;5;241;43m=\u001b[39;49m\u001b[43mpadding_strategy\u001b[49m\u001b[43m,\u001b[49m\n\u001b[1;32m   2987\u001b[0m \u001b[43m    \u001b[49m\u001b[43mtruncation_strategy\u001b[49m\u001b[38;5;241;43m=\u001b[39;49m\u001b[43mtruncation_strategy\u001b[49m\u001b[43m,\u001b[49m\n\u001b[1;32m   2988\u001b[0m \u001b[43m    \u001b[49m\u001b[43mmax_length\u001b[49m\u001b[38;5;241;43m=\u001b[39;49m\u001b[43mmax_length\u001b[49m\u001b[43m,\u001b[49m\n\u001b[1;32m   2989\u001b[0m \u001b[43m    \u001b[49m\u001b[43mstride\u001b[49m\u001b[38;5;241;43m=\u001b[39;49m\u001b[43mstride\u001b[49m\u001b[43m,\u001b[49m\n\u001b[1;32m   2990\u001b[0m \u001b[43m    \u001b[49m\u001b[43mis_split_into_words\u001b[49m\u001b[38;5;241;43m=\u001b[39;49m\u001b[43mis_split_into_words\u001b[49m\u001b[43m,\u001b[49m\n\u001b[1;32m   2991\u001b[0m \u001b[43m    \u001b[49m\u001b[43mpad_to_multiple_of\u001b[49m\u001b[38;5;241;43m=\u001b[39;49m\u001b[43mpad_to_multiple_of\u001b[49m\u001b[43m,\u001b[49m\n\u001b[1;32m   2992\u001b[0m \u001b[43m    \u001b[49m\u001b[43mreturn_tensors\u001b[49m\u001b[38;5;241;43m=\u001b[39;49m\u001b[43mreturn_tensors\u001b[49m\u001b[43m,\u001b[49m\n\u001b[1;32m   2993\u001b[0m \u001b[43m    \u001b[49m\u001b[43mreturn_token_type_ids\u001b[49m\u001b[38;5;241;43m=\u001b[39;49m\u001b[43mreturn_token_type_ids\u001b[49m\u001b[43m,\u001b[49m\n\u001b[1;32m   2994\u001b[0m \u001b[43m    \u001b[49m\u001b[43mreturn_attention_mask\u001b[49m\u001b[38;5;241;43m=\u001b[39;49m\u001b[43mreturn_attention_mask\u001b[49m\u001b[43m,\u001b[49m\n\u001b[1;32m   2995\u001b[0m \u001b[43m    \u001b[49m\u001b[43mreturn_overflowing_tokens\u001b[49m\u001b[38;5;241;43m=\u001b[39;49m\u001b[43mreturn_overflowing_tokens\u001b[49m\u001b[43m,\u001b[49m\n\u001b[1;32m   2996\u001b[0m \u001b[43m    \u001b[49m\u001b[43mreturn_special_tokens_mask\u001b[49m\u001b[38;5;241;43m=\u001b[39;49m\u001b[43mreturn_special_tokens_mask\u001b[49m\u001b[43m,\u001b[49m\n\u001b[1;32m   2997\u001b[0m \u001b[43m    \u001b[49m\u001b[43mreturn_offsets_mapping\u001b[49m\u001b[38;5;241;43m=\u001b[39;49m\u001b[43mreturn_offsets_mapping\u001b[49m\u001b[43m,\u001b[49m\n\u001b[1;32m   2998\u001b[0m \u001b[43m    \u001b[49m\u001b[43mreturn_length\u001b[49m\u001b[38;5;241;43m=\u001b[39;49m\u001b[43mreturn_length\u001b[49m\u001b[43m,\u001b[49m\n\u001b[1;32m   2999\u001b[0m \u001b[43m    \u001b[49m\u001b[43mverbose\u001b[49m\u001b[38;5;241;43m=\u001b[39;49m\u001b[43mverbose\u001b[49m\u001b[43m,\u001b[49m\n\u001b[1;32m   3000\u001b[0m \u001b[43m    \u001b[49m\u001b[38;5;241;43m*\u001b[39;49m\u001b[38;5;241;43m*\u001b[39;49m\u001b[43mkwargs\u001b[49m\u001b[43m,\u001b[49m\n\u001b[1;32m   3001\u001b[0m \u001b[43m\u001b[49m\u001b[43m)\u001b[49m\n",
      "File \u001b[0;32m~/.conda/envs/p11/lib/python3.11/site-packages/transformers/tokenization_utils_fast.py:576\u001b[0m, in \u001b[0;36mPreTrainedTokenizerFast._encode_plus\u001b[0;34m(self, text, text_pair, add_special_tokens, padding_strategy, truncation_strategy, max_length, stride, is_split_into_words, pad_to_multiple_of, return_tensors, return_token_type_ids, return_attention_mask, return_overflowing_tokens, return_special_tokens_mask, return_offsets_mapping, return_length, verbose, **kwargs)\u001b[0m\n\u001b[1;32m    554\u001b[0m \u001b[38;5;28;01mdef\u001b[39;00m \u001b[38;5;21m_encode_plus\u001b[39m(\n\u001b[1;32m    555\u001b[0m     \u001b[38;5;28mself\u001b[39m,\n\u001b[1;32m    556\u001b[0m     text: Union[TextInput, PreTokenizedInput],\n\u001b[0;32m   (...)\u001b[0m\n\u001b[1;32m    573\u001b[0m     \u001b[38;5;241m*\u001b[39m\u001b[38;5;241m*\u001b[39mkwargs,\n\u001b[1;32m    574\u001b[0m ) \u001b[38;5;241m-\u001b[39m\u001b[38;5;241m>\u001b[39m BatchEncoding:\n\u001b[1;32m    575\u001b[0m     batched_input \u001b[38;5;241m=\u001b[39m [(text, text_pair)] \u001b[38;5;28;01mif\u001b[39;00m text_pair \u001b[38;5;28;01melse\u001b[39;00m [text]\n\u001b[0;32m--> 576\u001b[0m     batched_output \u001b[38;5;241m=\u001b[39m \u001b[38;5;28;43mself\u001b[39;49m\u001b[38;5;241;43m.\u001b[39;49m\u001b[43m_batch_encode_plus\u001b[49m\u001b[43m(\u001b[49m\n\u001b[1;32m    577\u001b[0m \u001b[43m        \u001b[49m\u001b[43mbatched_input\u001b[49m\u001b[43m,\u001b[49m\n\u001b[1;32m    578\u001b[0m \u001b[43m        \u001b[49m\u001b[43mis_split_into_words\u001b[49m\u001b[38;5;241;43m=\u001b[39;49m\u001b[43mis_split_into_words\u001b[49m\u001b[43m,\u001b[49m\n\u001b[1;32m    579\u001b[0m \u001b[43m        \u001b[49m\u001b[43madd_special_tokens\u001b[49m\u001b[38;5;241;43m=\u001b[39;49m\u001b[43madd_special_tokens\u001b[49m\u001b[43m,\u001b[49m\n\u001b[1;32m    580\u001b[0m \u001b[43m        \u001b[49m\u001b[43mpadding_strategy\u001b[49m\u001b[38;5;241;43m=\u001b[39;49m\u001b[43mpadding_strategy\u001b[49m\u001b[43m,\u001b[49m\n\u001b[1;32m    581\u001b[0m \u001b[43m        \u001b[49m\u001b[43mtruncation_strategy\u001b[49m\u001b[38;5;241;43m=\u001b[39;49m\u001b[43mtruncation_strategy\u001b[49m\u001b[43m,\u001b[49m\n\u001b[1;32m    582\u001b[0m \u001b[43m        \u001b[49m\u001b[43mmax_length\u001b[49m\u001b[38;5;241;43m=\u001b[39;49m\u001b[43mmax_length\u001b[49m\u001b[43m,\u001b[49m\n\u001b[1;32m    583\u001b[0m \u001b[43m        \u001b[49m\u001b[43mstride\u001b[49m\u001b[38;5;241;43m=\u001b[39;49m\u001b[43mstride\u001b[49m\u001b[43m,\u001b[49m\n\u001b[1;32m    584\u001b[0m \u001b[43m        \u001b[49m\u001b[43mpad_to_multiple_of\u001b[49m\u001b[38;5;241;43m=\u001b[39;49m\u001b[43mpad_to_multiple_of\u001b[49m\u001b[43m,\u001b[49m\n\u001b[1;32m    585\u001b[0m \u001b[43m        \u001b[49m\u001b[43mreturn_tensors\u001b[49m\u001b[38;5;241;43m=\u001b[39;49m\u001b[43mreturn_tensors\u001b[49m\u001b[43m,\u001b[49m\n\u001b[1;32m    586\u001b[0m \u001b[43m        \u001b[49m\u001b[43mreturn_token_type_ids\u001b[49m\u001b[38;5;241;43m=\u001b[39;49m\u001b[43mreturn_token_type_ids\u001b[49m\u001b[43m,\u001b[49m\n\u001b[1;32m    587\u001b[0m \u001b[43m        \u001b[49m\u001b[43mreturn_attention_mask\u001b[49m\u001b[38;5;241;43m=\u001b[39;49m\u001b[43mreturn_attention_mask\u001b[49m\u001b[43m,\u001b[49m\n\u001b[1;32m    588\u001b[0m \u001b[43m        \u001b[49m\u001b[43mreturn_overflowing_tokens\u001b[49m\u001b[38;5;241;43m=\u001b[39;49m\u001b[43mreturn_overflowing_tokens\u001b[49m\u001b[43m,\u001b[49m\n\u001b[1;32m    589\u001b[0m \u001b[43m        \u001b[49m\u001b[43mreturn_special_tokens_mask\u001b[49m\u001b[38;5;241;43m=\u001b[39;49m\u001b[43mreturn_special_tokens_mask\u001b[49m\u001b[43m,\u001b[49m\n\u001b[1;32m    590\u001b[0m \u001b[43m        \u001b[49m\u001b[43mreturn_offsets_mapping\u001b[49m\u001b[38;5;241;43m=\u001b[39;49m\u001b[43mreturn_offsets_mapping\u001b[49m\u001b[43m,\u001b[49m\n\u001b[1;32m    591\u001b[0m \u001b[43m        \u001b[49m\u001b[43mreturn_length\u001b[49m\u001b[38;5;241;43m=\u001b[39;49m\u001b[43mreturn_length\u001b[49m\u001b[43m,\u001b[49m\n\u001b[1;32m    592\u001b[0m \u001b[43m        \u001b[49m\u001b[43mverbose\u001b[49m\u001b[38;5;241;43m=\u001b[39;49m\u001b[43mverbose\u001b[49m\u001b[43m,\u001b[49m\n\u001b[1;32m    593\u001b[0m \u001b[43m        \u001b[49m\u001b[38;5;241;43m*\u001b[39;49m\u001b[38;5;241;43m*\u001b[39;49m\u001b[43mkwargs\u001b[49m\u001b[43m,\u001b[49m\n\u001b[1;32m    594\u001b[0m \u001b[43m    \u001b[49m\u001b[43m)\u001b[49m\n\u001b[1;32m    596\u001b[0m     \u001b[38;5;66;03m# Return tensor is None, then we can remove the leading batch axis\u001b[39;00m\n\u001b[1;32m    597\u001b[0m     \u001b[38;5;66;03m# Overflowing tokens are returned as a batch of output so we keep them in this case\u001b[39;00m\n\u001b[1;32m    598\u001b[0m     \u001b[38;5;28;01mif\u001b[39;00m return_tensors \u001b[38;5;129;01mis\u001b[39;00m \u001b[38;5;28;01mNone\u001b[39;00m \u001b[38;5;129;01mand\u001b[39;00m \u001b[38;5;129;01mnot\u001b[39;00m return_overflowing_tokens:\n",
      "File \u001b[0;32m~/.conda/envs/p11/lib/python3.11/site-packages/transformers/tokenization_utils_fast.py:504\u001b[0m, in \u001b[0;36mPreTrainedTokenizerFast._batch_encode_plus\u001b[0;34m(self, batch_text_or_text_pairs, add_special_tokens, padding_strategy, truncation_strategy, max_length, stride, is_split_into_words, pad_to_multiple_of, return_tensors, return_token_type_ids, return_attention_mask, return_overflowing_tokens, return_special_tokens_mask, return_offsets_mapping, return_length, verbose)\u001b[0m\n\u001b[1;32m    495\u001b[0m \u001b[38;5;66;03m# Set the truncation and padding strategy and restore the initial configuration\u001b[39;00m\n\u001b[1;32m    496\u001b[0m \u001b[38;5;28mself\u001b[39m\u001b[38;5;241m.\u001b[39mset_truncation_and_padding(\n\u001b[1;32m    497\u001b[0m     padding_strategy\u001b[38;5;241m=\u001b[39mpadding_strategy,\n\u001b[1;32m    498\u001b[0m     truncation_strategy\u001b[38;5;241m=\u001b[39mtruncation_strategy,\n\u001b[0;32m   (...)\u001b[0m\n\u001b[1;32m    501\u001b[0m     pad_to_multiple_of\u001b[38;5;241m=\u001b[39mpad_to_multiple_of,\n\u001b[1;32m    502\u001b[0m )\n\u001b[0;32m--> 504\u001b[0m encodings \u001b[38;5;241m=\u001b[39m \u001b[38;5;28;43mself\u001b[39;49m\u001b[38;5;241;43m.\u001b[39;49m\u001b[43m_tokenizer\u001b[49m\u001b[38;5;241;43m.\u001b[39;49m\u001b[43mencode_batch\u001b[49m\u001b[43m(\u001b[49m\n\u001b[1;32m    505\u001b[0m \u001b[43m    \u001b[49m\u001b[43mbatch_text_or_text_pairs\u001b[49m\u001b[43m,\u001b[49m\n\u001b[1;32m    506\u001b[0m \u001b[43m    \u001b[49m\u001b[43madd_special_tokens\u001b[49m\u001b[38;5;241;43m=\u001b[39;49m\u001b[43madd_special_tokens\u001b[49m\u001b[43m,\u001b[49m\n\u001b[1;32m    507\u001b[0m \u001b[43m    \u001b[49m\u001b[43mis_pretokenized\u001b[49m\u001b[38;5;241;43m=\u001b[39;49m\u001b[43mis_split_into_words\u001b[49m\u001b[43m,\u001b[49m\n\u001b[1;32m    508\u001b[0m \u001b[43m\u001b[49m\u001b[43m)\u001b[49m\n\u001b[1;32m    510\u001b[0m \u001b[38;5;66;03m# Convert encoding to dict\u001b[39;00m\n\u001b[1;32m    511\u001b[0m \u001b[38;5;66;03m# `Tokens` has type: Tuple[\u001b[39;00m\n\u001b[1;32m    512\u001b[0m \u001b[38;5;66;03m#                       List[Dict[str, List[List[int]]]] or List[Dict[str, 2D-Tensor]],\u001b[39;00m\n\u001b[1;32m    513\u001b[0m \u001b[38;5;66;03m#                       List[EncodingFast]\u001b[39;00m\n\u001b[1;32m    514\u001b[0m \u001b[38;5;66;03m#                    ]\u001b[39;00m\n\u001b[1;32m    515\u001b[0m \u001b[38;5;66;03m# with nested dimensions corresponding to batch, overflows, sequence length\u001b[39;00m\n\u001b[1;32m    516\u001b[0m tokens_and_encodings \u001b[38;5;241m=\u001b[39m [\n\u001b[1;32m    517\u001b[0m     \u001b[38;5;28mself\u001b[39m\u001b[38;5;241m.\u001b[39m_convert_encoding(\n\u001b[1;32m    518\u001b[0m         encoding\u001b[38;5;241m=\u001b[39mencoding,\n\u001b[0;32m   (...)\u001b[0m\n\u001b[1;32m    527\u001b[0m     \u001b[38;5;28;01mfor\u001b[39;00m encoding \u001b[38;5;129;01min\u001b[39;00m encodings\n\u001b[1;32m    528\u001b[0m ]\n",
      "\u001b[0;31mTypeError\u001b[0m: TextEncodeInput must be Union[TextInputSequence, Tuple[InputSequence, InputSequence]]"
     ]
    }
   ],
   "source": [
    "models_names = ['pythia-2.8b'] #['gpt2-small', 'gpt2-medium', 'pythia-70m', 'pythia-1b', 'pythia-2.8b', 'bert-base-uncased']\n",
    "models = []\n",
    "model_types = []\n",
    "\n",
    "for i, model_name in enumerate(models_names):\n",
    "    models, model_types = get_residual_stream_activations_for_layer_wise_dmd(model_name,\n",
    "                                                                             models,\n",
    "                                                                             model_types,\n",
    "                                                                             n_samples=3)"
   ]
  },
  {
   "cell_type": "code",
   "execution_count": null,
   "metadata": {},
   "outputs": [
    {
     "name": "stdout",
     "output_type": "stream",
     "text": [
      "Computing Hankel matrix ...\n",
      "Hankel matrix computed!\n",
      "Computing SVD on Hankel matrix ...\n",
      "H torch.Size([4368, 38400])\n",
      "SVD complete!\n",
      "Computing least squares fits to HAVOK DMD ...\n",
      "Least squares complete! \n",
      "\n",
      "Computing Hankel matrix ...\n",
      "Hankel matrix computed!\n",
      "Computing SVD on Hankel matrix ...\n",
      "H torch.Size([4368, 38400])\n",
      "SVD complete!\n",
      "Computing least squares fits to HAVOK DMD ...\n",
      "Least squares complete! \n",
      "\n",
      "Computing Hankel matrix ...\n",
      "Hankel matrix computed!\n",
      "Computing SVD on Hankel matrix ...\n",
      "H torch.Size([4368, 38400])\n",
      "SVD complete!\n",
      "Computing least squares fits to HAVOK DMD ...\n",
      "Least squares complete! \n",
      "\n",
      "Computing Hankel matrix ...\n",
      "Hankel matrix computed!\n",
      "Computing SVD on Hankel matrix ...\n",
      "H torch.Size([4368, 38400])\n",
      "SVD complete!\n",
      "Computing least squares fits to HAVOK DMD ...\n",
      "Least squares complete! \n",
      "\n",
      "Computing Hankel matrix ...\n",
      "Hankel matrix computed!\n",
      "Computing SVD on Hankel matrix ...\n",
      "H torch.Size([4368, 38400])\n",
      "SVD complete!\n",
      "Computing least squares fits to HAVOK DMD ...\n",
      "Least squares complete! \n",
      "\n",
      "Computing Hankel matrix ...\n",
      "Hankel matrix computed!\n",
      "Computing SVD on Hankel matrix ...\n",
      "H torch.Size([4368, 38400])\n",
      "SVD complete!\n",
      "Computing least squares fits to HAVOK DMD ...\n",
      "Least squares complete! \n",
      "\n",
      "Computing Hankel matrix ...\n",
      "Hankel matrix computed!\n",
      "Computing SVD on Hankel matrix ...\n",
      "H torch.Size([4368, 38400])\n",
      "SVD complete!\n",
      "Computing least squares fits to HAVOK DMD ...\n",
      "Least squares complete! \n",
      "\n",
      "Computing Hankel matrix ...\n",
      "Hankel matrix computed!\n",
      "Computing SVD on Hankel matrix ...\n",
      "H torch.Size([4368, 38400])\n",
      "SVD complete!\n",
      "Computing least squares fits to HAVOK DMD ...\n",
      "Least squares complete! \n",
      "\n",
      "Computing Hankel matrix ...\n",
      "Hankel matrix computed!\n",
      "Computing SVD on Hankel matrix ...\n",
      "H torch.Size([4368, 38400])\n",
      "SVD complete!\n",
      "Computing least squares fits to HAVOK DMD ...\n",
      "Least squares complete! \n",
      "\n",
      "Computing Hankel matrix ...\n",
      "Hankel matrix computed!\n",
      "Computing SVD on Hankel matrix ...\n",
      "H torch.Size([4368, 38400])\n",
      "SVD complete!\n",
      "Computing least squares fits to HAVOK DMD ...\n",
      "Least squares complete! \n",
      "\n",
      "Computing Hankel matrix ...\n",
      "Hankel matrix computed!\n",
      "Computing SVD on Hankel matrix ...\n",
      "H torch.Size([4368, 38400])\n",
      "SVD complete!\n",
      "Computing least squares fits to HAVOK DMD ...\n",
      "Least squares complete! \n",
      "\n",
      "Computing Hankel matrix ...\n",
      "Hankel matrix computed!\n",
      "Computing SVD on Hankel matrix ...\n",
      "H torch.Size([4368, 38400])\n",
      "SVD complete!\n",
      "Computing least squares fits to HAVOK DMD ...\n",
      "Least squares complete! \n",
      "\n",
      "Computing Hankel matrix ...\n",
      "Hankel matrix computed!\n",
      "Computing SVD on Hankel matrix ...\n",
      "H torch.Size([4368, 38400])\n",
      "SVD complete!\n",
      "Computing least squares fits to HAVOK DMD ...\n",
      "Least squares complete! \n",
      "\n",
      "Computing Hankel matrix ...\n",
      "Hankel matrix computed!\n",
      "Computing SVD on Hankel matrix ...\n",
      "H torch.Size([4368, 38400])\n",
      "SVD complete!\n",
      "Computing least squares fits to HAVOK DMD ...\n",
      "Least squares complete! \n",
      "\n",
      "Computing Hankel matrix ...\n",
      "Hankel matrix computed!\n",
      "Computing SVD on Hankel matrix ...\n",
      "H torch.Size([4368, 38400])\n",
      "SVD complete!\n",
      "Computing least squares fits to HAVOK DMD ...\n",
      "Least squares complete! \n",
      "\n",
      "Computing Hankel matrix ...\n",
      "Hankel matrix computed!\n",
      "Computing SVD on Hankel matrix ...\n",
      "H torch.Size([4368, 38400])\n",
      "SVD complete!\n",
      "Computing least squares fits to HAVOK DMD ...\n",
      "Least squares complete! \n",
      "\n",
      "Computing Hankel matrix ...\n",
      "Hankel matrix computed!\n",
      "Computing SVD on Hankel matrix ...\n",
      "H torch.Size([4368, 38400])\n",
      "SVD complete!\n",
      "Computing least squares fits to HAVOK DMD ...\n",
      "Least squares complete! \n",
      "\n",
      "Computing Hankel matrix ...\n",
      "Hankel matrix computed!\n",
      "Computing SVD on Hankel matrix ...\n",
      "H torch.Size([4368, 38400])\n",
      "SVD complete!\n",
      "Computing least squares fits to HAVOK DMD ...\n",
      "Least squares complete! \n",
      "\n",
      "Computing Hankel matrix ...\n",
      "Hankel matrix computed!\n",
      "Computing SVD on Hankel matrix ...\n",
      "H torch.Size([4368, 38400])\n",
      "SVD complete!\n",
      "Computing least squares fits to HAVOK DMD ...\n",
      "Least squares complete! \n",
      "\n",
      "Computing Hankel matrix ...\n",
      "Hankel matrix computed!\n",
      "Computing SVD on Hankel matrix ...\n",
      "H torch.Size([4368, 38400])\n",
      "SVD complete!\n",
      "Computing least squares fits to HAVOK DMD ...\n",
      "Least squares complete! \n",
      "\n",
      "Computing Hankel matrix ...\n",
      "Hankel matrix computed!\n",
      "Computing SVD on Hankel matrix ...\n",
      "H torch.Size([4368, 38400])\n",
      "SVD complete!\n",
      "Computing least squares fits to HAVOK DMD ...\n",
      "Least squares complete! \n",
      "\n",
      "Computing Hankel matrix ...\n",
      "Hankel matrix computed!\n",
      "Computing SVD on Hankel matrix ...\n",
      "H torch.Size([4368, 38400])\n",
      "SVD complete!\n",
      "Computing least squares fits to HAVOK DMD ...\n",
      "Least squares complete! \n",
      "\n",
      "Computing Hankel matrix ...\n",
      "Hankel matrix computed!\n",
      "Computing SVD on Hankel matrix ...\n",
      "H torch.Size([4368, 38400])\n",
      "SVD complete!\n",
      "Computing least squares fits to HAVOK DMD ...\n",
      "Least squares complete! \n",
      "\n",
      "Computing Hankel matrix ...\n",
      "Hankel matrix computed!\n",
      "Computing SVD on Hankel matrix ...\n",
      "H torch.Size([4368, 38400])\n",
      "SVD complete!\n",
      "Computing least squares fits to HAVOK DMD ...\n",
      "Least squares complete! \n",
      "\n",
      "Computing Hankel matrix ...\n",
      "Hankel matrix computed!\n",
      "Computing SVD on Hankel matrix ...\n",
      "H torch.Size([4368, 38400])\n",
      "SVD complete!\n",
      "Computing least squares fits to HAVOK DMD ...\n",
      "Least squares complete! \n",
      "\n",
      "Computing Hankel matrix ...\n",
      "Hankel matrix computed!\n",
      "Computing SVD on Hankel matrix ...\n",
      "H torch.Size([4368, 38400])\n",
      "SVD complete!\n",
      "Computing least squares fits to HAVOK DMD ...\n",
      "Least squares complete! \n",
      "\n",
      "Computing Hankel matrix ...\n",
      "Hankel matrix computed!\n",
      "Computing SVD on Hankel matrix ...\n",
      "H torch.Size([4368, 38400])\n",
      "SVD complete!\n",
      "Computing least squares fits to HAVOK DMD ...\n",
      "Least squares complete! \n",
      "\n",
      "Computing Hankel matrix ...\n",
      "Hankel matrix computed!\n",
      "Computing SVD on Hankel matrix ...\n",
      "H torch.Size([4368, 38400])\n",
      "SVD complete!\n",
      "Computing least squares fits to HAVOK DMD ...\n",
      "Least squares complete! \n",
      "\n",
      "Computing Hankel matrix ...\n",
      "Hankel matrix computed!\n",
      "Computing SVD on Hankel matrix ...\n",
      "H torch.Size([4368, 38400])\n",
      "SVD complete!\n",
      "Computing least squares fits to HAVOK DMD ...\n",
      "Least squares complete! \n",
      "\n",
      "Computing Hankel matrix ...\n",
      "Hankel matrix computed!\n",
      "Computing SVD on Hankel matrix ...\n",
      "H torch.Size([4368, 38400])\n",
      "SVD complete!\n",
      "Computing least squares fits to HAVOK DMD ...\n",
      "Least squares complete! \n",
      "\n",
      "Computing Hankel matrix ...\n",
      "Hankel matrix computed!\n",
      "Computing SVD on Hankel matrix ...\n",
      "H torch.Size([4368, 38400])\n",
      "SVD complete!\n",
      "Computing least squares fits to HAVOK DMD ...\n",
      "Least squares complete! \n",
      "\n",
      "Computing Hankel matrix ...\n",
      "Hankel matrix computed!\n",
      "Computing SVD on Hankel matrix ...\n",
      "H torch.Size([4368, 38400])\n",
      "SVD complete!\n",
      "Computing least squares fits to HAVOK DMD ...\n",
      "Least squares complete! \n",
      "\n",
      "0 0 0.000845728\n",
      "0 1 0.16301362\n",
      "0 2 0.56656265\n",
      "0 3 0.5506443\n",
      "0 4 0.6764319\n",
      "0 5 0.69127834\n",
      "0 6 0.66560715\n",
      "0 7 0.57546645\n",
      "0 8 0.56552136\n",
      "0 9 0.6066084\n",
      "0 10 0.6087106\n",
      "0 11 1.2146109\n",
      "0 12 0.55677867\n",
      "0 13 0.86218196\n",
      "0 14 0.86641055\n",
      "0 15 0.8669376\n",
      "0 16 0.8680401\n",
      "0 17 0.99862283\n",
      "0 18 0.99966407\n",
      "0 19 0.9996682\n",
      "0 20 0.99955493\n",
      "0 21 0.9995596\n",
      "0 22 0.99946886\n",
      "0 23 0.9994077\n",
      "0 24 0.99932575\n",
      "0 25 0.9992848\n",
      "0 26 0.9993213\n",
      "0 27 0.99942464\n",
      "0 28 0.9995218\n",
      "0 29 0.99959874\n",
      "0 30 0.99971837\n",
      "0 31 0.9910214\n",
      "1 1 0\n",
      "1 2 0.6127179\n",
      "1 3 0.6035594\n",
      "1 4 0.66464376\n",
      "1 5 0.6907218\n",
      "1 6 0.6603206\n",
      "1 7 0.6259848\n",
      "1 8 0.63616294\n",
      "1 9 0.685252\n",
      "1 10 0.71427023\n",
      "1 11 0.68103904\n",
      "1 12 0.88214284\n",
      "1 13 0.71256524\n",
      "1 14 0.7169777\n",
      "1 15 0.7169186\n",
      "1 16 0.7182512\n",
      "1 17 0.8679444\n",
      "1 18 0.8691998\n",
      "1 19 0.8692235\n",
      "1 20 0.86912394\n",
      "1 21 0.86912763\n",
      "1 22 0.8690479\n",
      "1 23 0.86900353\n",
      "1 24 0.86892015\n",
      "1 25 0.86888176\n",
      "1 26 0.8689203\n",
      "1 27 0.86902946\n",
      "1 28 0.86912405\n",
      "1 29 0.86920893\n",
      "1 30 0.8693192\n",
      "1 31 0.86012155\n",
      "2 2 0.0016558425\n",
      "2 3 0.06642295\n",
      "2 4 0.25445765\n",
      "2 5 0.2717681\n",
      "2 6 0.23273201\n",
      "2 7 0.03968128\n",
      "2 8 0.13231528\n",
      "2 9 0.41602287\n",
      "2 10 0.4530934\n",
      "2 11 0.40344685\n",
      "2 12 0.869571\n",
      "2 13 1.0047104\n",
      "2 14 1.0077555\n",
      "2 15 1.008832\n",
      "2 16 1.0131146\n",
      "2 17 1.2384484\n",
      "2 18 1.239673\n",
      "2 19 1.2397478\n",
      "2 20 1.2396687\n",
      "2 21 1.23964\n",
      "2 22 1.2395908\n",
      "2 23 1.239595\n",
      "2 24 1.2394912\n",
      "2 25 1.239457\n",
      "2 26 1.239478\n",
      "2 27 1.239541\n",
      "2 28 1.2396183\n",
      "2 29 1.2396774\n",
      "2 30 1.2397493\n",
      "2 31 1.2321944\n",
      "3 3 0.0\n",
      "3 4 0.3029985\n",
      "3 5 0.31895444\n",
      "3 6 0.2791928\n",
      "3 7 0.046652343\n",
      "3 8 0.08618514\n",
      "3 9 0.36658657\n",
      "3 10 0.3759314\n",
      "3 11 0.3532312\n",
      "3 12 0.8291869\n",
      "3 13 0.9999956\n",
      "3 14 1.0032434\n",
      "3 15 1.0043665\n",
      "3 16 1.0088725\n",
      "3 17 1.239099\n",
      "3 18 1.2403457\n",
      "3 19 1.2404135\n",
      "3 20 1.240336\n",
      "3 21 1.2403035\n",
      "3 22 1.240258\n",
      "3 23 1.240267\n",
      "3 24 1.2401662\n",
      "3 25 1.2401352\n",
      "3 26 1.2401536\n",
      "3 27 1.2402169\n",
      "3 28 1.240315\n",
      "3 29 1.2403584\n",
      "3 30 1.2404492\n",
      "3 31 1.2330823\n",
      "4 4 0.0026520467\n",
      "4 5 0.08867059\n",
      "4 6 0.023572447\n",
      "4 7 0.2799156\n",
      "4 8 0.37837163\n",
      "4 9 0.6570429\n",
      "4 10 0.6343252\n",
      "4 11 0.62089556\n",
      "4 12 0.7239208\n",
      "4 13 0.88259876\n",
      "4 14 0.8851691\n",
      "4 15 0.88655907\n",
      "4 16 0.8913977\n",
      "4 17 1.1378057\n",
      "4 18 1.1391683\n",
      "4 19 1.1392628\n",
      "4 20 1.1391945\n",
      "4 21 1.1391666\n",
      "4 22 1.1391346\n",
      "4 23 1.1392149\n",
      "4 24 1.1390435\n",
      "4 25 1.1390071\n",
      "4 26 1.1390337\n",
      "4 27 1.1390882\n",
      "4 28 1.1391563\n",
      "4 29 1.1391945\n",
      "4 30 1.1391423\n",
      "4 31 1.1317334\n",
      "5 5 0.0016558425\n",
      "5 6 0.11141894\n",
      "5 7 0.2957979\n",
      "5 8 0.38964632\n",
      "5 9 0.6757391\n",
      "5 10 0.6493714\n",
      "5 11 0.6362369\n",
      "5 12 0.73021406\n",
      "5 13 0.8757478\n",
      "5 14 0.8775529\n",
      "5 15 0.8797455\n",
      "5 16 0.88339436\n",
      "5 17 1.1331651\n",
      "5 18 1.1345208\n",
      "5 19 1.1346399\n",
      "5 20 1.1345625\n",
      "5 21 1.1345359\n",
      "5 22 1.1345055\n",
      "5 23 1.1345247\n",
      "5 24 1.1344156\n",
      "5 25 1.1343822\n",
      "5 26 1.1344059\n",
      "5 27 1.1344547\n",
      "5 28 1.1345259\n",
      "5 29 1.1345625\n",
      "5 30 1.1345005\n",
      "5 31 1.1271514\n",
      "6 6 0.0\n",
      "6 7 0.25861767\n",
      "6 8 0.36219844\n",
      "6 9 0.63909805\n",
      "6 10 0.6144154\n",
      "6 11 0.60048074\n",
      "6 12 0.7164367\n",
      "6 13 0.8958299\n",
      "6 14 0.8992995\n",
      "6 15 0.8998637\n",
      "6 16 0.90423757\n",
      "6 17 1.1501386\n",
      "6 18 1.1514881\n",
      "6 19 1.1515827\n",
      "6 20 1.1515133\n",
      "6 21 1.1514872\n",
      "6 22 1.1514541\n",
      "6 23 1.1514698\n",
      "6 24 1.1513606\n",
      "6 25 1.1513247\n",
      "6 26 1.1513507\n",
      "6 27 1.1514032\n",
      "6 28 1.1514757\n",
      "6 29 1.1515151\n",
      "6 30 1.1514684\n",
      "6 31 1.1440392\n",
      "7 7 0.00069053395\n",
      "7 8 0.099570885\n",
      "7 9 0.3892575\n",
      "7 10 0.41811803\n",
      "7 11 0.37567124\n",
      "7 12 0.8548329\n",
      "7 13 1.0145417\n",
      "7 14 1.0180053\n",
      "7 15 1.0189158\n",
      "7 16 1.0232894\n",
      "7 17 1.248352\n",
      "7 18 1.2495627\n",
      "7 19 1.2496305\n",
      "7 20 1.249557\n",
      "7 21 1.2495236\n",
      "7 22 1.2494743\n",
      "7 23 1.2494823\n",
      "7 24 1.2493795\n",
      "7 25 1.2493461\n",
      "7 26 1.249367\n",
      "7 27 1.2494296\n",
      "7 28 1.2495055\n",
      "7 29 1.2495699\n",
      "7 30 1.2496428\n",
      "7 31 1.2422955\n",
      "8 8 0.002316122\n",
      "8 9 0.29742038\n",
      "8 10 0.32360473\n",
      "8 11 0.28126085\n",
      "8 12 0.8511856\n",
      "8 13 1.0618434\n",
      "8 14 1.0644197\n",
      "8 15 1.065454\n",
      "8 16 1.0698626\n",
      "8 17 1.2863225\n",
      "8 18 1.2874863\n",
      "8 19 1.2875432\n",
      "8 20 1.2874742\n",
      "8 21 1.2874339\n",
      "8 22 1.2873814\n",
      "8 23 1.2873888\n",
      "8 24 1.2872903\n",
      "8 25 1.2872586\n",
      "8 26 1.2872775\n",
      "8 27 1.2873431\n",
      "8 28 1.2874184\n",
      "8 29 1.2874911\n",
      "8 30 1.2875328\n",
      "8 31 1.2803301\n",
      "9 9 0.0\n",
      "9 10 0.16230437\n",
      "9 11 0.1907403\n",
      "9 12 0.52247334\n",
      "9 13 1.0948857\n",
      "9 14 1.0989686\n",
      "9 15 1.1001079\n",
      "9 16 1.1059966\n",
      "9 17 1.372048\n",
      "9 18 1.3734684\n",
      "9 19 1.3735044\n",
      "9 20 1.373489\n",
      "9 21 1.3735223\n",
      "9 22 1.3734677\n",
      "9 23 1.3734828\n",
      "9 24 1.3734127\n",
      "9 25 1.3733909\n",
      "9 26 1.373404\n",
      "9 27 1.3734801\n",
      "9 28 1.3735533\n",
      "9 29 1.3736238\n",
      "9 30 1.3737996\n",
      "9 31 1.3668075\n",
      "10 10 0.00069053395\n",
      "10 11 0.78735423\n",
      "10 12 0.5165731\n",
      "10 13 1.092554\n",
      "10 14 1.0952729\n",
      "10 15 1.0976728\n",
      "10 16 1.1028303\n",
      "10 17 1.3724902\n",
      "10 18 1.3739462\n",
      "10 19 1.373965\n",
      "10 20 1.3739775\n",
      "10 21 1.3739641\n",
      "10 22 1.373961\n",
      "10 23 1.3739556\n",
      "10 24 1.3738881\n",
      "10 25 1.373867\n",
      "10 26 1.3738801\n",
      "10 27 1.3739569\n",
      "10 28 1.37403\n",
      "10 29 1.3741027\n",
      "10 30 1.3742759\n",
      "10 31 1.3673074\n",
      "11 11 0.00034526698\n",
      "11 12 0.52758396\n",
      "11 13 1.0965929\n",
      "11 14 1.1005764\n",
      "11 15 1.1016933\n",
      "11 16 1.1076275\n",
      "11 17 1.369923\n",
      "11 18 1.3713255\n",
      "11 19 1.3713648\n",
      "11 20 1.3713539\n",
      "11 21 1.3713686\n",
      "11 22 1.3713222\n",
      "11 23 1.3713355\n",
      "11 24 1.3712631\n",
      "11 25 1.37124\n",
      "11 26 1.3712531\n",
      "11 27 1.3713285\n",
      "11 28 1.3714018\n",
      "11 29 1.3714724\n",
      "11 30 1.3715851\n",
      "11 31 1.3644925\n",
      "12 12 0.0018911054\n",
      "12 13 0.7064749\n",
      "12 14 0.70885146\n",
      "12 15 0.7114332\n",
      "12 16 0.7178832\n",
      "12 17 1.0769086\n",
      "12 18 1.0788968\n",
      "12 19 1.0789399\n",
      "12 20 1.078942\n",
      "12 21 1.078905\n",
      "12 22 1.0789368\n",
      "12 23 1.0795445\n",
      "12 24 1.0795062\n",
      "12 25 1.0789871\n",
      "12 26 1.0795004\n",
      "12 27 1.079492\n",
      "12 28 1.0791323\n",
      "12 29 1.0791974\n",
      "12 30 1.07935\n",
      "12 31 1.072995\n",
      "13 13 0.0027404726\n",
      "13 14 0.0111345835\n",
      "13 15 0.010891025\n",
      "13 16 0.019378364\n",
      "13 17 0.5267393\n",
      "13 18 0.52927864\n",
      "13 19 0.5294014\n",
      "13 20 0.5294871\n",
      "13 21 0.5294583\n",
      "13 22 0.5295673\n",
      "13 23 0.52971643\n",
      "13 24 0.52970064\n",
      "13 25 0.5297327\n",
      "13 26 0.5297374\n",
      "13 27 0.5297791\n",
      "13 28 0.5298402\n",
      "13 29 0.52986777\n",
      "13 30 0.52985305\n",
      "13 31 0.52441376\n",
      "14 14 0.0023417152\n",
      "14 15 0.01040399\n",
      "14 16 0.015541007\n",
      "14 17 0.52499175\n",
      "14 18 0.5275265\n",
      "14 19 0.5276554\n",
      "14 20 0.5277368\n",
      "14 21 0.52770716\n",
      "14 22 0.5278211\n",
      "14 23 0.52796954\n",
      "14 24 0.5279549\n",
      "14 25 0.5279888\n",
      "14 26 0.5279925\n",
      "14 27 0.5280321\n",
      "14 28 0.5280935\n",
      "14 29 0.5281192\n",
      "14 30 0.5281043\n",
      "14 31 0.5227574\n",
      "15 15 0.000845728\n",
      "15 16 0.013553757\n",
      "15 17 0.52042866\n",
      "15 18 0.5229672\n",
      "15 19 0.52309126\n",
      "15 20 0.5231774\n",
      "15 21 0.52314645\n",
      "15 22 0.5232591\n",
      "15 23 0.5234082\n",
      "15 24 0.5233946\n",
      "15 25 0.52342784\n",
      "15 26 0.5234307\n",
      "15 27 0.523471\n",
      "15 28 0.5235323\n",
      "15 29 0.52355754\n",
      "15 30 0.5235429\n",
      "15 31 0.5181933\n",
      "16 16 0.001504984\n",
      "16 17 0.50952744\n",
      "16 18 0.5120629\n",
      "16 19 0.51218957\n",
      "16 20 0.5122726\n",
      "16 21 0.51224536\n",
      "16 22 0.512357\n",
      "16 23 0.5125062\n",
      "16 24 0.5124918\n",
      "16 25 0.5125261\n",
      "16 26 0.512529\n",
      "16 27 0.51256853\n",
      "16 28 0.51262987\n",
      "16 29 0.5126552\n",
      "16 30 0.5126407\n",
      "16 31 0.50731623\n",
      "17 17 0.0\n",
      "17 18 0.0025371844\n",
      "17 19 0.0027186358\n",
      "17 20 0.0028049632\n",
      "17 21 0.0027836324\n",
      "17 22 0.002868004\n",
      "17 23 0.0030493166\n",
      "17 24 0.0030493166\n",
      "17 25 0.003088163\n",
      "17 26 0.003107404\n",
      "17 27 0.0031265267\n",
      "17 28 0.0031832056\n",
      "17 29 0.0032754918\n",
      "17 30 0.0033829133\n",
      "17 31 0.009277377\n",
      "18 18 0.0\n",
      "18 19 0.00048828125\n",
      "18 20 0\n",
      "18 21 0.00048828125\n",
      "18 22 0.00048828125\n",
      "18 23 0.00069053395\n",
      "18 24 0.00059802\n",
      "18 25 0.0009765625\n",
      "18 26 0.0009765625\n",
      "18 27 0.00069053395\n",
      "18 28 0.0009765625\n",
      "18 29 0.0009765625\n",
      "18 30 0.0012918708\n",
      "18 31 0.010160518\n",
      "19 19 0.0\n",
      "19 20 0.0\n",
      "19 21 0.00048828125\n",
      "19 22 0.00048828125\n",
      "19 23 0.00048828125\n",
      "19 24 0.00077204045\n",
      "19 25 0.00069053395\n",
      "19 26 0.00077204045\n",
      "19 27 0.00059802\n",
      "19 28 0.00069053395\n",
      "19 29 0.0009134906\n",
      "19 30 0.0013372133\n",
      "19 31 0.010219014\n",
      "20 20 0.0\n",
      "20 21 0.0\n",
      "20 22 0.0\n",
      "20 23 0.00048828125\n",
      "20 24 0.0\n",
      "20 25 0.00069053395\n",
      "20 26 0.00034526698\n",
      "20 27 0.00059802\n",
      "20 28 0.000845728\n",
      "20 29 0.000845728\n",
      "20 30 0.00119604\n",
      "20 31 0.010137025\n",
      "21 21 0.00034526698\n",
      "21 22 0.0\n",
      "21 23 0.00048828125\n",
      "21 24 0.00034526698\n",
      "21 25 0.00069053395\n",
      "21 26 0.00069053395\n",
      "21 27 0.00048828125\n",
      "21 28 0.00034526698\n",
      "21 29 0.00069053395\n",
      "21 30 0.001381068\n",
      "21 31 0.010148779\n",
      "22 22 0\n",
      "22 23 0.00048828125\n",
      "22 24 0.0\n",
      "22 25 0.00059802\n",
      "22 26 0.00069053395\n",
      "22 27 0.0\n",
      "22 28 0.00059802\n",
      "22 29 0.00048828125\n",
      "22 30 0.0012448779\n",
      "22 31 0.010089876\n",
      "23 23 0.0\n",
      "23 24 0.0\n",
      "23 25 0.00034526698\n",
      "23 26 0.00048828125\n",
      "23 27 0.00048828125\n",
      "23 28 0.00048828125\n",
      "23 29 0.00048828125\n",
      "23 30 0.0013372133\n",
      "23 31 0.010060295\n",
      "24 24 0\n",
      "24 25 0.0\n",
      "24 26 0.00034526698\n",
      "24 27 0.0\n",
      "24 28 0.0\n",
      "24 29 0.00034526698\n",
      "24 30 0.0012448779\n",
      "24 31 0.009941093\n",
      "25 25 0\n",
      "25 26 0.0\n",
      "25 27 0\n",
      "25 28 0.0\n",
      "25 29 0.00059802\n",
      "25 30 0.00119604\n",
      "25 31 0.009899032\n",
      "26 26 0.0\n",
      "26 27 0\n",
      "26 28 0.00034526698\n",
      "26 29 0.00048828125\n",
      "26 30 0.0009765625\n",
      "26 31 0.009965047\n",
      "27 27 0\n",
      "27 28 0\n",
      "27 29 0\n",
      "27 30 0.0009134906\n",
      "27 31 0.010030627\n",
      "28 28 0.0\n",
      "28 29 0.0\n",
      "28 30 0.000845728\n",
      "28 31 0.010113479\n",
      "29 29 0.0\n",
      "29 30 0.000845728\n",
      "29 31 0.0101839565\n",
      "30 30 0.0\n",
      "30 31 0.010195656\n",
      "31 31 0.0\n",
      "DMD heatmap saved at: ../figures/pythia-2.8b_2samples_wikitext-103_dmd_heatmap.png\n"
     ]
    },
    {
     "name": "stderr",
     "output_type": "stream",
     "text": [
      "/home/jsalle/.conda/envs/p11/lib/python3.11/site-packages/seaborn/_oldcore.py:1498: FutureWarning: is_categorical_dtype is deprecated and will be removed in a future version. Use isinstance(dtype, CategoricalDtype) instead\n",
      "  if pd.api.types.is_categorical_dtype(vector):\n",
      "/home/jsalle/.conda/envs/p11/lib/python3.11/site-packages/seaborn/_oldcore.py:1498: FutureWarning: is_categorical_dtype is deprecated and will be removed in a future version. Use isinstance(dtype, CategoricalDtype) instead\n",
      "  if pd.api.types.is_categorical_dtype(vector):\n",
      "/home/jsalle/.conda/envs/p11/lib/python3.11/site-packages/seaborn/_oldcore.py:1498: FutureWarning: is_categorical_dtype is deprecated and will be removed in a future version. Use isinstance(dtype, CategoricalDtype) instead\n",
      "  if pd.api.types.is_categorical_dtype(vector):\n",
      "/home/jsalle/.conda/envs/p11/lib/python3.11/site-packages/seaborn/_oldcore.py:1498: FutureWarning: is_categorical_dtype is deprecated and will be removed in a future version. Use isinstance(dtype, CategoricalDtype) instead\n",
      "  if pd.api.types.is_categorical_dtype(vector):\n",
      "/home/jsalle/.conda/envs/p11/lib/python3.11/site-packages/seaborn/_oldcore.py:1498: FutureWarning: is_categorical_dtype is deprecated and will be removed in a future version. Use isinstance(dtype, CategoricalDtype) instead\n",
      "  if pd.api.types.is_categorical_dtype(vector):\n"
     ]
    },
    {
     "name": "stdout",
     "output_type": "stream",
     "text": [
      "Saved DMD MDS at: ../figures/pythia-2.8b_2samples_wikitext-103_mds.png\n"
     ]
    },
    {
     "data": {
      "image/png": "[encoded data removed]",
      "text/plain": [
       "<Figure size 640x480 with 2 Axes>"
      ]
     },
     "metadata": {},
     "output_type": "display_data"
    },
    {
     "data": {
      "image/png": "[encoded data removed]",
      "text/plain": [
       "<Figure size 640x480 with 1 Axes>"
      ]
     },
     "metadata": {},
     "output_type": "display_data"
    }
   ],
   "source": [
    "sims_dmd, model_types, mds_df = apply_dmd(models, \n",
    "                                  model_types, \n",
    "                                  device=device,\n",
    "                                  fig_file_name='pythia-2.8b_3samples_wikitext-103')"
   ]
  },
  {
   "cell_type": "code",
   "execution_count": 47,
   "metadata": {},
   "outputs": [
    {
     "data": {
      "text/html": [
       "<div>\n",
       "<style scoped>\n",
       "    .dataframe tbody tr th:only-of-type {\n",
       "        vertical-align: middle;\n",
       "    }\n",
       "\n",
       "    .dataframe tbody tr th {\n",
       "        vertical-align: top;\n",
       "    }\n",
       "\n",
       "    .dataframe thead th {\n",
       "        text-align: right;\n",
       "    }\n",
       "</style>\n",
       "<table border=\"1\" class=\"dataframe\">\n",
       "  <thead>\n",
       "    <tr style=\"text-align: right;\">\n",
       "      <th></th>\n",
       "      <th>Model Type</th>\n",
       "      <th>DMD:0</th>\n",
       "      <th>DMD:1</th>\n",
       "      <th>Architecture</th>\n",
       "      <th>Layer</th>\n",
       "    </tr>\n",
       "  </thead>\n",
       "  <tbody>\n",
       "    <tr>\n",
       "      <th>0</th>\n",
       "      <td>pythia-14m - layer 0</td>\n",
       "      <td>0.142414</td>\n",
       "      <td>-0.377293</td>\n",
       "      <td>pythia-14m</td>\n",
       "      <td>0</td>\n",
       "    </tr>\n",
       "    <tr>\n",
       "      <th>1</th>\n",
       "      <td>pythia-14m - layer 1</td>\n",
       "      <td>0.096191</td>\n",
       "      <td>-0.113576</td>\n",
       "      <td>pythia-14m</td>\n",
       "      <td>1</td>\n",
       "    </tr>\n",
       "    <tr>\n",
       "      <th>2</th>\n",
       "      <td>pythia-14m - layer 2</td>\n",
       "      <td>-0.154431</td>\n",
       "      <td>0.053843</td>\n",
       "      <td>pythia-14m</td>\n",
       "      <td>2</td>\n",
       "    </tr>\n",
       "    <tr>\n",
       "      <th>3</th>\n",
       "      <td>pythia-14m - layer 3</td>\n",
       "      <td>-0.247504</td>\n",
       "      <td>0.126716</td>\n",
       "      <td>pythia-14m</td>\n",
       "      <td>3</td>\n",
       "    </tr>\n",
       "    <tr>\n",
       "      <th>4</th>\n",
       "      <td>pythia-14m - layer 4</td>\n",
       "      <td>-0.182962</td>\n",
       "      <td>0.470755</td>\n",
       "      <td>pythia-14m</td>\n",
       "      <td>4</td>\n",
       "    </tr>\n",
       "    <tr>\n",
       "      <th>5</th>\n",
       "      <td>pythia-14m - layer 5</td>\n",
       "      <td>0.346292</td>\n",
       "      <td>-0.160446</td>\n",
       "      <td>pythia-14m</td>\n",
       "      <td>5</td>\n",
       "    </tr>\n",
       "  </tbody>\n",
       "</table>\n",
       "</div>"
      ],
      "text/plain": [
       "             Model Type     DMD:0     DMD:1 Architecture  Layer\n",
       "0  pythia-14m - layer 0  0.142414 -0.377293   pythia-14m      0\n",
       "1  pythia-14m - layer 1  0.096191 -0.113576   pythia-14m      1\n",
       "2  pythia-14m - layer 2 -0.154431  0.053843   pythia-14m      2\n",
       "3  pythia-14m - layer 3 -0.247504  0.126716   pythia-14m      3\n",
       "4  pythia-14m - layer 4 -0.182962  0.470755   pythia-14m      4\n",
       "5  pythia-14m - layer 5  0.346292 -0.160446   pythia-14m      5"
      ]
     },
     "execution_count": 47,
     "metadata": {},
     "output_type": "execute_result"
    }
   ],
   "source": [
    "architectures = []\n",
    "layers = []\n",
    "\n",
    "for index, row in mds_df.iterrows():\n",
    "    architectures.append(row['Model Type'].rsplit(' -')[0])\n",
    "    layers.append(int(row['Model Type'].rsplit('layer ')[1]))\n",
    "\n",
    "mds_df['Architecture'] = architectures\n",
    "mds_df['Layer'] = layers\n",
    "mds_df"
   ]
  },
  {
   "cell_type": "code",
   "execution_count": 37,
   "metadata": {},
   "outputs": [
    {
     "data": {
      "application/vnd.plotly.v1+json": {
       "config": {
        "plotlyServerURL": "https://plot.ly"
       },
       "data": [
        {
         "hovertemplate": "Architecture=pythia-70m<br>DMD (dim 0)=%{x}<br>DMD (dim 1)=%{y}<extra></extra>",
         "legendgroup": "pythia-70m",
         "marker": {
          "color": "#636efa",
          "symbol": "circle"
         },
         "mode": "markers",
         "name": "pythia-70m",
         "orientation": "v",
         "showlegend": true,
         "type": "scatter",
         "x": [
          0.2895997830105354,
          -0.1558259092165496,
          0.026737220841247484,
          -0.21271278522338288,
          -0.22637619746115917,
          0.2785778880493087
         ],
         "xaxis": "x",
         "y": [
          -0.035536555197290244,
          -0.0788852002817032,
          0.17366031492310252,
          0.3399101307184067,
          -0.005191335480946337,
          -0.3939573546815698
         ],
         "yaxis": "y"
        }
       ],
       "layout": {
        "legend": {
         "title": {
          "text": "Architecture"
         },
         "tracegroupgap": 0
        },
        "margin": {
         "t": 60
        },
        "template": {
         "data": {
          "bar": [
           {
            "error_x": {
             "color": "#2a3f5f"
            },
            "error_y": {
             "color": "#2a3f5f"
            },
            "marker": {
             "line": {
              "color": "#E5ECF6",
              "width": 0.5
             },
             "pattern": {
              "fillmode": "overlay",
              "size": 10,
              "solidity": 0.2
             }
            },
            "type": "bar"
           }
          ],
          "barpolar": [
           {
            "marker": {
             "line": {
              "color": "#E5ECF6",
              "width": 0.5
             },
             "pattern": {
              "fillmode": "overlay",
              "size": 10,
              "solidity": 0.2
             }
            },
            "type": "barpolar"
           }
          ],
          "carpet": [
           {
            "aaxis": {
             "endlinecolor": "#2a3f5f",
             "gridcolor": "white",
             "linecolor": "white",
             "minorgridcolor": "white",
             "startlinecolor": "#2a3f5f"
            },
            "baxis": {
             "endlinecolor": "#2a3f5f",
             "gridcolor": "white",
             "linecolor": "white",
             "minorgridcolor": "white",
             "startlinecolor": "#2a3f5f"
            },
            "type": "carpet"
           }
          ],
          "choropleth": [
           {
            "colorbar": {
             "outlinewidth": 0,
             "ticks": ""
            },
            "type": "choropleth"
           }
          ],
          "contour": [
           {
            "colorbar": {
             "outlinewidth": 0,
             "ticks": ""
            },
            "colorscale": [
             [
              0,
              "#0d0887"
             ],
             [
              0.1111111111111111,
              "#46039f"
             ],
             [
              0.2222222222222222,
              "#7201a8"
             ],
             [
              0.3333333333333333,
              "#9c179e"
             ],
             [
              0.4444444444444444,
              "#bd3786"
             ],
             [
              0.5555555555555556,
              "#d8576b"
             ],
             [
              0.6666666666666666,
              "#ed7953"
             ],
             [
              0.7777777777777778,
              "#fb9f3a"
             ],
             [
              0.8888888888888888,
              "#fdca26"
             ],
             [
              1,
              "#f0f921"
             ]
            ],
            "type": "contour"
           }
          ],
          "contourcarpet": [
           {
            "colorbar": {
             "outlinewidth": 0,
             "ticks": ""
            },
            "type": "contourcarpet"
           }
          ],
          "heatmap": [
           {
            "colorbar": {
             "outlinewidth": 0,
             "ticks": ""
            },
            "colorscale": [
             [
              0,
              "#0d0887"
             ],
             [
              0.1111111111111111,
              "#46039f"
             ],
             [
              0.2222222222222222,
              "#7201a8"
             ],
             [
              0.3333333333333333,
              "#9c179e"
             ],
             [
              0.4444444444444444,
              "#bd3786"
             ],
             [
              0.5555555555555556,
              "#d8576b"
             ],
             [
              0.6666666666666666,
              "#ed7953"
             ],
             [
              0.7777777777777778,
              "#fb9f3a"
             ],
             [
              0.8888888888888888,
              "#fdca26"
             ],
             [
              1,
              "#f0f921"
             ]
            ],
            "type": "heatmap"
           }
          ],
          "heatmapgl": [
           {
            "colorbar": {
             "outlinewidth": 0,
             "ticks": ""
            },
            "colorscale": [
             [
              0,
              "#0d0887"
             ],
             [
              0.1111111111111111,
              "#46039f"
             ],
             [
              0.2222222222222222,
              "#7201a8"
             ],
             [
              0.3333333333333333,
              "#9c179e"
             ],
             [
              0.4444444444444444,
              "#bd3786"
             ],
             [
              0.5555555555555556,
              "#d8576b"
             ],
             [
              0.6666666666666666,
              "#ed7953"
             ],
             [
              0.7777777777777778,
              "#fb9f3a"
             ],
             [
              0.8888888888888888,
              "#fdca26"
             ],
             [
              1,
              "#f0f921"
             ]
            ],
            "type": "heatmapgl"
           }
          ],
          "histogram": [
           {
            "marker": {
             "pattern": {
              "fillmode": "overlay",
              "size": 10,
              "solidity": 0.2
             }
            },
            "type": "histogram"
           }
          ],
          "histogram2d": [
           {
            "colorbar": {
             "outlinewidth": 0,
             "ticks": ""
            },
            "colorscale": [
             [
              0,
              "#0d0887"
             ],
             [
              0.1111111111111111,
              "#46039f"
             ],
             [
              0.2222222222222222,
              "#7201a8"
             ],
             [
              0.3333333333333333,
              "#9c179e"
             ],
             [
              0.4444444444444444,
              "#bd3786"
             ],
             [
              0.5555555555555556,
              "#d8576b"
             ],
             [
              0.6666666666666666,
              "#ed7953"
             ],
             [
              0.7777777777777778,
              "#fb9f3a"
             ],
             [
              0.8888888888888888,
              "#fdca26"
             ],
             [
              1,
              "#f0f921"
             ]
            ],
            "type": "histogram2d"
           }
          ],
          "histogram2dcontour": [
           {
            "colorbar": {
             "outlinewidth": 0,
             "ticks": ""
            },
            "colorscale": [
             [
              0,
              "#0d0887"
             ],
             [
              0.1111111111111111,
              "#46039f"
             ],
             [
              0.2222222222222222,
              "#7201a8"
             ],
             [
              0.3333333333333333,
              "#9c179e"
             ],
             [
              0.4444444444444444,
              "#bd3786"
             ],
             [
              0.5555555555555556,
              "#d8576b"
             ],
             [
              0.6666666666666666,
              "#ed7953"
             ],
             [
              0.7777777777777778,
              "#fb9f3a"
             ],
             [
              0.8888888888888888,
              "#fdca26"
             ],
             [
              1,
              "#f0f921"
             ]
            ],
            "type": "histogram2dcontour"
           }
          ],
          "mesh3d": [
           {
            "colorbar": {
             "outlinewidth": 0,
             "ticks": ""
            },
            "type": "mesh3d"
           }
          ],
          "parcoords": [
           {
            "line": {
             "colorbar": {
              "outlinewidth": 0,
              "ticks": ""
             }
            },
            "type": "parcoords"
           }
          ],
          "pie": [
           {
            "automargin": true,
            "type": "pie"
           }
          ],
          "scatter": [
           {
            "fillpattern": {
             "fillmode": "overlay",
             "size": 10,
             "solidity": 0.2
            },
            "type": "scatter"
           }
          ],
          "scatter3d": [
           {
            "line": {
             "colorbar": {
              "outlinewidth": 0,
              "ticks": ""
             }
            },
            "marker": {
             "colorbar": {
              "outlinewidth": 0,
              "ticks": ""
             }
            },
            "type": "scatter3d"
           }
          ],
          "scattercarpet": [
           {
            "marker": {
             "colorbar": {
              "outlinewidth": 0,
              "ticks": ""
             }
            },
            "type": "scattercarpet"
           }
          ],
          "scattergeo": [
           {
            "marker": {
             "colorbar": {
              "outlinewidth": 0,
              "ticks": ""
             }
            },
            "type": "scattergeo"
           }
          ],
          "scattergl": [
           {
            "marker": {
             "colorbar": {
              "outlinewidth": 0,
              "ticks": ""
             }
            },
            "type": "scattergl"
           }
          ],
          "scattermapbox": [
           {
            "marker": {
             "colorbar": {
              "outlinewidth": 0,
              "ticks": ""
             }
            },
            "type": "scattermapbox"
           }
          ],
          "scatterpolar": [
           {
            "marker": {
             "colorbar": {
              "outlinewidth": 0,
              "ticks": ""
             }
            },
            "type": "scatterpolar"
           }
          ],
          "scatterpolargl": [
           {
            "marker": {
             "colorbar": {
              "outlinewidth": 0,
              "ticks": ""
             }
            },
            "type": "scatterpolargl"
           }
          ],
          "scatterternary": [
           {
            "marker": {
             "colorbar": {
              "outlinewidth": 0,
              "ticks": ""
             }
            },
            "type": "scatterternary"
           }
          ],
          "surface": [
           {
            "colorbar": {
             "outlinewidth": 0,
             "ticks": ""
            },
            "colorscale": [
             [
              0,
              "#0d0887"
             ],
             [
              0.1111111111111111,
              "#46039f"
             ],
             [
              0.2222222222222222,
              "#7201a8"
             ],
             [
              0.3333333333333333,
              "#9c179e"
             ],
             [
              0.4444444444444444,
              "#bd3786"
             ],
             [
              0.5555555555555556,
              "#d8576b"
             ],
             [
              0.6666666666666666,
              "#ed7953"
             ],
             [
              0.7777777777777778,
              "#fb9f3a"
             ],
             [
              0.8888888888888888,
              "#fdca26"
             ],
             [
              1,
              "#f0f921"
             ]
            ],
            "type": "surface"
           }
          ],
          "table": [
           {
            "cells": {
             "fill": {
              "color": "#EBF0F8"
             },
             "line": {
              "color": "white"
             }
            },
            "header": {
             "fill": {
              "color": "#C8D4E3"
             },
             "line": {
              "color": "white"
             }
            },
            "type": "table"
           }
          ]
         },
         "layout": {
          "annotationdefaults": {
           "arrowcolor": "#2a3f5f",
           "arrowhead": 0,
           "arrowwidth": 1
          },
          "autotypenumbers": "strict",
          "coloraxis": {
           "colorbar": {
            "outlinewidth": 0,
            "ticks": ""
           }
          },
          "colorscale": {
           "diverging": [
            [
             0,
             "#8e0152"
            ],
            [
             0.1,
             "#c51b7d"
            ],
            [
             0.2,
             "#de77ae"
            ],
            [
             0.3,
             "#f1b6da"
            ],
            [
             0.4,
             "#fde0ef"
            ],
            [
             0.5,
             "#f7f7f7"
            ],
            [
             0.6,
             "#e6f5d0"
            ],
            [
             0.7,
             "#b8e186"
            ],
            [
             0.8,
             "#7fbc41"
            ],
            [
             0.9,
             "#4d9221"
            ],
            [
             1,
             "#276419"
            ]
           ],
           "sequential": [
            [
             0,
             "#0d0887"
            ],
            [
             0.1111111111111111,
             "#46039f"
            ],
            [
             0.2222222222222222,
             "#7201a8"
            ],
            [
             0.3333333333333333,
             "#9c179e"
            ],
            [
             0.4444444444444444,
             "#bd3786"
            ],
            [
             0.5555555555555556,
             "#d8576b"
            ],
            [
             0.6666666666666666,
             "#ed7953"
            ],
            [
             0.7777777777777778,
             "#fb9f3a"
            ],
            [
             0.8888888888888888,
             "#fdca26"
            ],
            [
             1,
             "#f0f921"
            ]
           ],
           "sequentialminus": [
            [
             0,
             "#0d0887"
            ],
            [
             0.1111111111111111,
             "#46039f"
            ],
            [
             0.2222222222222222,
             "#7201a8"
            ],
            [
             0.3333333333333333,
             "#9c179e"
            ],
            [
             0.4444444444444444,
             "#bd3786"
            ],
            [
             0.5555555555555556,
             "#d8576b"
            ],
            [
             0.6666666666666666,
             "#ed7953"
            ],
            [
             0.7777777777777778,
             "#fb9f3a"
            ],
            [
             0.8888888888888888,
             "#fdca26"
            ],
            [
             1,
             "#f0f921"
            ]
           ]
          },
          "colorway": [
           "#636efa",
           "#EF553B",
           "#00cc96",
           "#ab63fa",
           "#FFA15A",
           "#19d3f3",
           "#FF6692",
           "#B6E880",
           "#FF97FF",
           "#FECB52"
          ],
          "font": {
           "color": "#2a3f5f"
          },
          "geo": {
           "bgcolor": "white",
           "lakecolor": "white",
           "landcolor": "#E5ECF6",
           "showlakes": true,
           "showland": true,
           "subunitcolor": "white"
          },
          "hoverlabel": {
           "align": "left"
          },
          "hovermode": "closest",
          "mapbox": {
           "style": "light"
          },
          "paper_bgcolor": "white",
          "plot_bgcolor": "#E5ECF6",
          "polar": {
           "angularaxis": {
            "gridcolor": "white",
            "linecolor": "white",
            "ticks": ""
           },
           "bgcolor": "#E5ECF6",
           "radialaxis": {
            "gridcolor": "white",
            "linecolor": "white",
            "ticks": ""
           }
          },
          "scene": {
           "xaxis": {
            "backgroundcolor": "#E5ECF6",
            "gridcolor": "white",
            "gridwidth": 2,
            "linecolor": "white",
            "showbackground": true,
            "ticks": "",
            "zerolinecolor": "white"
           },
           "yaxis": {
            "backgroundcolor": "#E5ECF6",
            "gridcolor": "white",
            "gridwidth": 2,
            "linecolor": "white",
            "showbackground": true,
            "ticks": "",
            "zerolinecolor": "white"
           },
           "zaxis": {
            "backgroundcolor": "#E5ECF6",
            "gridcolor": "white",
            "gridwidth": 2,
            "linecolor": "white",
            "showbackground": true,
            "ticks": "",
            "zerolinecolor": "white"
           }
          },
          "shapedefaults": {
           "line": {
            "color": "#2a3f5f"
           }
          },
          "ternary": {
           "aaxis": {
            "gridcolor": "white",
            "linecolor": "white",
            "ticks": ""
           },
           "baxis": {
            "gridcolor": "white",
            "linecolor": "white",
            "ticks": ""
           },
           "bgcolor": "#E5ECF6",
           "caxis": {
            "gridcolor": "white",
            "linecolor": "white",
            "ticks": ""
           }
          },
          "title": {
           "x": 0.05
          },
          "xaxis": {
           "automargin": true,
           "gridcolor": "white",
           "linecolor": "white",
           "ticks": "",
           "title": {
            "standoff": 15
           },
           "zerolinecolor": "white",
           "zerolinewidth": 2
          },
          "yaxis": {
           "automargin": true,
           "gridcolor": "white",
           "linecolor": "white",
           "ticks": "",
           "title": {
            "standoff": 15
           },
           "zerolinecolor": "white",
           "zerolinewidth": 2
          }
         }
        },
        "xaxis": {
         "anchor": "y",
         "domain": [
          0,
          1
         ],
         "title": {
          "text": "DMD (dim 0)"
         }
        },
        "yaxis": {
         "anchor": "x",
         "domain": [
          0,
          1
         ],
         "title": {
          "text": "DMD (dim 1)"
         }
        }
       }
      },
      "text/html": [
       "<div>                            <div id=\"f1e51f0a-e99b-40f4-8572-485870c09409\" class=\"plotly-graph-div\" style=\"height:525px; width:100%;\"></div>            <script type=\"text/javascript\">                require([\"plotly\"], function(Plotly) {                    window.PLOTLYENV=window.PLOTLYENV || {};                                    if (document.getElementById(\"f1e51f0a-e99b-40f4-8572-485870c09409\")) {                    Plotly.newPlot(                        \"f1e51f0a-e99b-40f4-8572-485870c09409\",                        [{\"hovertemplate\":\"Architecture=pythia-70m<br>DMD (dim 0)=%{x}<br>DMD (dim 1)=%{y}<extra></extra>\",\"legendgroup\":\"pythia-70m\",\"marker\":{\"color\":\"#636efa\",\"symbol\":\"circle\"},\"mode\":\"markers\",\"name\":\"pythia-70m\",\"orientation\":\"v\",\"showlegend\":true,\"x\":[0.2895997830105354,-0.1558259092165496,0.026737220841247484,-0.21271278522338288,-0.22637619746115917,0.2785778880493087],\"xaxis\":\"x\",\"y\":[-0.035536555197290244,-0.0788852002817032,0.17366031492310252,0.3399101307184067,-0.005191335480946337,-0.3939573546815698],\"yaxis\":\"y\",\"type\":\"scatter\"}],                        {\"template\":{\"data\":{\"histogram2dcontour\":[{\"type\":\"histogram2dcontour\",\"colorbar\":{\"outlinewidth\":0,\"ticks\":\"\"},\"colorscale\":[[0.0,\"#0d0887\"],[0.1111111111111111,\"#46039f\"],[0.2222222222222222,\"#7201a8\"],[0.3333333333333333,\"#9c179e\"],[0.4444444444444444,\"#bd3786\"],[0.5555555555555556,\"#d8576b\"],[0.6666666666666666,\"#ed7953\"],[0.7777777777777778,\"#fb9f3a\"],[0.8888888888888888,\"#fdca26\"],[1.0,\"#f0f921\"]]}],\"choropleth\":[{\"type\":\"choropleth\",\"colorbar\":{\"outlinewidth\":0,\"ticks\":\"\"}}],\"histogram2d\":[{\"type\":\"histogram2d\",\"colorbar\":{\"outlinewidth\":0,\"ticks\":\"\"},\"colorscale\":[[0.0,\"#0d0887\"],[0.1111111111111111,\"#46039f\"],[0.2222222222222222,\"#7201a8\"],[0.3333333333333333,\"#9c179e\"],[0.4444444444444444,\"#bd3786\"],[0.5555555555555556,\"#d8576b\"],[0.6666666666666666,\"#ed7953\"],[0.7777777777777778,\"#fb9f3a\"],[0.8888888888888888,\"#fdca26\"],[1.0,\"#f0f921\"]]}],\"heatmap\":[{\"type\":\"heatmap\",\"colorbar\":{\"outlinewidth\":0,\"ticks\":\"\"},\"colorscale\":[[0.0,\"#0d0887\"],[0.1111111111111111,\"#46039f\"],[0.2222222222222222,\"#7201a8\"],[0.3333333333333333,\"#9c179e\"],[0.4444444444444444,\"#bd3786\"],[0.5555555555555556,\"#d8576b\"],[0.6666666666666666,\"#ed7953\"],[0.7777777777777778,\"#fb9f3a\"],[0.8888888888888888,\"#fdca26\"],[1.0,\"#f0f921\"]]}],\"heatmapgl\":[{\"type\":\"heatmapgl\",\"colorbar\":{\"outlinewidth\":0,\"ticks\":\"\"},\"colorscale\":[[0.0,\"#0d0887\"],[0.1111111111111111,\"#46039f\"],[0.2222222222222222,\"#7201a8\"],[0.3333333333333333,\"#9c179e\"],[0.4444444444444444,\"#bd3786\"],[0.5555555555555556,\"#d8576b\"],[0.6666666666666666,\"#ed7953\"],[0.7777777777777778,\"#fb9f3a\"],[0.8888888888888888,\"#fdca26\"],[1.0,\"#f0f921\"]]}],\"contourcarpet\":[{\"type\":\"contourcarpet\",\"colorbar\":{\"outlinewidth\":0,\"ticks\":\"\"}}],\"contour\":[{\"type\":\"contour\",\"colorbar\":{\"outlinewidth\":0,\"ticks\":\"\"},\"colorscale\":[[0.0,\"#0d0887\"],[0.1111111111111111,\"#46039f\"],[0.2222222222222222,\"#7201a8\"],[0.3333333333333333,\"#9c179e\"],[0.4444444444444444,\"#bd3786\"],[0.5555555555555556,\"#d8576b\"],[0.6666666666666666,\"#ed7953\"],[0.7777777777777778,\"#fb9f3a\"],[0.8888888888888888,\"#fdca26\"],[1.0,\"#f0f921\"]]}],\"surface\":[{\"type\":\"surface\",\"colorbar\":{\"outlinewidth\":0,\"ticks\":\"\"},\"colorscale\":[[0.0,\"#0d0887\"],[0.1111111111111111,\"#46039f\"],[0.2222222222222222,\"#7201a8\"],[0.3333333333333333,\"#9c179e\"],[0.4444444444444444,\"#bd3786\"],[0.5555555555555556,\"#d8576b\"],[0.6666666666666666,\"#ed7953\"],[0.7777777777777778,\"#fb9f3a\"],[0.8888888888888888,\"#fdca26\"],[1.0,\"#f0f921\"]]}],\"mesh3d\":[{\"type\":\"mesh3d\",\"colorbar\":{\"outlinewidth\":0,\"ticks\":\"\"}}],\"scatter\":[{\"fillpattern\":{\"fillmode\":\"overlay\",\"size\":10,\"solidity\":0.2},\"type\":\"scatter\"}],\"parcoords\":[{\"type\":\"parcoords\",\"line\":{\"colorbar\":{\"outlinewidth\":0,\"ticks\":\"\"}}}],\"scatterpolargl\":[{\"type\":\"scatterpolargl\",\"marker\":{\"colorbar\":{\"outlinewidth\":0,\"ticks\":\"\"}}}],\"bar\":[{\"error_x\":{\"color\":\"#2a3f5f\"},\"error_y\":{\"color\":\"#2a3f5f\"},\"marker\":{\"line\":{\"color\":\"#E5ECF6\",\"width\":0.5},\"pattern\":{\"fillmode\":\"overlay\",\"size\":10,\"solidity\":0.2}},\"type\":\"bar\"}],\"scattergeo\":[{\"type\":\"scattergeo\",\"marker\":{\"colorbar\":{\"outlinewidth\":0,\"ticks\":\"\"}}}],\"scatterpolar\":[{\"type\":\"scatterpolar\",\"marker\":{\"colorbar\":{\"outlinewidth\":0,\"ticks\":\"\"}}}],\"histogram\":[{\"marker\":{\"pattern\":{\"fillmode\":\"overlay\",\"size\":10,\"solidity\":0.2}},\"type\":\"histogram\"}],\"scattergl\":[{\"type\":\"scattergl\",\"marker\":{\"colorbar\":{\"outlinewidth\":0,\"ticks\":\"\"}}}],\"scatter3d\":[{\"type\":\"scatter3d\",\"line\":{\"colorbar\":{\"outlinewidth\":0,\"ticks\":\"\"}},\"marker\":{\"colorbar\":{\"outlinewidth\":0,\"ticks\":\"\"}}}],\"scattermapbox\":[{\"type\":\"scattermapbox\",\"marker\":{\"colorbar\":{\"outlinewidth\":0,\"ticks\":\"\"}}}],\"scatterternary\":[{\"type\":\"scatterternary\",\"marker\":{\"colorbar\":{\"outlinewidth\":0,\"ticks\":\"\"}}}],\"scattercarpet\":[{\"type\":\"scattercarpet\",\"marker\":{\"colorbar\":{\"outlinewidth\":0,\"ticks\":\"\"}}}],\"carpet\":[{\"aaxis\":{\"endlinecolor\":\"#2a3f5f\",\"gridcolor\":\"white\",\"linecolor\":\"white\",\"minorgridcolor\":\"white\",\"startlinecolor\":\"#2a3f5f\"},\"baxis\":{\"endlinecolor\":\"#2a3f5f\",\"gridcolor\":\"white\",\"linecolor\":\"white\",\"minorgridcolor\":\"white\",\"startlinecolor\":\"#2a3f5f\"},\"type\":\"carpet\"}],\"table\":[{\"cells\":{\"fill\":{\"color\":\"#EBF0F8\"},\"line\":{\"color\":\"white\"}},\"header\":{\"fill\":{\"color\":\"#C8D4E3\"},\"line\":{\"color\":\"white\"}},\"type\":\"table\"}],\"barpolar\":[{\"marker\":{\"line\":{\"color\":\"#E5ECF6\",\"width\":0.5},\"pattern\":{\"fillmode\":\"overlay\",\"size\":10,\"solidity\":0.2}},\"type\":\"barpolar\"}],\"pie\":[{\"automargin\":true,\"type\":\"pie\"}]},\"layout\":{\"autotypenumbers\":\"strict\",\"colorway\":[\"#636efa\",\"#EF553B\",\"#00cc96\",\"#ab63fa\",\"#FFA15A\",\"#19d3f3\",\"#FF6692\",\"#B6E880\",\"#FF97FF\",\"#FECB52\"],\"font\":{\"color\":\"#2a3f5f\"},\"hovermode\":\"closest\",\"hoverlabel\":{\"align\":\"left\"},\"paper_bgcolor\":\"white\",\"plot_bgcolor\":\"#E5ECF6\",\"polar\":{\"bgcolor\":\"#E5ECF6\",\"angularaxis\":{\"gridcolor\":\"white\",\"linecolor\":\"white\",\"ticks\":\"\"},\"radialaxis\":{\"gridcolor\":\"white\",\"linecolor\":\"white\",\"ticks\":\"\"}},\"ternary\":{\"bgcolor\":\"#E5ECF6\",\"aaxis\":{\"gridcolor\":\"white\",\"linecolor\":\"white\",\"ticks\":\"\"},\"baxis\":{\"gridcolor\":\"white\",\"linecolor\":\"white\",\"ticks\":\"\"},\"caxis\":{\"gridcolor\":\"white\",\"linecolor\":\"white\",\"ticks\":\"\"}},\"coloraxis\":{\"colorbar\":{\"outlinewidth\":0,\"ticks\":\"\"}},\"colorscale\":{\"sequential\":[[0.0,\"#0d0887\"],[0.1111111111111111,\"#46039f\"],[0.2222222222222222,\"#7201a8\"],[0.3333333333333333,\"#9c179e\"],[0.4444444444444444,\"#bd3786\"],[0.5555555555555556,\"#d8576b\"],[0.6666666666666666,\"#ed7953\"],[0.7777777777777778,\"#fb9f3a\"],[0.8888888888888888,\"#fdca26\"],[1.0,\"#f0f921\"]],\"sequentialminus\":[[0.0,\"#0d0887\"],[0.1111111111111111,\"#46039f\"],[0.2222222222222222,\"#7201a8\"],[0.3333333333333333,\"#9c179e\"],[0.4444444444444444,\"#bd3786\"],[0.5555555555555556,\"#d8576b\"],[0.6666666666666666,\"#ed7953\"],[0.7777777777777778,\"#fb9f3a\"],[0.8888888888888888,\"#fdca26\"],[1.0,\"#f0f921\"]],\"diverging\":[[0,\"#8e0152\"],[0.1,\"#c51b7d\"],[0.2,\"#de77ae\"],[0.3,\"#f1b6da\"],[0.4,\"#fde0ef\"],[0.5,\"#f7f7f7\"],[0.6,\"#e6f5d0\"],[0.7,\"#b8e186\"],[0.8,\"#7fbc41\"],[0.9,\"#4d9221\"],[1,\"#276419\"]]},\"xaxis\":{\"gridcolor\":\"white\",\"linecolor\":\"white\",\"ticks\":\"\",\"title\":{\"standoff\":15},\"zerolinecolor\":\"white\",\"automargin\":true,\"zerolinewidth\":2},\"yaxis\":{\"gridcolor\":\"white\",\"linecolor\":\"white\",\"ticks\":\"\",\"title\":{\"standoff\":15},\"zerolinecolor\":\"white\",\"automargin\":true,\"zerolinewidth\":2},\"scene\":{\"xaxis\":{\"backgroundcolor\":\"#E5ECF6\",\"gridcolor\":\"white\",\"linecolor\":\"white\",\"showbackground\":true,\"ticks\":\"\",\"zerolinecolor\":\"white\",\"gridwidth\":2},\"yaxis\":{\"backgroundcolor\":\"#E5ECF6\",\"gridcolor\":\"white\",\"linecolor\":\"white\",\"showbackground\":true,\"ticks\":\"\",\"zerolinecolor\":\"white\",\"gridwidth\":2},\"zaxis\":{\"backgroundcolor\":\"#E5ECF6\",\"gridcolor\":\"white\",\"linecolor\":\"white\",\"showbackground\":true,\"ticks\":\"\",\"zerolinecolor\":\"white\",\"gridwidth\":2}},\"shapedefaults\":{\"line\":{\"color\":\"#2a3f5f\"}},\"annotationdefaults\":{\"arrowcolor\":\"#2a3f5f\",\"arrowhead\":0,\"arrowwidth\":1},\"geo\":{\"bgcolor\":\"white\",\"landcolor\":\"#E5ECF6\",\"subunitcolor\":\"white\",\"showland\":true,\"showlakes\":true,\"lakecolor\":\"white\"},\"title\":{\"x\":0.05},\"mapbox\":{\"style\":\"light\"}}},\"xaxis\":{\"anchor\":\"y\",\"domain\":[0.0,1.0],\"title\":{\"text\":\"DMD (dim 0)\"}},\"yaxis\":{\"anchor\":\"x\",\"domain\":[0.0,1.0],\"title\":{\"text\":\"DMD (dim 1)\"}},\"legend\":{\"title\":{\"text\":\"Architecture\"},\"tracegroupgap\":0},\"margin\":{\"t\":60}},                        {\"responsive\": true}                    ).then(function(){\n",
       "                            \n",
       "var gd = document.getElementById('f1e51f0a-e99b-40f4-8572-485870c09409');\n",
       "var x = new MutationObserver(function (mutations, observer) {{\n",
       "        var display = window.getComputedStyle(gd).display;\n",
       "        if (!display || display === 'none') {{\n",
       "            console.log([gd, 'removed!']);\n",
       "            Plotly.purge(gd);\n",
       "            observer.disconnect();\n",
       "        }}\n",
       "}});\n",
       "\n",
       "// Listen for the removal of the full notebook cells\n",
       "var notebookContainer = gd.closest('#notebook-container');\n",
       "if (notebookContainer) {{\n",
       "    x.observe(notebookContainer, {childList: true});\n",
       "}}\n",
       "\n",
       "// Listen for the clearing of the current output cell\n",
       "var outputEl = gd.closest('.output');\n",
       "if (outputEl) {{\n",
       "    x.observe(outputEl, {childList: true});\n",
       "}}\n",
       "\n",
       "                        })                };                });            </script>        </div>"
      ]
     },
     "metadata": {},
     "output_type": "display_data"
    }
   ],
   "source": [
    "import plotly.express as px\n",
    "\n",
    "fig = px.scatter(mds_df, \n",
    "                 x=\"DMD:0\", \n",
    "                 y=\"DMD:1\", \n",
    "                 color=\"Architecture\",\n",
    "                 title=\"\",\n",
    "                 labels={\n",
    "                     \"DMD:0\": \"DMD (dim 0)\",\n",
    "                     \"DMD:1\": \"DMD (dim 1)\",\n",
    "                     \"Layer\": \"Layer\"\n",
    "                 },)\n",
    "fig.show()"
   ]
  },
  {
   "cell_type": "code",
   "execution_count": 48,
   "metadata": {},
   "outputs": [
    {
     "data": {
      "application/vnd.plotly.v1+json": {
       "config": {
        "plotlyServerURL": "https://plot.ly"
       },
       "data": [
        {
         "hovertemplate": "Architecture=pythia-14m<br>DMD:0=%{x}<br>DMD:1=%{y}<br>Layer=%{marker.color}<extra></extra>",
         "legendgroup": "pythia-14m",
         "marker": {
          "color": [
           0,
           1,
           2,
           3,
           4,
           5
          ],
          "coloraxis": "coloraxis",
          "symbol": "circle"
         },
         "mode": "markers",
         "name": "pythia-14m",
         "orientation": "v",
         "showlegend": true,
         "type": "scatter",
         "x": [
          0.1424136598697263,
          0.09619073392919056,
          -0.15443056721639103,
          -0.24750375457717558,
          -0.1829623479280358,
          0.34629227592268613
         ],
         "xaxis": "x",
         "y": [
          -0.3772934149509007,
          -0.11357570833924979,
          0.05384343137535727,
          0.12671618462102502,
          0.4707554466434718,
          -0.1604459393497038
         ],
         "yaxis": "y"
        }
       ],
       "layout": {
        "coloraxis": {
         "colorbar": {
          "title": {
           "text": "Layer"
          }
         },
         "colorscale": [
          [
           0,
           "#0d0887"
          ],
          [
           0.1111111111111111,
           "#46039f"
          ],
          [
           0.2222222222222222,
           "#7201a8"
          ],
          [
           0.3333333333333333,
           "#9c179e"
          ],
          [
           0.4444444444444444,
           "#bd3786"
          ],
          [
           0.5555555555555556,
           "#d8576b"
          ],
          [
           0.6666666666666666,
           "#ed7953"
          ],
          [
           0.7777777777777778,
           "#fb9f3a"
          ],
          [
           0.8888888888888888,
           "#fdca26"
          ],
          [
           1,
           "#f0f921"
          ]
         ]
        },
        "legend": {
         "title": {
          "text": "Architecture"
         },
         "tracegroupgap": 0
        },
        "margin": {
         "t": 60
        },
        "template": {
         "data": {
          "bar": [
           {
            "error_x": {
             "color": "#2a3f5f"
            },
            "error_y": {
             "color": "#2a3f5f"
            },
            "marker": {
             "line": {
              "color": "#E5ECF6",
              "width": 0.5
             },
             "pattern": {
              "fillmode": "overlay",
              "size": 10,
              "solidity": 0.2
             }
            },
            "type": "bar"
           }
          ],
          "barpolar": [
           {
            "marker": {
             "line": {
              "color": "#E5ECF6",
              "width": 0.5
             },
             "pattern": {
              "fillmode": "overlay",
              "size": 10,
              "solidity": 0.2
             }
            },
            "type": "barpolar"
           }
          ],
          "carpet": [
           {
            "aaxis": {
             "endlinecolor": "#2a3f5f",
             "gridcolor": "white",
             "linecolor": "white",
             "minorgridcolor": "white",
             "startlinecolor": "#2a3f5f"
            },
            "baxis": {
             "endlinecolor": "#2a3f5f",
             "gridcolor": "white",
             "linecolor": "white",
             "minorgridcolor": "white",
             "startlinecolor": "#2a3f5f"
            },
            "type": "carpet"
           }
          ],
          "choropleth": [
           {
            "colorbar": {
             "outlinewidth": 0,
             "ticks": ""
            },
            "type": "choropleth"
           }
          ],
          "contour": [
           {
            "colorbar": {
             "outlinewidth": 0,
             "ticks": ""
            },
            "colorscale": [
             [
              0,
              "#0d0887"
             ],
             [
              0.1111111111111111,
              "#46039f"
             ],
             [
              0.2222222222222222,
              "#7201a8"
             ],
             [
              0.3333333333333333,
              "#9c179e"
             ],
             [
              0.4444444444444444,
              "#bd3786"
             ],
             [
              0.5555555555555556,
              "#d8576b"
             ],
             [
              0.6666666666666666,
              "#ed7953"
             ],
             [
              0.7777777777777778,
              "#fb9f3a"
             ],
             [
              0.8888888888888888,
              "#fdca26"
             ],
             [
              1,
              "#f0f921"
             ]
            ],
            "type": "contour"
           }
          ],
          "contourcarpet": [
           {
            "colorbar": {
             "outlinewidth": 0,
             "ticks": ""
            },
            "type": "contourcarpet"
           }
          ],
          "heatmap": [
           {
            "colorbar": {
             "outlinewidth": 0,
             "ticks": ""
            },
            "colorscale": [
             [
              0,
              "#0d0887"
             ],
             [
              0.1111111111111111,
              "#46039f"
             ],
             [
              0.2222222222222222,
              "#7201a8"
             ],
             [
              0.3333333333333333,
              "#9c179e"
             ],
             [
              0.4444444444444444,
              "#bd3786"
             ],
             [
              0.5555555555555556,
              "#d8576b"
             ],
             [
              0.6666666666666666,
              "#ed7953"
             ],
             [
              0.7777777777777778,
              "#fb9f3a"
             ],
             [
              0.8888888888888888,
              "#fdca26"
             ],
             [
              1,
              "#f0f921"
             ]
            ],
            "type": "heatmap"
           }
          ],
          "heatmapgl": [
           {
            "colorbar": {
             "outlinewidth": 0,
             "ticks": ""
            },
            "colorscale": [
             [
              0,
              "#0d0887"
             ],
             [
              0.1111111111111111,
              "#46039f"
             ],
             [
              0.2222222222222222,
              "#7201a8"
             ],
             [
              0.3333333333333333,
              "#9c179e"
             ],
             [
              0.4444444444444444,
              "#bd3786"
             ],
             [
              0.5555555555555556,
              "#d8576b"
             ],
             [
              0.6666666666666666,
              "#ed7953"
             ],
             [
              0.7777777777777778,
              "#fb9f3a"
             ],
             [
              0.8888888888888888,
              "#fdca26"
             ],
             [
              1,
              "#f0f921"
             ]
            ],
            "type": "heatmapgl"
           }
          ],
          "histogram": [
           {
            "marker": {
             "pattern": {
              "fillmode": "overlay",
              "size": 10,
              "solidity": 0.2
             }
            },
            "type": "histogram"
           }
          ],
          "histogram2d": [
           {
            "colorbar": {
             "outlinewidth": 0,
             "ticks": ""
            },
            "colorscale": [
             [
              0,
              "#0d0887"
             ],
             [
              0.1111111111111111,
              "#46039f"
             ],
             [
              0.2222222222222222,
              "#7201a8"
             ],
             [
              0.3333333333333333,
              "#9c179e"
             ],
             [
              0.4444444444444444,
              "#bd3786"
             ],
             [
              0.5555555555555556,
              "#d8576b"
             ],
             [
              0.6666666666666666,
              "#ed7953"
             ],
             [
              0.7777777777777778,
              "#fb9f3a"
             ],
             [
              0.8888888888888888,
              "#fdca26"
             ],
             [
              1,
              "#f0f921"
             ]
            ],
            "type": "histogram2d"
           }
          ],
          "histogram2dcontour": [
           {
            "colorbar": {
             "outlinewidth": 0,
             "ticks": ""
            },
            "colorscale": [
             [
              0,
              "#0d0887"
             ],
             [
              0.1111111111111111,
              "#46039f"
             ],
             [
              0.2222222222222222,
              "#7201a8"
             ],
             [
              0.3333333333333333,
              "#9c179e"
             ],
             [
              0.4444444444444444,
              "#bd3786"
             ],
             [
              0.5555555555555556,
              "#d8576b"
             ],
             [
              0.6666666666666666,
              "#ed7953"
             ],
             [
              0.7777777777777778,
              "#fb9f3a"
             ],
             [
              0.8888888888888888,
              "#fdca26"
             ],
             [
              1,
              "#f0f921"
             ]
            ],
            "type": "histogram2dcontour"
           }
          ],
          "mesh3d": [
           {
            "colorbar": {
             "outlinewidth": 0,
             "ticks": ""
            },
            "type": "mesh3d"
           }
          ],
          "parcoords": [
           {
            "line": {
             "colorbar": {
              "outlinewidth": 0,
              "ticks": ""
             }
            },
            "type": "parcoords"
           }
          ],
          "pie": [
           {
            "automargin": true,
            "type": "pie"
           }
          ],
          "scatter": [
           {
            "fillpattern": {
             "fillmode": "overlay",
             "size": 10,
             "solidity": 0.2
            },
            "type": "scatter"
           }
          ],
          "scatter3d": [
           {
            "line": {
             "colorbar": {
              "outlinewidth": 0,
              "ticks": ""
             }
            },
            "marker": {
             "colorbar": {
              "outlinewidth": 0,
              "ticks": ""
             }
            },
            "type": "scatter3d"
           }
          ],
          "scattercarpet": [
           {
            "marker": {
             "colorbar": {
              "outlinewidth": 0,
              "ticks": ""
             }
            },
            "type": "scattercarpet"
           }
          ],
          "scattergeo": [
           {
            "marker": {
             "colorbar": {
              "outlinewidth": 0,
              "ticks": ""
             }
            },
            "type": "scattergeo"
           }
          ],
          "scattergl": [
           {
            "marker": {
             "colorbar": {
              "outlinewidth": 0,
              "ticks": ""
             }
            },
            "type": "scattergl"
           }
          ],
          "scattermapbox": [
           {
            "marker": {
             "colorbar": {
              "outlinewidth": 0,
              "ticks": ""
             }
            },
            "type": "scattermapbox"
           }
          ],
          "scatterpolar": [
           {
            "marker": {
             "colorbar": {
              "outlinewidth": 0,
              "ticks": ""
             }
            },
            "type": "scatterpolar"
           }
          ],
          "scatterpolargl": [
           {
            "marker": {
             "colorbar": {
              "outlinewidth": 0,
              "ticks": ""
             }
            },
            "type": "scatterpolargl"
           }
          ],
          "scatterternary": [
           {
            "marker": {
             "colorbar": {
              "outlinewidth": 0,
              "ticks": ""
             }
            },
            "type": "scatterternary"
           }
          ],
          "surface": [
           {
            "colorbar": {
             "outlinewidth": 0,
             "ticks": ""
            },
            "colorscale": [
             [
              0,
              "#0d0887"
             ],
             [
              0.1111111111111111,
              "#46039f"
             ],
             [
              0.2222222222222222,
              "#7201a8"
             ],
             [
              0.3333333333333333,
              "#9c179e"
             ],
             [
              0.4444444444444444,
              "#bd3786"
             ],
             [
              0.5555555555555556,
              "#d8576b"
             ],
             [
              0.6666666666666666,
              "#ed7953"
             ],
             [
              0.7777777777777778,
              "#fb9f3a"
             ],
             [
              0.8888888888888888,
              "#fdca26"
             ],
             [
              1,
              "#f0f921"
             ]
            ],
            "type": "surface"
           }
          ],
          "table": [
           {
            "cells": {
             "fill": {
              "color": "#EBF0F8"
             },
             "line": {
              "color": "white"
             }
            },
            "header": {
             "fill": {
              "color": "#C8D4E3"
             },
             "line": {
              "color": "white"
             }
            },
            "type": "table"
           }
          ]
         },
         "layout": {
          "annotationdefaults": {
           "arrowcolor": "#2a3f5f",
           "arrowhead": 0,
           "arrowwidth": 1
          },
          "autotypenumbers": "strict",
          "coloraxis": {
           "colorbar": {
            "outlinewidth": 0,
            "ticks": ""
           }
          },
          "colorscale": {
           "diverging": [
            [
             0,
             "#8e0152"
            ],
            [
             0.1,
             "#c51b7d"
            ],
            [
             0.2,
             "#de77ae"
            ],
            [
             0.3,
             "#f1b6da"
            ],
            [
             0.4,
             "#fde0ef"
            ],
            [
             0.5,
             "#f7f7f7"
            ],
            [
             0.6,
             "#e6f5d0"
            ],
            [
             0.7,
             "#b8e186"
            ],
            [
             0.8,
             "#7fbc41"
            ],
            [
             0.9,
             "#4d9221"
            ],
            [
             1,
             "#276419"
            ]
           ],
           "sequential": [
            [
             0,
             "#0d0887"
            ],
            [
             0.1111111111111111,
             "#46039f"
            ],
            [
             0.2222222222222222,
             "#7201a8"
            ],
            [
             0.3333333333333333,
             "#9c179e"
            ],
            [
             0.4444444444444444,
             "#bd3786"
            ],
            [
             0.5555555555555556,
             "#d8576b"
            ],
            [
             0.6666666666666666,
             "#ed7953"
            ],
            [
             0.7777777777777778,
             "#fb9f3a"
            ],
            [
             0.8888888888888888,
             "#fdca26"
            ],
            [
             1,
             "#f0f921"
            ]
           ],
           "sequentialminus": [
            [
             0,
             "#0d0887"
            ],
            [
             0.1111111111111111,
             "#46039f"
            ],
            [
             0.2222222222222222,
             "#7201a8"
            ],
            [
             0.3333333333333333,
             "#9c179e"
            ],
            [
             0.4444444444444444,
             "#bd3786"
            ],
            [
             0.5555555555555556,
             "#d8576b"
            ],
            [
             0.6666666666666666,
             "#ed7953"
            ],
            [
             0.7777777777777778,
             "#fb9f3a"
            ],
            [
             0.8888888888888888,
             "#fdca26"
            ],
            [
             1,
             "#f0f921"
            ]
           ]
          },
          "colorway": [
           "#636efa",
           "#EF553B",
           "#00cc96",
           "#ab63fa",
           "#FFA15A",
           "#19d3f3",
           "#FF6692",
           "#B6E880",
           "#FF97FF",
           "#FECB52"
          ],
          "font": {
           "color": "#2a3f5f"
          },
          "geo": {
           "bgcolor": "white",
           "lakecolor": "white",
           "landcolor": "#E5ECF6",
           "showlakes": true,
           "showland": true,
           "subunitcolor": "white"
          },
          "hoverlabel": {
           "align": "left"
          },
          "hovermode": "closest",
          "mapbox": {
           "style": "light"
          },
          "paper_bgcolor": "white",
          "plot_bgcolor": "#E5ECF6",
          "polar": {
           "angularaxis": {
            "gridcolor": "white",
            "linecolor": "white",
            "ticks": ""
           },
           "bgcolor": "#E5ECF6",
           "radialaxis": {
            "gridcolor": "white",
            "linecolor": "white",
            "ticks": ""
           }
          },
          "scene": {
           "xaxis": {
            "backgroundcolor": "#E5ECF6",
            "gridcolor": "white",
            "gridwidth": 2,
            "linecolor": "white",
            "showbackground": true,
            "ticks": "",
            "zerolinecolor": "white"
           },
           "yaxis": {
            "backgroundcolor": "#E5ECF6",
            "gridcolor": "white",
            "gridwidth": 2,
            "linecolor": "white",
            "showbackground": true,
            "ticks": "",
            "zerolinecolor": "white"
           },
           "zaxis": {
            "backgroundcolor": "#E5ECF6",
            "gridcolor": "white",
            "gridwidth": 2,
            "linecolor": "white",
            "showbackground": true,
            "ticks": "",
            "zerolinecolor": "white"
           }
          },
          "shapedefaults": {
           "line": {
            "color": "#2a3f5f"
           }
          },
          "ternary": {
           "aaxis": {
            "gridcolor": "white",
            "linecolor": "white",
            "ticks": ""
           },
           "baxis": {
            "gridcolor": "white",
            "linecolor": "white",
            "ticks": ""
           },
           "bgcolor": "#E5ECF6",
           "caxis": {
            "gridcolor": "white",
            "linecolor": "white",
            "ticks": ""
           }
          },
          "title": {
           "x": 0.05
          },
          "xaxis": {
           "automargin": true,
           "gridcolor": "white",
           "linecolor": "white",
           "ticks": "",
           "title": {
            "standoff": 15
           },
           "zerolinecolor": "white",
           "zerolinewidth": 2
          },
          "yaxis": {
           "automargin": true,
           "gridcolor": "white",
           "linecolor": "white",
           "ticks": "",
           "title": {
            "standoff": 15
           },
           "zerolinecolor": "white",
           "zerolinewidth": 2
          }
         }
        },
        "xaxis": {
         "anchor": "y",
         "domain": [
          0,
          1
         ],
         "title": {
          "text": "DMD:0"
         }
        },
        "yaxis": {
         "anchor": "x",
         "domain": [
          0,
          1
         ],
         "title": {
          "text": "DMD:1"
         }
        }
       }
      },
      "text/html": [
       "<div>                            <div id=\"7ed552ab-e6de-4704-b10a-ee2aad668f1b\" class=\"plotly-graph-div\" style=\"height:525px; width:100%;\"></div>            <script type=\"text/javascript\">                require([\"plotly\"], function(Plotly) {                    window.PLOTLYENV=window.PLOTLYENV || {};                                    if (document.getElementById(\"7ed552ab-e6de-4704-b10a-ee2aad668f1b\")) {                    Plotly.newPlot(                        \"7ed552ab-e6de-4704-b10a-ee2aad668f1b\",                        [{\"hovertemplate\":\"Architecture=pythia-14m<br>DMD:0=%{x}<br>DMD:1=%{y}<br>Layer=%{marker.color}<extra></extra>\",\"legendgroup\":\"pythia-14m\",\"marker\":{\"color\":[0,1,2,3,4,5],\"coloraxis\":\"coloraxis\",\"symbol\":\"circle\"},\"mode\":\"markers\",\"name\":\"pythia-14m\",\"orientation\":\"v\",\"showlegend\":true,\"x\":[0.1424136598697263,0.09619073392919056,-0.15443056721639103,-0.24750375457717558,-0.1829623479280358,0.34629227592268613],\"xaxis\":\"x\",\"y\":[-0.3772934149509007,-0.11357570833924979,0.05384343137535727,0.12671618462102502,0.4707554466434718,-0.1604459393497038],\"yaxis\":\"y\",\"type\":\"scatter\"}],                        {\"template\":{\"data\":{\"histogram2dcontour\":[{\"type\":\"histogram2dcontour\",\"colorbar\":{\"outlinewidth\":0,\"ticks\":\"\"},\"colorscale\":[[0.0,\"#0d0887\"],[0.1111111111111111,\"#46039f\"],[0.2222222222222222,\"#7201a8\"],[0.3333333333333333,\"#9c179e\"],[0.4444444444444444,\"#bd3786\"],[0.5555555555555556,\"#d8576b\"],[0.6666666666666666,\"#ed7953\"],[0.7777777777777778,\"#fb9f3a\"],[0.8888888888888888,\"#fdca26\"],[1.0,\"#f0f921\"]]}],\"choropleth\":[{\"type\":\"choropleth\",\"colorbar\":{\"outlinewidth\":0,\"ticks\":\"\"}}],\"histogram2d\":[{\"type\":\"histogram2d\",\"colorbar\":{\"outlinewidth\":0,\"ticks\":\"\"},\"colorscale\":[[0.0,\"#0d0887\"],[0.1111111111111111,\"#46039f\"],[0.2222222222222222,\"#7201a8\"],[0.3333333333333333,\"#9c179e\"],[0.4444444444444444,\"#bd3786\"],[0.5555555555555556,\"#d8576b\"],[0.6666666666666666,\"#ed7953\"],[0.7777777777777778,\"#fb9f3a\"],[0.8888888888888888,\"#fdca26\"],[1.0,\"#f0f921\"]]}],\"heatmap\":[{\"type\":\"heatmap\",\"colorbar\":{\"outlinewidth\":0,\"ticks\":\"\"},\"colorscale\":[[0.0,\"#0d0887\"],[0.1111111111111111,\"#46039f\"],[0.2222222222222222,\"#7201a8\"],[0.3333333333333333,\"#9c179e\"],[0.4444444444444444,\"#bd3786\"],[0.5555555555555556,\"#d8576b\"],[0.6666666666666666,\"#ed7953\"],[0.7777777777777778,\"#fb9f3a\"],[0.8888888888888888,\"#fdca26\"],[1.0,\"#f0f921\"]]}],\"heatmapgl\":[{\"type\":\"heatmapgl\",\"colorbar\":{\"outlinewidth\":0,\"ticks\":\"\"},\"colorscale\":[[0.0,\"#0d0887\"],[0.1111111111111111,\"#46039f\"],[0.2222222222222222,\"#7201a8\"],[0.3333333333333333,\"#9c179e\"],[0.4444444444444444,\"#bd3786\"],[0.5555555555555556,\"#d8576b\"],[0.6666666666666666,\"#ed7953\"],[0.7777777777777778,\"#fb9f3a\"],[0.8888888888888888,\"#fdca26\"],[1.0,\"#f0f921\"]]}],\"contourcarpet\":[{\"type\":\"contourcarpet\",\"colorbar\":{\"outlinewidth\":0,\"ticks\":\"\"}}],\"contour\":[{\"type\":\"contour\",\"colorbar\":{\"outlinewidth\":0,\"ticks\":\"\"},\"colorscale\":[[0.0,\"#0d0887\"],[0.1111111111111111,\"#46039f\"],[0.2222222222222222,\"#7201a8\"],[0.3333333333333333,\"#9c179e\"],[0.4444444444444444,\"#bd3786\"],[0.5555555555555556,\"#d8576b\"],[0.6666666666666666,\"#ed7953\"],[0.7777777777777778,\"#fb9f3a\"],[0.8888888888888888,\"#fdca26\"],[1.0,\"#f0f921\"]]}],\"surface\":[{\"type\":\"surface\",\"colorbar\":{\"outlinewidth\":0,\"ticks\":\"\"},\"colorscale\":[[0.0,\"#0d0887\"],[0.1111111111111111,\"#46039f\"],[0.2222222222222222,\"#7201a8\"],[0.3333333333333333,\"#9c179e\"],[0.4444444444444444,\"#bd3786\"],[0.5555555555555556,\"#d8576b\"],[0.6666666666666666,\"#ed7953\"],[0.7777777777777778,\"#fb9f3a\"],[0.8888888888888888,\"#fdca26\"],[1.0,\"#f0f921\"]]}],\"mesh3d\":[{\"type\":\"mesh3d\",\"colorbar\":{\"outlinewidth\":0,\"ticks\":\"\"}}],\"scatter\":[{\"fillpattern\":{\"fillmode\":\"overlay\",\"size\":10,\"solidity\":0.2},\"type\":\"scatter\"}],\"parcoords\":[{\"type\":\"parcoords\",\"line\":{\"colorbar\":{\"outlinewidth\":0,\"ticks\":\"\"}}}],\"scatterpolargl\":[{\"type\":\"scatterpolargl\",\"marker\":{\"colorbar\":{\"outlinewidth\":0,\"ticks\":\"\"}}}],\"bar\":[{\"error_x\":{\"color\":\"#2a3f5f\"},\"error_y\":{\"color\":\"#2a3f5f\"},\"marker\":{\"line\":{\"color\":\"#E5ECF6\",\"width\":0.5},\"pattern\":{\"fillmode\":\"overlay\",\"size\":10,\"solidity\":0.2}},\"type\":\"bar\"}],\"scattergeo\":[{\"type\":\"scattergeo\",\"marker\":{\"colorbar\":{\"outlinewidth\":0,\"ticks\":\"\"}}}],\"scatterpolar\":[{\"type\":\"scatterpolar\",\"marker\":{\"colorbar\":{\"outlinewidth\":0,\"ticks\":\"\"}}}],\"histogram\":[{\"marker\":{\"pattern\":{\"fillmode\":\"overlay\",\"size\":10,\"solidity\":0.2}},\"type\":\"histogram\"}],\"scattergl\":[{\"type\":\"scattergl\",\"marker\":{\"colorbar\":{\"outlinewidth\":0,\"ticks\":\"\"}}}],\"scatter3d\":[{\"type\":\"scatter3d\",\"line\":{\"colorbar\":{\"outlinewidth\":0,\"ticks\":\"\"}},\"marker\":{\"colorbar\":{\"outlinewidth\":0,\"ticks\":\"\"}}}],\"scattermapbox\":[{\"type\":\"scattermapbox\",\"marker\":{\"colorbar\":{\"outlinewidth\":0,\"ticks\":\"\"}}}],\"scatterternary\":[{\"type\":\"scatterternary\",\"marker\":{\"colorbar\":{\"outlinewidth\":0,\"ticks\":\"\"}}}],\"scattercarpet\":[{\"type\":\"scattercarpet\",\"marker\":{\"colorbar\":{\"outlinewidth\":0,\"ticks\":\"\"}}}],\"carpet\":[{\"aaxis\":{\"endlinecolor\":\"#2a3f5f\",\"gridcolor\":\"white\",\"linecolor\":\"white\",\"minorgridcolor\":\"white\",\"startlinecolor\":\"#2a3f5f\"},\"baxis\":{\"endlinecolor\":\"#2a3f5f\",\"gridcolor\":\"white\",\"linecolor\":\"white\",\"minorgridcolor\":\"white\",\"startlinecolor\":\"#2a3f5f\"},\"type\":\"carpet\"}],\"table\":[{\"cells\":{\"fill\":{\"color\":\"#EBF0F8\"},\"line\":{\"color\":\"white\"}},\"header\":{\"fill\":{\"color\":\"#C8D4E3\"},\"line\":{\"color\":\"white\"}},\"type\":\"table\"}],\"barpolar\":[{\"marker\":{\"line\":{\"color\":\"#E5ECF6\",\"width\":0.5},\"pattern\":{\"fillmode\":\"overlay\",\"size\":10,\"solidity\":0.2}},\"type\":\"barpolar\"}],\"pie\":[{\"automargin\":true,\"type\":\"pie\"}]},\"layout\":{\"autotypenumbers\":\"strict\",\"colorway\":[\"#636efa\",\"#EF553B\",\"#00cc96\",\"#ab63fa\",\"#FFA15A\",\"#19d3f3\",\"#FF6692\",\"#B6E880\",\"#FF97FF\",\"#FECB52\"],\"font\":{\"color\":\"#2a3f5f\"},\"hovermode\":\"closest\",\"hoverlabel\":{\"align\":\"left\"},\"paper_bgcolor\":\"white\",\"plot_bgcolor\":\"#E5ECF6\",\"polar\":{\"bgcolor\":\"#E5ECF6\",\"angularaxis\":{\"gridcolor\":\"white\",\"linecolor\":\"white\",\"ticks\":\"\"},\"radialaxis\":{\"gridcolor\":\"white\",\"linecolor\":\"white\",\"ticks\":\"\"}},\"ternary\":{\"bgcolor\":\"#E5ECF6\",\"aaxis\":{\"gridcolor\":\"white\",\"linecolor\":\"white\",\"ticks\":\"\"},\"baxis\":{\"gridcolor\":\"white\",\"linecolor\":\"white\",\"ticks\":\"\"},\"caxis\":{\"gridcolor\":\"white\",\"linecolor\":\"white\",\"ticks\":\"\"}},\"coloraxis\":{\"colorbar\":{\"outlinewidth\":0,\"ticks\":\"\"}},\"colorscale\":{\"sequential\":[[0.0,\"#0d0887\"],[0.1111111111111111,\"#46039f\"],[0.2222222222222222,\"#7201a8\"],[0.3333333333333333,\"#9c179e\"],[0.4444444444444444,\"#bd3786\"],[0.5555555555555556,\"#d8576b\"],[0.6666666666666666,\"#ed7953\"],[0.7777777777777778,\"#fb9f3a\"],[0.8888888888888888,\"#fdca26\"],[1.0,\"#f0f921\"]],\"sequentialminus\":[[0.0,\"#0d0887\"],[0.1111111111111111,\"#46039f\"],[0.2222222222222222,\"#7201a8\"],[0.3333333333333333,\"#9c179e\"],[0.4444444444444444,\"#bd3786\"],[0.5555555555555556,\"#d8576b\"],[0.6666666666666666,\"#ed7953\"],[0.7777777777777778,\"#fb9f3a\"],[0.8888888888888888,\"#fdca26\"],[1.0,\"#f0f921\"]],\"diverging\":[[0,\"#8e0152\"],[0.1,\"#c51b7d\"],[0.2,\"#de77ae\"],[0.3,\"#f1b6da\"],[0.4,\"#fde0ef\"],[0.5,\"#f7f7f7\"],[0.6,\"#e6f5d0\"],[0.7,\"#b8e186\"],[0.8,\"#7fbc41\"],[0.9,\"#4d9221\"],[1,\"#276419\"]]},\"xaxis\":{\"gridcolor\":\"white\",\"linecolor\":\"white\",\"ticks\":\"\",\"title\":{\"standoff\":15},\"zerolinecolor\":\"white\",\"automargin\":true,\"zerolinewidth\":2},\"yaxis\":{\"gridcolor\":\"white\",\"linecolor\":\"white\",\"ticks\":\"\",\"title\":{\"standoff\":15},\"zerolinecolor\":\"white\",\"automargin\":true,\"zerolinewidth\":2},\"scene\":{\"xaxis\":{\"backgroundcolor\":\"#E5ECF6\",\"gridcolor\":\"white\",\"linecolor\":\"white\",\"showbackground\":true,\"ticks\":\"\",\"zerolinecolor\":\"white\",\"gridwidth\":2},\"yaxis\":{\"backgroundcolor\":\"#E5ECF6\",\"gridcolor\":\"white\",\"linecolor\":\"white\",\"showbackground\":true,\"ticks\":\"\",\"zerolinecolor\":\"white\",\"gridwidth\":2},\"zaxis\":{\"backgroundcolor\":\"#E5ECF6\",\"gridcolor\":\"white\",\"linecolor\":\"white\",\"showbackground\":true,\"ticks\":\"\",\"zerolinecolor\":\"white\",\"gridwidth\":2}},\"shapedefaults\":{\"line\":{\"color\":\"#2a3f5f\"}},\"annotationdefaults\":{\"arrowcolor\":\"#2a3f5f\",\"arrowhead\":0,\"arrowwidth\":1},\"geo\":{\"bgcolor\":\"white\",\"landcolor\":\"#E5ECF6\",\"subunitcolor\":\"white\",\"showland\":true,\"showlakes\":true,\"lakecolor\":\"white\"},\"title\":{\"x\":0.05},\"mapbox\":{\"style\":\"light\"}}},\"xaxis\":{\"anchor\":\"y\",\"domain\":[0.0,1.0],\"title\":{\"text\":\"DMD:0\"}},\"yaxis\":{\"anchor\":\"x\",\"domain\":[0.0,1.0],\"title\":{\"text\":\"DMD:1\"}},\"coloraxis\":{\"colorbar\":{\"title\":{\"text\":\"Layer\"}},\"colorscale\":[[0.0,\"#0d0887\"],[0.1111111111111111,\"#46039f\"],[0.2222222222222222,\"#7201a8\"],[0.3333333333333333,\"#9c179e\"],[0.4444444444444444,\"#bd3786\"],[0.5555555555555556,\"#d8576b\"],[0.6666666666666666,\"#ed7953\"],[0.7777777777777778,\"#fb9f3a\"],[0.8888888888888888,\"#fdca26\"],[1.0,\"#f0f921\"]]},\"legend\":{\"title\":{\"text\":\"Architecture\"},\"tracegroupgap\":0},\"margin\":{\"t\":60}},                        {\"responsive\": true}                    ).then(function(){\n",
       "                            \n",
       "var gd = document.getElementById('7ed552ab-e6de-4704-b10a-ee2aad668f1b');\n",
       "var x = new MutationObserver(function (mutations, observer) {{\n",
       "        var display = window.getComputedStyle(gd).display;\n",
       "        if (!display || display === 'none') {{\n",
       "            console.log([gd, 'removed!']);\n",
       "            Plotly.purge(gd);\n",
       "            observer.disconnect();\n",
       "        }}\n",
       "}});\n",
       "\n",
       "// Listen for the removal of the full notebook cells\n",
       "var notebookContainer = gd.closest('#notebook-container');\n",
       "if (notebookContainer) {{\n",
       "    x.observe(notebookContainer, {childList: true});\n",
       "}}\n",
       "\n",
       "// Listen for the clearing of the current output cell\n",
       "var outputEl = gd.closest('.output');\n",
       "if (outputEl) {{\n",
       "    x.observe(outputEl, {childList: true});\n",
       "}}\n",
       "\n",
       "                        })                };                });            </script>        </div>"
      ]
     },
     "metadata": {},
     "output_type": "display_data"
    }
   ],
   "source": [
    "fig = px.scatter(mds_df, x=\"DMD:0\", y=\"DMD:1\", color='Layer', symbol='Architecture')\n",
    "fig.show()"
   ]
  },
  {
   "cell_type": "code",
   "execution_count": 4,
   "metadata": {},
   "outputs": [
    {
     "name": "stdout",
     "output_type": "stream",
     "text": [
      "Unexpected exception formatting exception. Falling back to standard exception\n"
     ]
    },
    {
     "name": "stderr",
     "output_type": "stream",
     "text": [
      "Traceback (most recent call last):\n",
      "  File \"/home/jsalle/.conda/envs/p11/lib/python3.11/site-packages/IPython/core/interactiveshell.py\", line 3550, in run_code\n",
      "    exec(code_obj, self.user_global_ns, self.user_ns)\n",
      "  File \"/tmp/ipykernel_1086785/231971561.py\", line 6, in <module>\n",
      "    models, model_types = get_residual_stream_activations_for_layer_wise_dmd(model_name,\n",
      "                          ^^^^^^^^^^^^^^^^^^^^^^^^^^^^^^^^^^^^^^^^^^^^^^^^^^^^^^^^^^^^^^\n",
      "  File \"/scratch2/jsalle/DSA/activations.py\", line 61, in get_residual_stream_activations_for_layer_wise_dmd\n",
      "  File \"/scratch2/jsalle/DSA/models.py\", line 42, in get_model_from_name\n",
      "    def get_model_from_name(model_name: str):\n",
      "            ^^^^^^^^^^^^^^^^^^^^^^^^^^^^^^^^^^\n",
      "ValueError: Unsupported model: Mistral-7.\n",
      "\n",
      "During handling of the above exception, another exception occurred:\n",
      "\n",
      "Traceback (most recent call last):\n",
      "  File \"/home/jsalle/.conda/envs/p11/lib/python3.11/site-packages/IPython/core/interactiveshell.py\", line 2144, in showtraceback\n",
      "    stb = self.InteractiveTB.structured_traceback(\n",
      "          ^^^^^^^^^^^^^^^^^^^^^^^^^^^^^^^^^^^^^^^^\n",
      "  File \"/home/jsalle/.conda/envs/p11/lib/python3.11/site-packages/IPython/core/ultratb.py\", line 1435, in structured_traceback\n",
      "    return FormattedTB.structured_traceback(\n",
      "           ^^^^^^^^^^^^^^^^^^^^^^^^^^^^^^^^^\n",
      "  File \"/home/jsalle/.conda/envs/p11/lib/python3.11/site-packages/IPython/core/ultratb.py\", line 1326, in structured_traceback\n",
      "    return VerboseTB.structured_traceback(\n",
      "           ^^^^^^^^^^^^^^^^^^^^^^^^^^^^^^^\n",
      "  File \"/home/jsalle/.conda/envs/p11/lib/python3.11/site-packages/IPython/core/ultratb.py\", line 1173, in structured_traceback\n",
      "    formatted_exception = self.format_exception_as_a_whole(etype, evalue, etb, number_of_lines_of_context,\n",
      "                          ^^^^^^^^^^^^^^^^^^^^^^^^^^^^^^^^^^^^^^^^^^^^^^^^^^^^^^^^^^^^^^^^^^^^^^^^^^^^^^^^\n",
      "  File \"/home/jsalle/.conda/envs/p11/lib/python3.11/site-packages/IPython/core/ultratb.py\", line 1088, in format_exception_as_a_whole\n",
      "    frames.append(self.format_record(record))\n",
      "                  ^^^^^^^^^^^^^^^^^^^^^^^^^^\n",
      "  File \"/home/jsalle/.conda/envs/p11/lib/python3.11/site-packages/IPython/core/ultratb.py\", line 970, in format_record\n",
      "    frame_info.lines, Colors, self.has_colors, lvals\n",
      "    ^^^^^^^^^^^^^^^^\n",
      "  File \"/home/jsalle/.conda/envs/p11/lib/python3.11/site-packages/IPython/core/ultratb.py\", line 792, in lines\n",
      "    return self._sd.lines\n",
      "           ^^^^^^^^^^^^^^\n",
      "  File \"/home/jsalle/.conda/envs/p11/lib/python3.11/site-packages/stack_data/utils.py\", line 144, in cached_property_wrapper\n",
      "    value = obj.__dict__[self.func.__name__] = self.func(obj)\n",
      "                                               ^^^^^^^^^^^^^^\n",
      "  File \"/home/jsalle/.conda/envs/p11/lib/python3.11/site-packages/stack_data/core.py\", line 734, in lines\n",
      "    pieces = self.included_pieces\n",
      "             ^^^^^^^^^^^^^^^^^^^^\n",
      "  File \"/home/jsalle/.conda/envs/p11/lib/python3.11/site-packages/stack_data/utils.py\", line 144, in cached_property_wrapper\n",
      "    value = obj.__dict__[self.func.__name__] = self.func(obj)\n",
      "                                               ^^^^^^^^^^^^^^\n",
      "  File \"/home/jsalle/.conda/envs/p11/lib/python3.11/site-packages/stack_data/core.py\", line 681, in included_pieces\n",
      "    pos = scope_pieces.index(self.executing_piece)\n",
      "                             ^^^^^^^^^^^^^^^^^^^^\n",
      "  File \"/home/jsalle/.conda/envs/p11/lib/python3.11/site-packages/stack_data/utils.py\", line 144, in cached_property_wrapper\n",
      "    value = obj.__dict__[self.func.__name__] = self.func(obj)\n",
      "                                               ^^^^^^^^^^^^^^\n",
      "  File \"/home/jsalle/.conda/envs/p11/lib/python3.11/site-packages/stack_data/core.py\", line 660, in executing_piece\n",
      "    return only(\n",
      "           ^^^^^\n",
      "  File \"/home/jsalle/.conda/envs/p11/lib/python3.11/site-packages/executing/executing.py\", line 116, in only\n",
      "    raise NotOneValueFound('Expected one value, found 0')\n",
      "executing.executing.NotOneValueFound: Expected one value, found 0\n"
     ]
    }
   ],
   "source": [
    "models_names = ['Mistral-7'] #['gpt2-small', 'gpt2-medium', 'pythia-70m', 'pythia-1b', 'pythia-2.8b', 'bert-base-uncased']\n",
    "models = []\n",
    "model_types = []\n",
    "\n",
    "for i, model_name in enumerate(models_names):\n",
    "    models, model_types = get_residual_stream_activations_for_layer_wise_dmd(model_name,\n",
    "                                                                             models,\n",
    "                                                                             model_types,\n",
    "                                                                             n_samples=1)\n",
    "    \n",
    "sims_dmd, model_types, mds_df = apply_dmd(models, \n",
    "                                  model_types, \n",
    "                                  device=device,\n",
    "                                  n_delays=15,\n",
    "                                  rank=5,\n",
    "                                  fig_file_name='mistral-7b_wikitext-103')"
   ]
  },
  {
   "cell_type": "code",
   "execution_count": null,
   "metadata": {},
   "outputs": [],
   "source": [
    "mds_df.to_pickle(\"../data/mistral-7b_wikitext-103.pkl\")"
   ]
  },
  {
   "cell_type": "code",
   "execution_count": null,
   "metadata": {},
   "outputs": [],
   "source": []
  }
 ],
 "metadata": {
  "kernelspec": {
   "display_name": "p11",
   "language": "python",
   "name": "python3"
  },
  "language_info": {
   "codemirror_mode": {
    "name": "ipython",
    "version": 3
   },
   "file_extension": ".py",
   "mimetype": "text/x-python",
   "name": "python",
   "nbconvert_exporter": "python",
   "pygments_lexer": "ipython3",
   "version": "3.11.5"
  }
 },
 "nbformat": 4,
 "nbformat_minor": 2
}
